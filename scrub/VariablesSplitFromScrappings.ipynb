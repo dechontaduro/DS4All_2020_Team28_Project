{
 "cells": [
  {
   "cell_type": "code",
   "execution_count": 1,
   "metadata": {},
   "outputs": [],
   "source": [
    "import os\n",
    "import pandas as pd"
   ]
  },
  {
   "cell_type": "code",
   "execution_count": 2,
   "metadata": {},
   "outputs": [],
   "source": [
    "## Definir archivos para extraer las variables"
   ]
  },
  {
   "cell_type": "code",
   "execution_count": 2,
   "metadata": {},
   "outputs": [],
   "source": [
    "variable_path_base = r'../data/variables'\n",
    "variable_files_extract = ['pluviografica_PTPM_CON_res.zip', 'pluviografica_res.zip', 'pluviometrica_res.zip']\n",
    "variable_files_extract = ['climatica_principal_res.zip', 'climatica_ordinaria_res.zip']\n",
    "#variable_files_extract = ['limnigrafica_PT_10_TT_D_res.zip', 'limnigrafica_res.zip', 'limnimetrica_res.zip']"
   ]
  },
  {
   "cell_type": "code",
   "execution_count": 3,
   "metadata": {},
   "outputs": [
    {
     "data": {
      "text/plain": [
       "['..\\\\data\\\\variables\\\\climatica_principal_res.zip',\n",
       " '..\\\\data\\\\variables\\\\climatica_ordinaria_res.zip']"
      ]
     },
     "execution_count": 3,
     "metadata": {},
     "output_type": "execute_result"
    }
   ],
   "source": [
    "variable_path_base = os.path.join(*variable_path_base.split('/'))\n",
    "variable_path_files_extract = [os.path.join(variable_path_base, f) for f in variable_files_extract]\n",
    "variable_path_files_extract\n",
    "#variable_files_path = f'{profiles_path_base}/*{profile_variable}_estacion_year.csv'\n",
    "#print('Perfiles:', profile_files_path)"
   ]
  },
  {
   "cell_type": "markdown",
   "metadata": {},
   "source": [
    "## Configurar qué columnas y con qué tipos de datos se cargaran"
   ]
  },
  {
   "cell_type": "code",
   "execution_count": 4,
   "metadata": {},
   "outputs": [],
   "source": [
    "dtypes = {\n",
    "    #'CodigoEstacion':'category',\n",
    "    #'IdParametro':'category',\n",
    "    #'Etiqueta':'category',\n",
    "    #'DescripcionSerie':'category',\n",
    "    #'Frecuencia':'category',\n",
    "    #'Grado':'category',\n",
    "    #'Calificador':'category',\n",
    "    #'NivelAprobacion':'category',\n",
    "    'Fecha': 'string',\n",
    "}\n",
    "\n",
    "usecols = {\n",
    "    'CodigoEstacion',\n",
    "    #'IdParametro',\n",
    "    'Etiqueta',\n",
    "    #'DescripcionSerie',\n",
    "    #'Frecuencia',\n",
    "    'Fecha',\n",
    "    'Valor'\n",
    "    #'Grado',\n",
    "    #'Calificador',\n",
    "    #'NivelAprobacion'\n",
    "}"
   ]
  },
  {
   "cell_type": "code",
   "execution_count": 5,
   "metadata": {},
   "outputs": [],
   "source": [
    "df = pd.concat([pd.read_csv(f, dtype = dtypes, usecols = usecols) for f in variable_path_files_extract], axis = 0)"
   ]
  },
  {
   "cell_type": "code",
   "execution_count": 6,
   "metadata": {},
   "outputs": [],
   "source": [
    "df['CodigoEstacion'] = df['CodigoEstacion'].astype('category')\n",
    "df['Etiqueta'] = df['Etiqueta'].astype('category')"
   ]
  },
  {
   "cell_type": "code",
   "execution_count": 7,
   "metadata": {},
   "outputs": [
    {
     "name": "stdout",
     "output_type": "stream",
     "text": [
      "(5230470, 4)\n",
      "Index(['TMN_CON', 'TMX_CON'], dtype='object')\n",
      "CodigoEstacion    category\n",
      "Etiqueta          category\n",
      "Fecha               string\n",
      "Valor              float64\n",
      "dtype: object\n",
      "<class 'pandas.core.frame.DataFrame'>\n",
      "Int64Index: 5230470 entries, 0 to 3990275\n",
      "Data columns (total 4 columns):\n",
      " #   Column          Dtype   \n",
      "---  ------          -----   \n",
      " 0   CodigoEstacion  category\n",
      " 1   Etiqueta        category\n",
      " 2   Fecha           string  \n",
      " 3   Valor           float64 \n",
      "dtypes: category(2), float64(1), string(1)\n",
      "memory usage: 134.7 MB\n",
      "None\n"
     ]
    },
    {
     "data": {
      "text/html": [
       "<div>\n",
       "<style scoped>\n",
       "    .dataframe tbody tr th:only-of-type {\n",
       "        vertical-align: middle;\n",
       "    }\n",
       "\n",
       "    .dataframe tbody tr th {\n",
       "        vertical-align: top;\n",
       "    }\n",
       "\n",
       "    .dataframe thead th {\n",
       "        text-align: right;\n",
       "    }\n",
       "</style>\n",
       "<table border=\"1\" class=\"dataframe\">\n",
       "  <thead>\n",
       "    <tr style=\"text-align: right;\">\n",
       "      <th></th>\n",
       "      <th>CodigoEstacion</th>\n",
       "      <th>Etiqueta</th>\n",
       "      <th>Fecha</th>\n",
       "      <th>Valor</th>\n",
       "    </tr>\n",
       "  </thead>\n",
       "  <tbody>\n",
       "    <tr>\n",
       "      <th>0</th>\n",
       "      <td>12045010</td>\n",
       "      <td>TMN_CON</td>\n",
       "      <td>1991-01-01</td>\n",
       "      <td>20.8</td>\n",
       "    </tr>\n",
       "    <tr>\n",
       "      <th>1</th>\n",
       "      <td>12045010</td>\n",
       "      <td>TMN_CON</td>\n",
       "      <td>1991-01-02</td>\n",
       "      <td>24.2</td>\n",
       "    </tr>\n",
       "    <tr>\n",
       "      <th>2</th>\n",
       "      <td>12045010</td>\n",
       "      <td>TMN_CON</td>\n",
       "      <td>1991-01-03</td>\n",
       "      <td>22.2</td>\n",
       "    </tr>\n",
       "    <tr>\n",
       "      <th>3</th>\n",
       "      <td>12045010</td>\n",
       "      <td>TMN_CON</td>\n",
       "      <td>1991-01-04</td>\n",
       "      <td>21.2</td>\n",
       "    </tr>\n",
       "    <tr>\n",
       "      <th>4</th>\n",
       "      <td>12045010</td>\n",
       "      <td>TMN_CON</td>\n",
       "      <td>1991-01-05</td>\n",
       "      <td>20.0</td>\n",
       "    </tr>\n",
       "  </tbody>\n",
       "</table>\n",
       "</div>"
      ],
      "text/plain": [
       "  CodigoEstacion Etiqueta       Fecha  Valor\n",
       "0       12045010  TMN_CON  1991-01-01   20.8\n",
       "1       12045010  TMN_CON  1991-01-02   24.2\n",
       "2       12045010  TMN_CON  1991-01-03   22.2\n",
       "3       12045010  TMN_CON  1991-01-04   21.2\n",
       "4       12045010  TMN_CON  1991-01-05   20.0"
      ]
     },
     "execution_count": 7,
     "metadata": {},
     "output_type": "execute_result"
    }
   ],
   "source": [
    "print(df.shape)\n",
    "print(df.Etiqueta.cat.categories)\n",
    "print(df.dtypes)\n",
    "print(df.info())\n",
    "df.head()"
   ]
  },
  {
   "cell_type": "code",
   "execution_count": 8,
   "metadata": {},
   "outputs": [
    {
     "data": {
      "text/html": [
       "<div>\n",
       "<style scoped>\n",
       "    .dataframe tbody tr th:only-of-type {\n",
       "        vertical-align: middle;\n",
       "    }\n",
       "\n",
       "    .dataframe tbody tr th {\n",
       "        vertical-align: top;\n",
       "    }\n",
       "\n",
       "    .dataframe thead th {\n",
       "        text-align: right;\n",
       "    }\n",
       "</style>\n",
       "<table border=\"1\" class=\"dataframe\">\n",
       "  <thead>\n",
       "    <tr style=\"text-align: right;\">\n",
       "      <th></th>\n",
       "      <th>CodigoEstacion</th>\n",
       "      <th>Etiqueta</th>\n",
       "      <th>Fecha</th>\n",
       "      <th>Valor</th>\n",
       "    </tr>\n",
       "  </thead>\n",
       "  <tbody>\n",
       "  </tbody>\n",
       "</table>\n",
       "</div>"
      ],
      "text/plain": [
       "Empty DataFrame\n",
       "Columns: [CodigoEstacion, Etiqueta, Fecha, Valor]\n",
       "Index: []"
      ]
     },
     "execution_count": 8,
     "metadata": {},
     "output_type": "execute_result"
    }
   ],
   "source": [
    "df[df.duplicated([\"CodigoEstacion\",\"Etiqueta\",\"Fecha\",\"Valor\"])]"
   ]
  },
  {
   "cell_type": "code",
   "execution_count": 9,
   "metadata": {},
   "outputs": [
    {
     "name": "stdout",
     "output_type": "stream",
     "text": [
      "TMN_CON guardando en ..\\data\\variables\\var-TMN_CON-climatica_principal_res-climatica_ordinaria_res.csv...\n",
      "*** guardado ***\n",
      "TMX_CON guardando en ..\\data\\variables\\var-TMX_CON-climatica_principal_res-climatica_ordinaria_res.csv...\n",
      "*** guardado ***\n"
     ]
    }
   ],
   "source": [
    "variable_files_extract_processed = '-'.join([f.split('.')[0] for f in variable_files_extract])\n",
    "for e in df.Etiqueta.cat.categories:\n",
    "    p = os.path.join(variable_path_base, f'var-{e}-{variable_files_extract_processed}.csv')\n",
    "    print(f'{e} guardando en {p}...')\n",
    "    df[df.Etiqueta == e].to_csv(p, index = False)\n",
    "    print(f'*** guardado ***')"
   ]
  },
  {
   "cell_type": "code",
   "execution_count": null,
   "metadata": {},
   "outputs": [],
   "source": []
  }
 ],
 "metadata": {
  "kernelspec": {
   "display_name": "Python 3",
   "language": "python",
   "name": "python3"
  },
  "language_info": {
   "codemirror_mode": {
    "name": "ipython",
    "version": 3
   },
   "file_extension": ".py",
   "mimetype": "text/x-python",
   "name": "python",
   "nbconvert_exporter": "python",
   "pygments_lexer": "ipython3",
   "version": "3.8.3"
  }
 },
 "nbformat": 4,
 "nbformat_minor": 4
}
