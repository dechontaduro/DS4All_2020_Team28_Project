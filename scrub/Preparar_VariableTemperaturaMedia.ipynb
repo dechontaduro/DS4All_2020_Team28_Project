{
 "cells": [
  {
   "cell_type": "code",
   "execution_count": 1,
   "metadata": {},
   "outputs": [],
   "source": [
    "import sys  \n",
    "import pandas as pd\n",
    "from datetime import datetime"
   ]
  },
  {
   "cell_type": "code",
   "execution_count": 63,
   "metadata": {},
   "outputs": [],
   "source": [
    "mn_path = r'../data/variables/var-dia-TMN_CON-fill.zip'\n",
    "mx_path = r'../data/variables/var-dia-TMX_CON-fill.zip'\n",
    "cuenca_estacion_path = f'../data/stations/est_cuenca.csv'\n",
    "\n",
    "md_out_path = r'../data/matrix/cuenca_T_MEDIA_CON_M.csv'"
   ]
  },
  {
   "cell_type": "code",
   "execution_count": 4,
   "metadata": {},
   "outputs": [],
   "source": [
    "dtparser = lambda x: datetime.strptime(x, '%Y-%m-%d')\n",
    "usecols = ['CodigoEstacion','Fecha','ValorFilled']\n",
    "indexcols = ['Fecha']\n",
    "df_mn = pd.read_csv(mn_path, parse_dates = ['Fecha'], date_parser = dtparser, usecols = usecols, index_col = indexcols)\n",
    "df_mx = pd.read_csv(mx_path, parse_dates = ['Fecha'], date_parser = dtparser, usecols = usecols, index_col = indexcols)"
   ]
  },
  {
   "cell_type": "code",
   "execution_count": 5,
   "metadata": {},
   "outputs": [],
   "source": [
    "df_mn = df_mn['2000':'2019']\n",
    "df_mx = df_mx['2000':'2019']"
   ]
  },
  {
   "cell_type": "code",
   "execution_count": 6,
   "metadata": {},
   "outputs": [],
   "source": [
    "df_mn = df_mn.reset_index().set_index(['CodigoEstacion', 'Fecha'])\n",
    "df_mx = df_mx.reset_index().set_index(['CodigoEstacion', 'Fecha'])\n",
    "df_mn_mx = pd.concat([df_mn, df_mx], axis = 1)\n",
    "df_mn_mx.columns = ['TMN_CO', 'TMX_CO']"
   ]
  },
  {
   "cell_type": "code",
   "execution_count": 18,
   "metadata": {},
   "outputs": [],
   "source": [
    "df_mn_mx['TMEDIA_CO'] = df_mn_mx.mean(axis = 1)"
   ]
  },
  {
   "cell_type": "code",
   "execution_count": 90,
   "metadata": {},
   "outputs": [
    {
     "data": {
      "text/html": [
       "<div>\n",
       "<style scoped>\n",
       "    .dataframe tbody tr th:only-of-type {\n",
       "        vertical-align: middle;\n",
       "    }\n",
       "\n",
       "    .dataframe tbody tr th {\n",
       "        vertical-align: top;\n",
       "    }\n",
       "\n",
       "    .dataframe thead th {\n",
       "        text-align: right;\n",
       "    }\n",
       "</style>\n",
       "<table border=\"1\" class=\"dataframe\">\n",
       "  <thead>\n",
       "    <tr style=\"text-align: right;\">\n",
       "      <th></th>\n",
       "      <th>codigo</th>\n",
       "      <th>Fecha</th>\n",
       "      <th>TMEDIA_CO</th>\n",
       "    </tr>\n",
       "  </thead>\n",
       "  <tbody>\n",
       "    <tr>\n",
       "      <th>0</th>\n",
       "      <td>11025010</td>\n",
       "      <td>2000-01</td>\n",
       "      <td>16.30</td>\n",
       "    </tr>\n",
       "    <tr>\n",
       "      <th>1</th>\n",
       "      <td>11025010</td>\n",
       "      <td>2000-02</td>\n",
       "      <td>16.40</td>\n",
       "    </tr>\n",
       "    <tr>\n",
       "      <th>2</th>\n",
       "      <td>11025010</td>\n",
       "      <td>2000-03</td>\n",
       "      <td>16.70</td>\n",
       "    </tr>\n",
       "    <tr>\n",
       "      <th>3</th>\n",
       "      <td>11025010</td>\n",
       "      <td>2000-04</td>\n",
       "      <td>16.95</td>\n",
       "    </tr>\n",
       "    <tr>\n",
       "      <th>4</th>\n",
       "      <td>11025010</td>\n",
       "      <td>2000-05</td>\n",
       "      <td>16.80</td>\n",
       "    </tr>\n",
       "  </tbody>\n",
       "</table>\n",
       "</div>"
      ],
      "text/plain": [
       "     codigo    Fecha  TMEDIA_CO\n",
       "0  11025010  2000-01      16.30\n",
       "1  11025010  2000-02      16.40\n",
       "2  11025010  2000-03      16.70\n",
       "3  11025010  2000-04      16.95\n",
       "4  11025010  2000-05      16.80"
      ]
     },
     "execution_count": 90,
     "metadata": {},
     "output_type": "execute_result"
    }
   ],
   "source": [
    "df_mn_mx = df_mn_mx.reset_index()\n",
    "df_mn_mx = df_mn_mx.groupby(['CodigoEstacion', df_mn_mx.Fecha.dt.to_period('M')]).TMEDIA_CO.median().reset_index()\n",
    "df_mn_mx = df_mn_mx.rename(columns = {'CodigoEstacion': 'codigo'})\n",
    "df_mn_mx.head()"
   ]
  },
  {
   "cell_type": "code",
   "execution_count": 92,
   "metadata": {},
   "outputs": [],
   "source": [
    "df_est_cuenca = pd.read_csv(cuenca_estacion_path, dtype = {'CUENCA':'string', 'TMN_EST': 'string'}, usecols = ['CUENCA','TMN_EST'])\n",
    "df_est_cuenca = df_est_cuenca.rename(columns = {'CUENCA':'cuenca', 'TMN_EST': 'codigo'})\n",
    "df_est_cuenca = df_est_cuenca.dropna().groupby(['cuenca','codigo']).count().reset_index()\n",
    "df_est_cuenca['codigo'] = df_est_cuenca['codigo'].astype(int)\n",
    "\n",
    "df_mn_mx = df_mn_mx.merge(df_est_cuenca, on='codigo', how = 'inner' )\n",
    "df_mn_mx = df_mn_mx.drop(df_mn_mx[df_mn_mx.cuenca.isna()].index)\n",
    "df_mn_mx.head()"
   ]
  },
  {
   "cell_type": "code",
   "execution_count": 94,
   "metadata": {},
   "outputs": [],
   "source": [
    "df_mn_mx.to_csv(md_out_path, index = False, date_format = '%Y-%m')"
   ]
  },
  {
   "cell_type": "code",
   "execution_count": 78,
   "metadata": {},
   "outputs": [
    {
     "data": {
      "text/html": [
       "<div>\n",
       "<style scoped>\n",
       "    .dataframe tbody tr th:only-of-type {\n",
       "        vertical-align: middle;\n",
       "    }\n",
       "\n",
       "    .dataframe tbody tr th {\n",
       "        vertical-align: top;\n",
       "    }\n",
       "\n",
       "    .dataframe thead th {\n",
       "        text-align: right;\n",
       "    }\n",
       "</style>\n",
       "<table border=\"1\" class=\"dataframe\">\n",
       "  <thead>\n",
       "    <tr style=\"text-align: right;\">\n",
       "      <th></th>\n",
       "      <th>CodigoEstacion</th>\n",
       "      <th>Fecha</th>\n",
       "      <th>TMN_CO</th>\n",
       "      <th>TMX_CO</th>\n",
       "      <th>TMEDIA_CO</th>\n",
       "    </tr>\n",
       "  </thead>\n",
       "  <tbody>\n",
       "    <tr>\n",
       "      <th>2841645</th>\n",
       "      <td>52055030</td>\n",
       "      <td>2000-01-01</td>\n",
       "      <td>15.8</td>\n",
       "      <td>26.0</td>\n",
       "      <td>20.90</td>\n",
       "    </tr>\n",
       "    <tr>\n",
       "      <th>2841646</th>\n",
       "      <td>52055030</td>\n",
       "      <td>2000-01-02</td>\n",
       "      <td>16.6</td>\n",
       "      <td>25.4</td>\n",
       "      <td>21.00</td>\n",
       "    </tr>\n",
       "    <tr>\n",
       "      <th>2841647</th>\n",
       "      <td>52055030</td>\n",
       "      <td>2000-01-03</td>\n",
       "      <td>14.8</td>\n",
       "      <td>25.5</td>\n",
       "      <td>20.15</td>\n",
       "    </tr>\n",
       "    <tr>\n",
       "      <th>2841648</th>\n",
       "      <td>52055030</td>\n",
       "      <td>2000-01-04</td>\n",
       "      <td>14.2</td>\n",
       "      <td>24.8</td>\n",
       "      <td>19.50</td>\n",
       "    </tr>\n",
       "    <tr>\n",
       "      <th>2841649</th>\n",
       "      <td>52055030</td>\n",
       "      <td>2000-01-05</td>\n",
       "      <td>15.2</td>\n",
       "      <td>24.7</td>\n",
       "      <td>19.95</td>\n",
       "    </tr>\n",
       "    <tr>\n",
       "      <th>...</th>\n",
       "      <td>...</td>\n",
       "      <td>...</td>\n",
       "      <td>...</td>\n",
       "      <td>...</td>\n",
       "      <td>...</td>\n",
       "    </tr>\n",
       "    <tr>\n",
       "      <th>2848945</th>\n",
       "      <td>52055030</td>\n",
       "      <td>2019-12-27</td>\n",
       "      <td>16.7</td>\n",
       "      <td>27.0</td>\n",
       "      <td>21.85</td>\n",
       "    </tr>\n",
       "    <tr>\n",
       "      <th>2848946</th>\n",
       "      <td>52055030</td>\n",
       "      <td>2019-12-28</td>\n",
       "      <td>17.8</td>\n",
       "      <td>25.4</td>\n",
       "      <td>21.60</td>\n",
       "    </tr>\n",
       "    <tr>\n",
       "      <th>2848947</th>\n",
       "      <td>52055030</td>\n",
       "      <td>2019-12-29</td>\n",
       "      <td>15.7</td>\n",
       "      <td>26.8</td>\n",
       "      <td>21.25</td>\n",
       "    </tr>\n",
       "    <tr>\n",
       "      <th>2848948</th>\n",
       "      <td>52055030</td>\n",
       "      <td>2019-12-30</td>\n",
       "      <td>15.7</td>\n",
       "      <td>25.4</td>\n",
       "      <td>20.55</td>\n",
       "    </tr>\n",
       "    <tr>\n",
       "      <th>2848949</th>\n",
       "      <td>52055030</td>\n",
       "      <td>2019-12-31</td>\n",
       "      <td>16.1</td>\n",
       "      <td>23.6</td>\n",
       "      <td>19.85</td>\n",
       "    </tr>\n",
       "  </tbody>\n",
       "</table>\n",
       "<p>7305 rows × 5 columns</p>\n",
       "</div>"
      ],
      "text/plain": [
       "         CodigoEstacion      Fecha  TMN_CO  TMX_CO  TMEDIA_CO\n",
       "2841645        52055030 2000-01-01    15.8    26.0      20.90\n",
       "2841646        52055030 2000-01-02    16.6    25.4      21.00\n",
       "2841647        52055030 2000-01-03    14.8    25.5      20.15\n",
       "2841648        52055030 2000-01-04    14.2    24.8      19.50\n",
       "2841649        52055030 2000-01-05    15.2    24.7      19.95\n",
       "...                 ...        ...     ...     ...        ...\n",
       "2848945        52055030 2019-12-27    16.7    27.0      21.85\n",
       "2848946        52055030 2019-12-28    17.8    25.4      21.60\n",
       "2848947        52055030 2019-12-29    15.7    26.8      21.25\n",
       "2848948        52055030 2019-12-30    15.7    25.4      20.55\n",
       "2848949        52055030 2019-12-31    16.1    23.6      19.85\n",
       "\n",
       "[7305 rows x 5 columns]"
      ]
     },
     "execution_count": 78,
     "metadata": {},
     "output_type": "execute_result"
    }
   ],
   "source": [
    "estacion = 52055030\n",
    "df_mn_mx[(df_mn_mx.CodigoEstacion == estacion) \n",
    "         #& ((df_mn_mx.TMN_CO.notna() & df_mn_mx.TMX_CO.isna())\n",
    "         #   | (df_mn_mx.TMN_CO.isna() & df_mn_mx.TMX_CO.notna()))\n",
    "        ]\n",
    "#dfe = df_mn_mx[(df_mn_mx.CodigoEstacion == estacion)]\n",
    "#dfe.isna().groupby([dfe.Fecha.dt.year, dfe.Fecha.dt.month]).TMN_CO.sum().unstack(level=1)"
   ]
  },
  {
   "cell_type": "code",
   "execution_count": null,
   "metadata": {},
   "outputs": [],
   "source": []
  }
 ],
 "metadata": {
  "kernelspec": {
   "display_name": "Python 3",
   "language": "python",
   "name": "python3"
  },
  "language_info": {
   "codemirror_mode": {
    "name": "ipython",
    "version": 3
   },
   "file_extension": ".py",
   "mimetype": "text/x-python",
   "name": "python",
   "nbconvert_exporter": "python",
   "pygments_lexer": "ipython3",
   "version": "3.8.3"
  }
 },
 "nbformat": 4,
 "nbformat_minor": 4
}
