{
 "cells": [
  {
   "cell_type": "code",
   "execution_count": 1,
   "metadata": {},
   "outputs": [],
   "source": [
    "import pandas            as pd\n",
    "import numpy             as np\n",
    "import seaborn           as sns\n",
    "import matplotlib.pyplot as plt\n",
    "from datetime import datetime"
   ]
  },
  {
   "cell_type": "code",
   "execution_count": 2,
   "metadata": {},
   "outputs": [],
   "source": [
    "in_porcentajes = r'../data/matrix/porcentaje_estPrecip.csv'\n",
    "in_data = r'../data/matrix/PTPM_CON_M.zip'\n",
    "\n",
    "out_path_CANT = r'../data/matrix/cuencaCANT_PTPM_CON_M.csv'\n",
    "out_path = r'../data/matrix/cuenca_PTPM_CON_M.csv'"
   ]
  },
  {
   "cell_type": "code",
   "execution_count": 13,
   "metadata": {},
   "outputs": [
    {
     "data": {
      "text/html": [
       "<div>\n",
       "<style scoped>\n",
       "    .dataframe tbody tr th:only-of-type {\n",
       "        vertical-align: middle;\n",
       "    }\n",
       "\n",
       "    .dataframe tbody tr th {\n",
       "        vertical-align: top;\n",
       "    }\n",
       "\n",
       "    .dataframe thead th {\n",
       "        text-align: right;\n",
       "    }\n",
       "</style>\n",
       "<table border=\"1\" class=\"dataframe\">\n",
       "  <thead>\n",
       "    <tr style=\"text-align: right;\">\n",
       "      <th></th>\n",
       "      <th>CANT</th>\n",
       "      <th>CUENCA</th>\n",
       "      <th>P 80</th>\n",
       "      <th>X</th>\n",
       "      <th>Y</th>\n",
       "      <th>porcentaje</th>\n",
       "    </tr>\n",
       "  </thead>\n",
       "  <tbody>\n",
       "    <tr>\n",
       "      <th>101</th>\n",
       "      <td>48</td>\n",
       "      <td>CUENCA   RIO GUAVIARE - 4</td>\n",
       "      <td>32080010</td>\n",
       "      <td>-73.210000</td>\n",
       "      <td>2.94</td>\n",
       "      <td>0.2685</td>\n",
       "    </tr>\n",
       "    <tr>\n",
       "      <th>102</th>\n",
       "      <td>48</td>\n",
       "      <td>CUENCA   RIO GUAVIARE - 4</td>\n",
       "      <td>32070020</td>\n",
       "      <td>-73.516667</td>\n",
       "      <td>3.25</td>\n",
       "      <td>0.2554</td>\n",
       "    </tr>\n",
       "  </tbody>\n",
       "</table>\n",
       "</div>"
      ],
      "text/plain": [
       "     CANT                     CUENCA      P 80          X     Y  porcentaje\n",
       "101    48  CUENCA   RIO GUAVIARE - 4  32080010 -73.210000  2.94      0.2685\n",
       "102    48  CUENCA   RIO GUAVIARE - 4  32070020 -73.516667  3.25      0.2554"
      ]
     },
     "execution_count": 13,
     "metadata": {},
     "output_type": "execute_result"
    }
   ],
   "source": [
    "porcentajes = pd.read_csv(in_porcentajes, sep=\";\")#, dtype={'P 80':'int64'}\n",
    "porcentajes.tail(2)"
   ]
  },
  {
   "cell_type": "code",
   "execution_count": 4,
   "metadata": {},
   "outputs": [
    {
     "data": {
      "text/html": [
       "<div>\n",
       "<style scoped>\n",
       "    .dataframe tbody tr th:only-of-type {\n",
       "        vertical-align: middle;\n",
       "    }\n",
       "\n",
       "    .dataframe tbody tr th {\n",
       "        vertical-align: top;\n",
       "    }\n",
       "\n",
       "    .dataframe thead th {\n",
       "        text-align: right;\n",
       "    }\n",
       "</style>\n",
       "<table border=\"1\" class=\"dataframe\">\n",
       "  <thead>\n",
       "    <tr style=\"text-align: right;\">\n",
       "      <th></th>\n",
       "      <th>Unnamed: 0</th>\n",
       "      <th>CodigoEstacion</th>\n",
       "      <th>Valor</th>\n",
       "    </tr>\n",
       "    <tr>\n",
       "      <th>Fecha</th>\n",
       "      <th></th>\n",
       "      <th></th>\n",
       "      <th></th>\n",
       "    </tr>\n",
       "  </thead>\n",
       "  <tbody>\n",
       "    <tr>\n",
       "      <th>2020-01-01</th>\n",
       "      <td>614215</td>\n",
       "      <td>56010030</td>\n",
       "      <td>10.00</td>\n",
       "    </tr>\n",
       "    <tr>\n",
       "      <th>2020-02-01</th>\n",
       "      <td>614216</td>\n",
       "      <td>56010030</td>\n",
       "      <td>1.00</td>\n",
       "    </tr>\n",
       "    <tr>\n",
       "      <th>2020-03-01</th>\n",
       "      <td>614217</td>\n",
       "      <td>56010030</td>\n",
       "      <td>9.15</td>\n",
       "    </tr>\n",
       "    <tr>\n",
       "      <th>2020-04-01</th>\n",
       "      <td>614218</td>\n",
       "      <td>56010030</td>\n",
       "      <td>54.50</td>\n",
       "    </tr>\n",
       "    <tr>\n",
       "      <th>2020-05-01</th>\n",
       "      <td>614219</td>\n",
       "      <td>56010030</td>\n",
       "      <td>246.00</td>\n",
       "    </tr>\n",
       "  </tbody>\n",
       "</table>\n",
       "</div>"
      ],
      "text/plain": [
       "            Unnamed: 0  CodigoEstacion   Valor\n",
       "Fecha                                         \n",
       "2020-01-01      614215        56010030   10.00\n",
       "2020-02-01      614216        56010030    1.00\n",
       "2020-03-01      614217        56010030    9.15\n",
       "2020-04-01      614218        56010030   54.50\n",
       "2020-05-01      614219        56010030  246.00"
      ]
     },
     "execution_count": 4,
     "metadata": {},
     "output_type": "execute_result"
    }
   ],
   "source": [
    "dtparser = lambda x: datetime.strptime(x, '%Y-%m')\n",
    "indexcols = ['Fecha']\n",
    "data = pd.read_csv(in_data,parse_dates = ['Fecha'], date_parser = dtparser,index_col = indexcols)\n",
    "data.tail()"
   ]
  },
  {
   "cell_type": "code",
   "execution_count": 5,
   "metadata": {},
   "outputs": [],
   "source": [
    "data = data['2000':'2019']"
   ]
  },
  {
   "cell_type": "code",
   "execution_count": 6,
   "metadata": {},
   "outputs": [
    {
     "data": {
      "text/plain": [
       "(417600, 3)"
      ]
     },
     "execution_count": 6,
     "metadata": {},
     "output_type": "execute_result"
    }
   ],
   "source": [
    "data.shape"
   ]
  },
  {
   "cell_type": "code",
   "execution_count": 7,
   "metadata": {},
   "outputs": [
    {
     "data": {
      "text/html": [
       "<div>\n",
       "<style scoped>\n",
       "    .dataframe tbody tr th:only-of-type {\n",
       "        vertical-align: middle;\n",
       "    }\n",
       "\n",
       "    .dataframe tbody tr th {\n",
       "        vertical-align: top;\n",
       "    }\n",
       "\n",
       "    .dataframe thead th {\n",
       "        text-align: right;\n",
       "    }\n",
       "</style>\n",
       "<table border=\"1\" class=\"dataframe\">\n",
       "  <thead>\n",
       "    <tr style=\"text-align: right;\">\n",
       "      <th></th>\n",
       "      <th>CodigoEstacion</th>\n",
       "      <th>Valor</th>\n",
       "    </tr>\n",
       "    <tr>\n",
       "      <th>Fecha</th>\n",
       "      <th></th>\n",
       "      <th></th>\n",
       "    </tr>\n",
       "  </thead>\n",
       "  <tbody>\n",
       "    <tr>\n",
       "      <th>2000-01-01</th>\n",
       "      <td>11010010</td>\n",
       "      <td>335.0</td>\n",
       "    </tr>\n",
       "    <tr>\n",
       "      <th>2000-02-01</th>\n",
       "      <td>11010010</td>\n",
       "      <td>805.0</td>\n",
       "    </tr>\n",
       "    <tr>\n",
       "      <th>2000-03-01</th>\n",
       "      <td>11010010</td>\n",
       "      <td>735.0</td>\n",
       "    </tr>\n",
       "    <tr>\n",
       "      <th>2000-04-01</th>\n",
       "      <td>11010010</td>\n",
       "      <td>873.0</td>\n",
       "    </tr>\n",
       "    <tr>\n",
       "      <th>2000-05-01</th>\n",
       "      <td>11010010</td>\n",
       "      <td>1149.0</td>\n",
       "    </tr>\n",
       "  </tbody>\n",
       "</table>\n",
       "</div>"
      ],
      "text/plain": [
       "            CodigoEstacion   Valor\n",
       "Fecha                             \n",
       "2000-01-01        11010010   335.0\n",
       "2000-02-01        11010010   805.0\n",
       "2000-03-01        11010010   735.0\n",
       "2000-04-01        11010010   873.0\n",
       "2000-05-01        11010010  1149.0"
      ]
     },
     "execution_count": 7,
     "metadata": {},
     "output_type": "execute_result"
    }
   ],
   "source": [
    "data = data.drop(['Unnamed: 0'], axis=1)\n",
    "data.head()"
   ]
  },
  {
   "cell_type": "code",
   "execution_count": 8,
   "metadata": {},
   "outputs": [],
   "source": [
    "data['Fecha'] = data.index"
   ]
  },
  {
   "cell_type": "code",
   "execution_count": 9,
   "metadata": {},
   "outputs": [],
   "source": [
    "data2 = data.merge(porcentajes,  left_on=\"CodigoEstacion\", right_on=\"P 80\")\n"
   ]
  },
  {
   "cell_type": "code",
   "execution_count": 10,
   "metadata": {},
   "outputs": [
    {
     "data": {
      "text/plain": [
       "(24480, 9)"
      ]
     },
     "execution_count": 10,
     "metadata": {},
     "output_type": "execute_result"
    }
   ],
   "source": [
    "data2.shape"
   ]
  },
  {
   "cell_type": "code",
   "execution_count": 21,
   "metadata": {},
   "outputs": [],
   "source": [
    "\n",
    "def get_table_CANT(i):\n",
    "    data_i = data2[data2.CANT==i].reset_index()\n",
    "    data_i['valor_porcent'] = data_i['Valor']*data_i['porcentaje'] \n",
    "    df_i = data_i.pivot(index='Fecha', columns='P 80', values='valor_porcent')\n",
    "    df_i['PTPM_CON_WA'] = df_i.sum(axis=1)\n",
    "    df_i['CUENCA'] = i\n",
    "    return(df_i[['PTPM_CON_WA', 'CUENCA']])\n",
    "\n",
    "def get_table_CUENCA(i):\n",
    "    data_i = data2[data2.CUENCA==i].reset_index()\n",
    "    data_i['valor_porcent'] = data_i['Valor']*data_i['porcentaje'] \n",
    "    df_i = data_i.pivot(index='Fecha', columns='P 80', values='valor_porcent')\n",
    "    df_i['PTPM_CON_WA'] = df_i.sum(axis=1)\n",
    "    df_i['CUENCA'] = i\n",
    "    return(df_i[['PTPM_CON_WA', 'CUENCA']])"
   ]
  },
  {
   "cell_type": "code",
   "execution_count": 25,
   "metadata": {},
   "outputs": [],
   "source": [
    "df_all = []\n",
    "for i in data2.CANT.unique():\n",
    "    df_all.append(get_table_CANT(i))\n",
    "result = pd.concat(df_all) \n",
    "result['Fecha'] = result.index\n",
    "result.to_csv(out_path_CANT, index = False, date_format = '%Y-%m')"
   ]
  },
  {
   "cell_type": "code",
   "execution_count": 13,
   "metadata": {},
   "outputs": [],
   "source": [
    "#df_all = []\n",
    "#for i in data2.CUENCA.unique():\n",
    "#    df_all.append(get_table_CUENCA(i))\n",
    "#result = pd.concat(df_all) \n",
    "#result['Fecha'] = result.index\n",
    "#result.to_csv(out_path, index = False, date_format = '%Y-%m')"
   ]
  }
 ],
 "metadata": {
  "kernelspec": {
   "display_name": "Python 3",
   "language": "python",
   "name": "python3"
  },
  "language_info": {
   "codemirror_mode": {
    "name": "ipython",
    "version": 3
   },
   "file_extension": ".py",
   "mimetype": "text/x-python",
   "name": "python",
   "nbconvert_exporter": "python",
   "pygments_lexer": "ipython3",
   "version": "3.8.3"
  }
 },
 "nbformat": 4,
 "nbformat_minor": 4
}
