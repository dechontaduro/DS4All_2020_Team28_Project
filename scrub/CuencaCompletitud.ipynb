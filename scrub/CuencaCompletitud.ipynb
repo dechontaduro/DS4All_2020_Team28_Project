{
 "cells": [
  {
   "cell_type": "code",
   "execution_count": 1,
   "metadata": {},
   "outputs": [],
   "source": [
    "import pandas as pd\n",
    "import glob"
   ]
  },
  {
   "cell_type": "code",
   "execution_count": 11,
   "metadata": {},
   "outputs": [
    {
     "name": "stdout",
     "output_type": "stream",
     "text": [
      "Completitud: ../data/variables_profiles/CUM70_*.csv\n"
     ]
    }
   ],
   "source": [
    "completitud = 0.70\n",
    "\n",
    "completeness_path_base = r'../data/variables_profiles'\n",
    "completeness_files_path = f'{completeness_path_base}/CUM{int(completitud * 100)}_*.csv'\n",
    "print('Completitud:', completeness_files_path)"
   ]
  },
  {
   "cell_type": "code",
   "execution_count": 13,
   "metadata": {},
   "outputs": [
    {
     "name": "stdout",
     "output_type": "stream",
     "text": [
      "['../data/variables_profiles\\\\CUM70_TMN_CON.csv', '../data/variables_profiles\\\\CUM70_TMX_CON.csv']\n"
     ]
    }
   ],
   "source": [
    "completeness_files = glob.glob(completeness_files_path)\n",
    "print(completeness_files)"
   ]
  },
  {
   "cell_type": "code",
   "execution_count": 14,
   "metadata": {},
   "outputs": [
    {
     "name": "stdout",
     "output_type": "stream",
     "text": [
      "(36, 2)\n"
     ]
    },
    {
     "data": {
      "text/html": [
       "<div>\n",
       "<style scoped>\n",
       "    .dataframe tbody tr th:only-of-type {\n",
       "        vertical-align: middle;\n",
       "    }\n",
       "\n",
       "    .dataframe tbody tr th {\n",
       "        vertical-align: top;\n",
       "    }\n",
       "\n",
       "    .dataframe thead th {\n",
       "        text-align: right;\n",
       "    }\n",
       "</style>\n",
       "<table border=\"1\" class=\"dataframe\">\n",
       "  <thead>\n",
       "    <tr style=\"text-align: right;\">\n",
       "      <th></th>\n",
       "      <th>cuenca</th>\n",
       "      <th>variable</th>\n",
       "    </tr>\n",
       "    <tr>\n",
       "      <th>codigo</th>\n",
       "      <th></th>\n",
       "      <th></th>\n",
       "    </tr>\n",
       "  </thead>\n",
       "  <tbody>\n",
       "    <tr>\n",
       "      <th>11025010</th>\n",
       "      <td>198</td>\n",
       "      <td>TMN_CON</td>\n",
       "    </tr>\n",
       "    <tr>\n",
       "      <th>11045010</th>\n",
       "      <td>311</td>\n",
       "      <td>TMN_CON</td>\n",
       "    </tr>\n",
       "    <tr>\n",
       "      <th>13075020</th>\n",
       "      <td>174</td>\n",
       "      <td>TMN_CON</td>\n",
       "    </tr>\n",
       "    <tr>\n",
       "      <th>16015030</th>\n",
       "      <td>167</td>\n",
       "      <td>TMN_CON</td>\n",
       "    </tr>\n",
       "    <tr>\n",
       "      <th>21115060</th>\n",
       "      <td>22</td>\n",
       "      <td>TMN_CON</td>\n",
       "    </tr>\n",
       "  </tbody>\n",
       "</table>\n",
       "</div>"
      ],
      "text/plain": [
       "         cuenca variable\n",
       "codigo                  \n",
       "11025010    198  TMN_CON\n",
       "11045010    311  TMN_CON\n",
       "13075020    174  TMN_CON\n",
       "16015030    167  TMN_CON\n",
       "21115060     22  TMN_CON"
      ]
     },
     "execution_count": 14,
     "metadata": {},
     "output_type": "execute_result"
    }
   ],
   "source": [
    "completeness_dtypes = {\n",
    "    'codigo':'string',\n",
    "    'cuenca':'category',\n",
    "    'variable':'category',\n",
    "}\n",
    "completeness = pd.concat([pd.read_csv(file, dtype = completeness_dtypes, index_col = 'codigo') \\\n",
    "                          for file in completeness_files], axis = 0)\n",
    "print(completeness.shape)\n",
    "completeness.head()"
   ]
  },
  {
   "cell_type": "code",
   "execution_count": 15,
   "metadata": {},
   "outputs": [],
   "source": [
    "#completeness.reset_index()\n",
    "station_completeness = pd.pivot_table(data = completeness.reset_index(), values='variable', index=['codigo', 'cuenca'],\n",
    "                    columns=['variable'], aggfunc=len, fill_value=0)"
   ]
  },
  {
   "cell_type": "code",
   "execution_count": 16,
   "metadata": {},
   "outputs": [
    {
     "data": {
      "text/html": [
       "<div>\n",
       "<style scoped>\n",
       "    .dataframe tbody tr th:only-of-type {\n",
       "        vertical-align: middle;\n",
       "    }\n",
       "\n",
       "    .dataframe tbody tr th {\n",
       "        vertical-align: top;\n",
       "    }\n",
       "\n",
       "    .dataframe thead th {\n",
       "        text-align: right;\n",
       "    }\n",
       "</style>\n",
       "<table border=\"1\" class=\"dataframe\">\n",
       "  <thead>\n",
       "    <tr style=\"text-align: right;\">\n",
       "      <th>variable</th>\n",
       "      <th>TMN_CON</th>\n",
       "      <th>TMX_CON</th>\n",
       "    </tr>\n",
       "    <tr>\n",
       "      <th>cuenca</th>\n",
       "      <th></th>\n",
       "      <th></th>\n",
       "    </tr>\n",
       "  </thead>\n",
       "  <tbody>\n",
       "    <tr>\n",
       "      <th>174</th>\n",
       "      <td>1</td>\n",
       "      <td>1</td>\n",
       "    </tr>\n",
       "    <tr>\n",
       "      <th>22</th>\n",
       "      <td>1</td>\n",
       "      <td>1</td>\n",
       "    </tr>\n",
       "    <tr>\n",
       "      <th>262</th>\n",
       "      <td>1</td>\n",
       "      <td>1</td>\n",
       "    </tr>\n",
       "    <tr>\n",
       "      <th>311</th>\n",
       "      <td>1</td>\n",
       "      <td>1</td>\n",
       "    </tr>\n",
       "    <tr>\n",
       "      <th>32</th>\n",
       "      <td>1</td>\n",
       "      <td>1</td>\n",
       "    </tr>\n",
       "    <tr>\n",
       "      <th>5</th>\n",
       "      <td>1</td>\n",
       "      <td>1</td>\n",
       "    </tr>\n",
       "    <tr>\n",
       "      <th>71</th>\n",
       "      <td>1</td>\n",
       "      <td>1</td>\n",
       "    </tr>\n",
       "    <tr>\n",
       "      <th>83</th>\n",
       "      <td>2</td>\n",
       "      <td>1</td>\n",
       "    </tr>\n",
       "    <tr>\n",
       "      <th>89</th>\n",
       "      <td>3</td>\n",
       "      <td>1</td>\n",
       "    </tr>\n",
       "  </tbody>\n",
       "</table>\n",
       "</div>"
      ],
      "text/plain": [
       "variable  TMN_CON  TMX_CON\n",
       "cuenca                    \n",
       "174             1        1\n",
       "22              1        1\n",
       "262             1        1\n",
       "311             1        1\n",
       "32              1        1\n",
       "5               1        1\n",
       "71              1        1\n",
       "83              2        1\n",
       "89              3        1"
      ]
     },
     "execution_count": 16,
     "metadata": {},
     "output_type": "execute_result"
    }
   ],
   "source": [
    "cuenca_completeness = station_completeness.reset_index()\n",
    "#[station_completeness[['PTPM_CON']].min(axis = 1) > 0]\n",
    "#cuenca_completeness.set_index('codigo')\n",
    "cuenca_completeness = cuenca_completeness.groupby('cuenca').sum().reset_index()\n",
    "cuenca_completeness.set_index('cuenca', inplace = True)\n",
    "\n",
    "#variables_valid = ['PTPM_CON', 'Q_MEDIA_D','TMN_CON', 'TMX_CON']\n",
    "#variables_valid = ['PTPM_CON', 'PT_10_TT_D', 'Q_MEDIA_D', 'Q_MN_D', 'Q_MX_D','TMN_CON', 'TMX_CON']\n",
    "variables_valid = ['TMN_CON', 'TMX_CON']\n",
    "\n",
    "cuenca_completeness[cuenca_completeness[variables_valid].min(axis = 1) > 0]"
   ]
  },
  {
   "cell_type": "code",
   "execution_count": 17,
   "metadata": {},
   "outputs": [],
   "source": [
    "#variables_valid = ['PTPM_CON']#, 'PT_10_TT_D', 'Q_MEDIA_D', 'Q_MN_D', 'Q_MX_D','TMN_CON', 'TMX_CON']\n",
    "\n",
    "for var in variables_valid:\n",
    "    #cuenca_completeness[var] = cuenca_completeness[var].mask(cuenca_completeness[var] > 3, 3)\n",
    "    cuenca_completeness.loc[cuenca_completeness[var] > 3, var] = 3\n",
    "    \n",
    "#cuenca_completeness"
   ]
  },
  {
   "cell_type": "code",
   "execution_count": 20,
   "metadata": {},
   "outputs": [
    {
     "data": {
      "text/plain": [
       "<matplotlib.axes._subplots.AxesSubplot at 0x228be86f0a0>"
      ]
     },
     "execution_count": 20,
     "metadata": {},
     "output_type": "execute_result"
    },
    {
     "data": {
      "image/png": "[encoded data removed]",
      "text/plain": [
       "<Figure size 1440x1440 with 2 Axes>"
      ]
     },
     "metadata": {
      "needs_background": "light"
     },
     "output_type": "display_data"
    }
   ],
   "source": [
    "import matplotlib.pyplot as plt\n",
    "import seaborn as sns\n",
    "\n",
    "plt.figure(figsize=(20,20))\n",
    "ax = plt.axes()\n",
    "#ax.set_title(f\"{estacion_type} {variable_perfil} ({etiqueta_perfil})\")\n",
    "\n",
    "sns.heatmap(cuenca_completeness,\n",
    "    #square = True,\n",
    "    cbar_kws = {'fraction' : 0.02},\n",
    "    #cmap = 'YlGnBu',\n",
    "    linewidth = 1,\n",
    "    #annot = True, fmt = \"d\",\n",
    "    ax = ax\n",
    "   )"
   ]
  },
  {
   "cell_type": "code",
   "execution_count": null,
   "metadata": {},
   "outputs": [],
   "source": []
  }
 ],
 "metadata": {
  "kernelspec": {
   "display_name": "Python 3",
   "language": "python",
   "name": "python3"
  },
  "language_info": {
   "codemirror_mode": {
    "name": "ipython",
    "version": 3
   },
   "file_extension": ".py",
   "mimetype": "text/x-python",
   "name": "python",
   "nbconvert_exporter": "python",
   "pygments_lexer": "ipython3",
   "version": "3.8.3"
  }
 },
 "nbformat": 4,
 "nbformat_minor": 4
}
