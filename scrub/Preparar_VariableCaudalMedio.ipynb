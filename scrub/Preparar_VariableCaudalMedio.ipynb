{
 "cells": [
  {
   "cell_type": "code",
   "execution_count": 1,
   "metadata": {},
   "outputs": [],
   "source": [
    "import sys  \n",
    "import pandas as pd\n",
    "from datetime import datetime"
   ]
  },
  {
   "cell_type": "code",
   "execution_count": 17,
   "metadata": {},
   "outputs": [],
   "source": [
    "q_md_path = r'../data/variables/var-dia-Q_MEDIA_D-fill.zip'\n",
    "q_mn_path = r'../data/variables/var-dia-Q_MN_D-fill.zip'\n",
    "q_mx_path = r'../data/variables/var-dia-Q_MX_D-fill.zip'\n",
    "cuenca_estacion_path = f'../data/stations/est_cuenca.csv'\n",
    "q_md_out_path = r'../data/variables/var-mes-Q_MEDIA_D_MX_MIN-fill.csv'\n",
    "q_md_cuenca_out_path = r'../data/matrix/cuenca_Q_MEDIA_M.csv'"
   ]
  },
  {
   "cell_type": "code",
   "execution_count": 3,
   "metadata": {},
   "outputs": [],
   "source": [
    "dtparser = lambda x: datetime.strptime(x, '%Y-%m-%d')\n",
    "usecols = ['CodigoEstacion','Fecha','ValorFilled']\n",
    "indexcols = ['Fecha']\n",
    "df_md = pd.read_csv(q_md_path, parse_dates = ['Fecha'], date_parser = dtparser, usecols = usecols, index_col = indexcols)\n",
    "df_mn = pd.read_csv(q_mn_path, parse_dates = ['Fecha'], date_parser = dtparser, usecols = usecols, index_col = indexcols)\n",
    "df_mx = pd.read_csv(q_mx_path, parse_dates = ['Fecha'], date_parser = dtparser, usecols = usecols, index_col = indexcols)"
   ]
  },
  {
   "cell_type": "code",
   "execution_count": 4,
   "metadata": {},
   "outputs": [],
   "source": [
    "df_md = df_md['2000':'2019']\n",
    "df_mn = df_mn['2000':'2019']\n",
    "df_mx = df_mx['2000':'2019']"
   ]
  },
  {
   "cell_type": "code",
   "execution_count": 5,
   "metadata": {},
   "outputs": [],
   "source": [
    "df_mn = df_mn.reset_index().set_index(['CodigoEstacion', 'Fecha'])\n",
    "df_mx = df_mx.reset_index().set_index(['CodigoEstacion', 'Fecha'])\n",
    "df_mn_mx = pd.concat([df_mn, df_mx], axis = 1)\n",
    "df_mn_mx.columns = ['Q_MN_D', 'Q_MX_D']"
   ]
  },
  {
   "cell_type": "code",
   "execution_count": 6,
   "metadata": {},
   "outputs": [],
   "source": [
    "df_mn_mx['Q_MEDIA_D'] = df_mn_mx.mean(axis = 1)"
   ]
  },
  {
   "cell_type": "code",
   "execution_count": 10,
   "metadata": {},
   "outputs": [],
   "source": [
    "df_mn_mx = df_mn_mx.drop(['Q_MN_D','Q_MX_D'], axis = 1).dropna()"
   ]
  },
  {
   "cell_type": "code",
   "execution_count": 11,
   "metadata": {},
   "outputs": [],
   "source": [
    "df_md = df_md.reset_index().set_index(['CodigoEstacion', 'Fecha'])\n",
    "#df_mn_mx = df_mn_mx.reset_index().set_index(['CodigoEstacion', 'Fecha'])\n",
    "df_md2 = pd.concat([df_md, df_mn_mx], axis = 1)"
   ]
  },
  {
   "cell_type": "code",
   "execution_count": 12,
   "metadata": {},
   "outputs": [
    {
     "name": "stdout",
     "output_type": "stream",
     "text": [
      "(5361870, 1)\n",
      "(3440655, 1)\n",
      "(3440655, 1)\n",
      "(2110676, 1)\n",
      "(5361870, 2)\n"
     ]
    }
   ],
   "source": [
    "print(df_md.shape)\n",
    "print(df_mn.shape)\n",
    "print(df_mx.shape)\n",
    "print(df_mn_mx.shape)\n",
    "print(df_md2.shape)"
   ]
  },
  {
   "cell_type": "code",
   "execution_count": 13,
   "metadata": {},
   "outputs": [],
   "source": [
    "df_md2['ValorFilled2'] = df_md2['ValorFilled']\n",
    "df_md2.loc[df_md2.ValorFilled.isna(), 'ValorFilled2'] = df_md2.loc[df_md2.ValorFilled.isna(), 'Q_MEDIA_D']\n",
    "#df_md2[(df_md2.ValorFilled.notna()) & (df_md2.Q_MEDIA_D.isna())].head()"
   ]
  },
  {
   "cell_type": "code",
   "execution_count": 14,
   "metadata": {},
   "outputs": [],
   "source": [
    "df_md2 = df_md2.drop(['ValorFilled','Q_MEDIA_D'], axis = 1).rename(columns = {'ValorFilled2': 'Q_MEDIA_D'})"
   ]
  },
  {
   "cell_type": "code",
   "execution_count": 15,
   "metadata": {},
   "outputs": [],
   "source": [
    "df_md2 = df_md2.reset_index()\n",
    "dfm = df_md2.groupby(['CodigoEstacion',df_md2.Fecha.dt.to_period('M')]).Q_MEDIA_D.median().reset_index()\n",
    "dfm = dfm.rename(columns = {'CodigoEstacion': 'codigo'})"
   ]
  },
  {
   "cell_type": "code",
   "execution_count": 18,
   "metadata": {},
   "outputs": [
    {
     "name": "stdout",
     "output_type": "stream",
     "text": [
      "(176160, 3)\n"
     ]
    }
   ],
   "source": [
    "print(dfm.shape)\n",
    "dfm.to_csv(q_md_out_path, index = False, date_format = '%Y-%m')"
   ]
  },
  {
   "cell_type": "code",
   "execution_count": 19,
   "metadata": {},
   "outputs": [],
   "source": [
    "df_est_cuenca = pd.read_csv(cuenca_estacion_path, dtype = {'CUENCA':'string', 'Q_EST': 'string'}, usecols = ['CUENCA','Q_EST'])\n",
    "df_est_cuenca = df_est_cuenca.rename(columns = {'CUENCA':'cuenca', 'Q_EST': 'codigo'})\n",
    "df_est_cuenca = df_est_cuenca.dropna().groupby(['cuenca','codigo']).count().reset_index()\n",
    "df_est_cuenca['codigo'] = df_est_cuenca['codigo'].astype(int)"
   ]
  },
  {
   "cell_type": "code",
   "execution_count": 21,
   "metadata": {},
   "outputs": [],
   "source": [
    "dfm = dfm.merge(df_est_cuenca, on='codigo', how = 'inner' )\n",
    "print(dfm.shape)\n",
    "dfm.head()"
   ]
  },
  {
   "cell_type": "code",
   "execution_count": 26,
   "metadata": {},
   "outputs": [],
   "source": [
    "dfm.to_csv(q_md_cuenca_out_path, index = False, date_format = '%Y-%m')"
   ]
  },
  {
   "cell_type": "raw",
   "metadata": {},
   "source": [
    "estacion = 26057040\n",
    "fecha = '2016-02-29'\n",
    "display(df_md2.loc[estacion,fecha])\n",
    "display(df_mn_mx.loc[estacion,fecha])\n",
    "display(df_mn.loc[estacion,fecha])\n",
    "display(df_mx.loc[estacion,fecha])\n",
    "(7.7 + 8.36) / 2"
   ]
  }
 ],
 "metadata": {
  "kernelspec": {
   "display_name": "Python 3",
   "language": "python",
   "name": "python3"
  },
  "language_info": {
   "codemirror_mode": {
    "name": "ipython",
    "version": 3
   },
   "file_extension": ".py",
   "mimetype": "text/x-python",
   "name": "python",
   "nbconvert_exporter": "python",
   "pygments_lexer": "ipython3",
   "version": "3.8.3"
  }
 },
 "nbformat": 4,
 "nbformat_minor": 4
}
