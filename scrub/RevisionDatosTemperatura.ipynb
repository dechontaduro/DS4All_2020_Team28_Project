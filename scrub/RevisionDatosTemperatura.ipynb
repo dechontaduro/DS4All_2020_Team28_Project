{
 "cells": [
  {
   "attachments": {
    "ds4a.svg": {
     "image/svg+xml": [
      "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"
     ]
    }
   },
   "cell_type": "markdown",
   "metadata": {},
   "source": [
    "![](attachment:ds4a.svg)"
   ]
  },
  {
   "cell_type": "markdown",
   "metadata": {},
   "source": [
    "<div style=\"text-align: justify; font-size: large\">"
   ]
  },
  {
   "cell_type": "markdown",
   "metadata": {},
   "source": [
    "# Impacto de la deforestación en el regimen de caudales de los rios en Colombia (TEAM 28)"
   ]
  },
  {
   "cell_type": "markdown",
   "metadata": {},
   "source": [
    "## Actividad : Verificación de la información descargada desde el IDEAM de las estaciones climáticas Principales y Ordinarias"
   ]
  },
  {
   "cell_type": "markdown",
   "metadata": {},
   "source": [
    "### 0. Liberías"
   ]
  },
  {
   "cell_type": "code",
   "execution_count": 47,
   "metadata": {},
   "outputs": [],
   "source": [
    "import numpy as np \n",
    "import pandas as pd\n",
    "\n",
    "import geopandas as gpd\n",
    "import geoplot as geop\n",
    "import descartes as dsc\n",
    "\n",
    "import matplotlib.pyplot as plt\n",
    "import seaborn as sns\n",
    "\n",
    "%matplotlib inline"
   ]
  },
  {
   "cell_type": "markdown",
   "metadata": {},
   "source": [
    "### 1. Lectura de datos y revisiones de estructura y tipos"
   ]
  },
  {
   "cell_type": "markdown",
   "metadata": {},
   "source": [
    "### 1.1 Lectura y consolidación"
   ]
  },
  {
   "cell_type": "markdown",
   "metadata": {},
   "source": [
    "**Estaciones climátics ordinarias:**"
   ]
  },
  {
   "cell_type": "code",
   "execution_count": 2,
   "metadata": {},
   "outputs": [
    {
     "name": "stdout",
     "output_type": "stream",
     "text": [
      "CPU times: user 3.54 s, sys: 152 ms, total: 3.7 s\n",
      "Wall time: 3.71 s\n"
     ]
    }
   ],
   "source": [
    "%%time\n",
    "#index_col=['CodigoEstacion','Etiqueta','Fecha'], \\\n",
    "\n",
    "climatica_ord = pd.read_csv('data/climatica_ordinaria_res.zip', low_memory = True, \\\n",
    "                            usecols = ['CodigoEstacion','Etiqueta','Fecha','Frecuencia', 'Valor','Grado'],\\\n",
    "                            parse_dates = ['Fecha'], compression = 'zip')\n",
    "\n",
    "climatica_ord.columns = ['cod_estacion', 'variable', 'frecuencia', 'fecha', 'valor', 'grado']"
   ]
  },
  {
   "cell_type": "code",
   "execution_count": 3,
   "metadata": {},
   "outputs": [
    {
     "data": {
      "text/html": [
       "<div>\n",
       "<style scoped>\n",
       "    .dataframe tbody tr th:only-of-type {\n",
       "        vertical-align: middle;\n",
       "    }\n",
       "\n",
       "    .dataframe tbody tr th {\n",
       "        vertical-align: top;\n",
       "    }\n",
       "\n",
       "    .dataframe thead th {\n",
       "        text-align: right;\n",
       "    }\n",
       "</style>\n",
       "<table border=\"1\" class=\"dataframe\">\n",
       "  <thead>\n",
       "    <tr style=\"text-align: right;\">\n",
       "      <th></th>\n",
       "      <th>cod_estacion</th>\n",
       "      <th>variable</th>\n",
       "      <th>frecuencia</th>\n",
       "      <th>fecha</th>\n",
       "      <th>valor</th>\n",
       "      <th>grado</th>\n",
       "    </tr>\n",
       "  </thead>\n",
       "  <tbody>\n",
       "    <tr>\n",
       "      <th>0</th>\n",
       "      <td>11025010</td>\n",
       "      <td>TMN_CON</td>\n",
       "      <td>Diaria</td>\n",
       "      <td>1991-01-01</td>\n",
       "      <td>11.6</td>\n",
       "      <td>50</td>\n",
       "    </tr>\n",
       "    <tr>\n",
       "      <th>1</th>\n",
       "      <td>11025010</td>\n",
       "      <td>TMN_CON</td>\n",
       "      <td>Diaria</td>\n",
       "      <td>1991-01-02</td>\n",
       "      <td>12.2</td>\n",
       "      <td>50</td>\n",
       "    </tr>\n",
       "    <tr>\n",
       "      <th>2</th>\n",
       "      <td>11025010</td>\n",
       "      <td>TMN_CON</td>\n",
       "      <td>Diaria</td>\n",
       "      <td>1991-01-03</td>\n",
       "      <td>13.6</td>\n",
       "      <td>50</td>\n",
       "    </tr>\n",
       "    <tr>\n",
       "      <th>3</th>\n",
       "      <td>11025010</td>\n",
       "      <td>TMN_CON</td>\n",
       "      <td>Diaria</td>\n",
       "      <td>1991-01-04</td>\n",
       "      <td>13.0</td>\n",
       "      <td>50</td>\n",
       "    </tr>\n",
       "    <tr>\n",
       "      <th>4</th>\n",
       "      <td>11025010</td>\n",
       "      <td>TMN_CON</td>\n",
       "      <td>Diaria</td>\n",
       "      <td>1991-01-05</td>\n",
       "      <td>13.6</td>\n",
       "      <td>50</td>\n",
       "    </tr>\n",
       "    <tr>\n",
       "      <th>5</th>\n",
       "      <td>11025010</td>\n",
       "      <td>TMN_CON</td>\n",
       "      <td>Diaria</td>\n",
       "      <td>1991-01-06</td>\n",
       "      <td>14.0</td>\n",
       "      <td>50</td>\n",
       "    </tr>\n",
       "    <tr>\n",
       "      <th>6</th>\n",
       "      <td>11025010</td>\n",
       "      <td>TMN_CON</td>\n",
       "      <td>Diaria</td>\n",
       "      <td>1991-01-07</td>\n",
       "      <td>13.8</td>\n",
       "      <td>50</td>\n",
       "    </tr>\n",
       "    <tr>\n",
       "      <th>7</th>\n",
       "      <td>11025010</td>\n",
       "      <td>TMN_CON</td>\n",
       "      <td>Diaria</td>\n",
       "      <td>1991-01-08</td>\n",
       "      <td>13.2</td>\n",
       "      <td>50</td>\n",
       "    </tr>\n",
       "    <tr>\n",
       "      <th>8</th>\n",
       "      <td>11025010</td>\n",
       "      <td>TMN_CON</td>\n",
       "      <td>Diaria</td>\n",
       "      <td>1991-01-09</td>\n",
       "      <td>14.2</td>\n",
       "      <td>50</td>\n",
       "    </tr>\n",
       "    <tr>\n",
       "      <th>9</th>\n",
       "      <td>11025010</td>\n",
       "      <td>TMN_CON</td>\n",
       "      <td>Diaria</td>\n",
       "      <td>1991-01-10</td>\n",
       "      <td>11.4</td>\n",
       "      <td>50</td>\n",
       "    </tr>\n",
       "  </tbody>\n",
       "</table>\n",
       "</div>"
      ],
      "text/plain": [
       "   cod_estacion variable frecuencia      fecha  valor  grado\n",
       "0      11025010  TMN_CON     Diaria 1991-01-01   11.6     50\n",
       "1      11025010  TMN_CON     Diaria 1991-01-02   12.2     50\n",
       "2      11025010  TMN_CON     Diaria 1991-01-03   13.6     50\n",
       "3      11025010  TMN_CON     Diaria 1991-01-04   13.0     50\n",
       "4      11025010  TMN_CON     Diaria 1991-01-05   13.6     50\n",
       "5      11025010  TMN_CON     Diaria 1991-01-06   14.0     50\n",
       "6      11025010  TMN_CON     Diaria 1991-01-07   13.8     50\n",
       "7      11025010  TMN_CON     Diaria 1991-01-08   13.2     50\n",
       "8      11025010  TMN_CON     Diaria 1991-01-09   14.2     50\n",
       "9      11025010  TMN_CON     Diaria 1991-01-10   11.4     50"
      ]
     },
     "execution_count": 3,
     "metadata": {},
     "output_type": "execute_result"
    }
   ],
   "source": [
    "climatica_ord.head(10)"
   ]
  },
  {
   "cell_type": "code",
   "execution_count": 4,
   "metadata": {},
   "outputs": [
    {
     "data": {
      "text/plain": [
       "cod_estacion             int64\n",
       "variable                object\n",
       "frecuencia              object\n",
       "fecha           datetime64[ns]\n",
       "valor                  float64\n",
       "grado                    int64\n",
       "dtype: object"
      ]
     },
     "execution_count": 4,
     "metadata": {},
     "output_type": "execute_result"
    }
   ],
   "source": [
    "climatica_ord.dtypes # Tipos de datos de las columnas"
   ]
  },
  {
   "cell_type": "code",
   "execution_count": 5,
   "metadata": {},
   "outputs": [
    {
     "data": {
      "text/plain": [
       "(3990276, 6)"
      ]
     },
     "execution_count": 5,
     "metadata": {},
     "output_type": "execute_result"
    }
   ],
   "source": [
    "climatica_ord.shape"
   ]
  },
  {
   "cell_type": "code",
   "execution_count": 6,
   "metadata": {},
   "outputs": [
    {
     "name": "stdout",
     "output_type": "stream",
     "text": [
      "CPU times: user 3.2 ms, sys: 193 µs, total: 3.39 ms\n",
      "Wall time: 4.47 ms\n"
     ]
    }
   ],
   "source": [
    "%%time\n",
    "\n",
    "estaciones = pd.read_csv('data/EstClimOrd_316Cuencas.csv', header = None, \\\n",
    "                          skiprows = 1, delimiter = '|')\n",
    "\n",
    "estaciones.columns = ['tipo_estacion', 'cod_estacion', 'msnm', 'cuenca']"
   ]
  },
  {
   "cell_type": "code",
   "execution_count": 7,
   "metadata": {},
   "outputs": [
    {
     "data": {
      "text/html": [
       "<div>\n",
       "<style scoped>\n",
       "    .dataframe tbody tr th:only-of-type {\n",
       "        vertical-align: middle;\n",
       "    }\n",
       "\n",
       "    .dataframe tbody tr th {\n",
       "        vertical-align: top;\n",
       "    }\n",
       "\n",
       "    .dataframe thead th {\n",
       "        text-align: right;\n",
       "    }\n",
       "</style>\n",
       "<table border=\"1\" class=\"dataframe\">\n",
       "  <thead>\n",
       "    <tr style=\"text-align: right;\">\n",
       "      <th></th>\n",
       "      <th>tipo_estacion</th>\n",
       "      <th>cod_estacion</th>\n",
       "      <th>msnm</th>\n",
       "      <th>cuenca</th>\n",
       "    </tr>\n",
       "  </thead>\n",
       "  <tbody>\n",
       "    <tr>\n",
       "      <th>0</th>\n",
       "      <td>Clima Ord</td>\n",
       "      <td>11025010</td>\n",
       "      <td>2018</td>\n",
       "      <td>198</td>\n",
       "    </tr>\n",
       "    <tr>\n",
       "      <th>1</th>\n",
       "      <td>Clima Ord</td>\n",
       "      <td>11030010</td>\n",
       "      <td>72</td>\n",
       "      <td>197</td>\n",
       "    </tr>\n",
       "    <tr>\n",
       "      <th>2</th>\n",
       "      <td>Clima Ord</td>\n",
       "      <td>11045010</td>\n",
       "      <td>75</td>\n",
       "      <td>311</td>\n",
       "    </tr>\n",
       "    <tr>\n",
       "      <th>3</th>\n",
       "      <td>Clima Ord</td>\n",
       "      <td>11050020</td>\n",
       "      <td>25</td>\n",
       "      <td>193</td>\n",
       "    </tr>\n",
       "    <tr>\n",
       "      <th>4</th>\n",
       "      <td>Clima Ord</td>\n",
       "      <td>11075020</td>\n",
       "      <td>1833</td>\n",
       "      <td>195</td>\n",
       "    </tr>\n",
       "    <tr>\n",
       "      <th>5</th>\n",
       "      <td>Clima Ord</td>\n",
       "      <td>11080010</td>\n",
       "      <td>15</td>\n",
       "      <td>193</td>\n",
       "    </tr>\n",
       "    <tr>\n",
       "      <th>6</th>\n",
       "      <td>Clima Ord</td>\n",
       "      <td>11115020</td>\n",
       "      <td>1294</td>\n",
       "      <td>191</td>\n",
       "    </tr>\n",
       "    <tr>\n",
       "      <th>7</th>\n",
       "      <td>Clima Ord</td>\n",
       "      <td>11115040</td>\n",
       "      <td>1396</td>\n",
       "      <td>191</td>\n",
       "    </tr>\n",
       "    <tr>\n",
       "      <th>8</th>\n",
       "      <td>Clima Ord</td>\n",
       "      <td>11120040</td>\n",
       "      <td>8</td>\n",
       "      <td>191</td>\n",
       "    </tr>\n",
       "    <tr>\n",
       "      <th>9</th>\n",
       "      <td>Clima Ord</td>\n",
       "      <td>12015010</td>\n",
       "      <td>132</td>\n",
       "      <td>179</td>\n",
       "    </tr>\n",
       "  </tbody>\n",
       "</table>\n",
       "</div>"
      ],
      "text/plain": [
       "  tipo_estacion  cod_estacion  msnm  cuenca\n",
       "0     Clima Ord      11025010  2018     198\n",
       "1     Clima Ord      11030010    72     197\n",
       "2     Clima Ord      11045010    75     311\n",
       "3     Clima Ord      11050020    25     193\n",
       "4     Clima Ord      11075020  1833     195\n",
       "5     Clima Ord      11080010    15     193\n",
       "6     Clima Ord      11115020  1294     191\n",
       "7     Clima Ord      11115040  1396     191\n",
       "8     Clima Ord      11120040     8     191\n",
       "9     Clima Ord      12015010   132     179"
      ]
     },
     "execution_count": 7,
     "metadata": {},
     "output_type": "execute_result"
    }
   ],
   "source": [
    "estaciones.head(10)"
   ]
  },
  {
   "cell_type": "code",
   "execution_count": 8,
   "metadata": {},
   "outputs": [
    {
     "data": {
      "text/plain": [
       "tipo_estacion    object\n",
       "cod_estacion      int64\n",
       "msnm              int64\n",
       "cuenca            int64\n",
       "dtype: object"
      ]
     },
     "execution_count": 8,
     "metadata": {},
     "output_type": "execute_result"
    }
   ],
   "source": [
    "estaciones.dtypes # Tipos de datos de las columnas"
   ]
  },
  {
   "cell_type": "code",
   "execution_count": 9,
   "metadata": {},
   "outputs": [
    {
     "data": {
      "text/plain": [
       "(303, 4)"
      ]
     },
     "execution_count": 9,
     "metadata": {},
     "output_type": "execute_result"
    }
   ],
   "source": [
    "estaciones.shape"
   ]
  },
  {
   "cell_type": "code",
   "execution_count": 10,
   "metadata": {},
   "outputs": [],
   "source": [
    "climatica_ord = climatica_ord.merge(estaciones, how = 'left', on = 'cod_estacion', \\\n",
    "                                    copy = True)"
   ]
  },
  {
   "cell_type": "code",
   "execution_count": 11,
   "metadata": {},
   "outputs": [
    {
     "data": {
      "text/html": [
       "<div>\n",
       "<style scoped>\n",
       "    .dataframe tbody tr th:only-of-type {\n",
       "        vertical-align: middle;\n",
       "    }\n",
       "\n",
       "    .dataframe tbody tr th {\n",
       "        vertical-align: top;\n",
       "    }\n",
       "\n",
       "    .dataframe thead th {\n",
       "        text-align: right;\n",
       "    }\n",
       "</style>\n",
       "<table border=\"1\" class=\"dataframe\">\n",
       "  <thead>\n",
       "    <tr style=\"text-align: right;\">\n",
       "      <th></th>\n",
       "      <th>cod_estacion</th>\n",
       "      <th>variable</th>\n",
       "      <th>frecuencia</th>\n",
       "      <th>fecha</th>\n",
       "      <th>valor</th>\n",
       "      <th>grado</th>\n",
       "      <th>tipo_estacion</th>\n",
       "      <th>msnm</th>\n",
       "      <th>cuenca</th>\n",
       "    </tr>\n",
       "  </thead>\n",
       "  <tbody>\n",
       "    <tr>\n",
       "      <th>0</th>\n",
       "      <td>11025010</td>\n",
       "      <td>TMN_CON</td>\n",
       "      <td>Diaria</td>\n",
       "      <td>1991-01-01</td>\n",
       "      <td>11.6</td>\n",
       "      <td>50</td>\n",
       "      <td>Clima Ord</td>\n",
       "      <td>2018.0</td>\n",
       "      <td>198.0</td>\n",
       "    </tr>\n",
       "    <tr>\n",
       "      <th>1</th>\n",
       "      <td>11025010</td>\n",
       "      <td>TMN_CON</td>\n",
       "      <td>Diaria</td>\n",
       "      <td>1991-01-02</td>\n",
       "      <td>12.2</td>\n",
       "      <td>50</td>\n",
       "      <td>Clima Ord</td>\n",
       "      <td>2018.0</td>\n",
       "      <td>198.0</td>\n",
       "    </tr>\n",
       "    <tr>\n",
       "      <th>2</th>\n",
       "      <td>11025010</td>\n",
       "      <td>TMN_CON</td>\n",
       "      <td>Diaria</td>\n",
       "      <td>1991-01-03</td>\n",
       "      <td>13.6</td>\n",
       "      <td>50</td>\n",
       "      <td>Clima Ord</td>\n",
       "      <td>2018.0</td>\n",
       "      <td>198.0</td>\n",
       "    </tr>\n",
       "    <tr>\n",
       "      <th>3</th>\n",
       "      <td>11025010</td>\n",
       "      <td>TMN_CON</td>\n",
       "      <td>Diaria</td>\n",
       "      <td>1991-01-04</td>\n",
       "      <td>13.0</td>\n",
       "      <td>50</td>\n",
       "      <td>Clima Ord</td>\n",
       "      <td>2018.0</td>\n",
       "      <td>198.0</td>\n",
       "    </tr>\n",
       "    <tr>\n",
       "      <th>4</th>\n",
       "      <td>11025010</td>\n",
       "      <td>TMN_CON</td>\n",
       "      <td>Diaria</td>\n",
       "      <td>1991-01-05</td>\n",
       "      <td>13.6</td>\n",
       "      <td>50</td>\n",
       "      <td>Clima Ord</td>\n",
       "      <td>2018.0</td>\n",
       "      <td>198.0</td>\n",
       "    </tr>\n",
       "    <tr>\n",
       "      <th>5</th>\n",
       "      <td>11025010</td>\n",
       "      <td>TMN_CON</td>\n",
       "      <td>Diaria</td>\n",
       "      <td>1991-01-06</td>\n",
       "      <td>14.0</td>\n",
       "      <td>50</td>\n",
       "      <td>Clima Ord</td>\n",
       "      <td>2018.0</td>\n",
       "      <td>198.0</td>\n",
       "    </tr>\n",
       "    <tr>\n",
       "      <th>6</th>\n",
       "      <td>11025010</td>\n",
       "      <td>TMN_CON</td>\n",
       "      <td>Diaria</td>\n",
       "      <td>1991-01-07</td>\n",
       "      <td>13.8</td>\n",
       "      <td>50</td>\n",
       "      <td>Clima Ord</td>\n",
       "      <td>2018.0</td>\n",
       "      <td>198.0</td>\n",
       "    </tr>\n",
       "    <tr>\n",
       "      <th>7</th>\n",
       "      <td>11025010</td>\n",
       "      <td>TMN_CON</td>\n",
       "      <td>Diaria</td>\n",
       "      <td>1991-01-08</td>\n",
       "      <td>13.2</td>\n",
       "      <td>50</td>\n",
       "      <td>Clima Ord</td>\n",
       "      <td>2018.0</td>\n",
       "      <td>198.0</td>\n",
       "    </tr>\n",
       "    <tr>\n",
       "      <th>8</th>\n",
       "      <td>11025010</td>\n",
       "      <td>TMN_CON</td>\n",
       "      <td>Diaria</td>\n",
       "      <td>1991-01-09</td>\n",
       "      <td>14.2</td>\n",
       "      <td>50</td>\n",
       "      <td>Clima Ord</td>\n",
       "      <td>2018.0</td>\n",
       "      <td>198.0</td>\n",
       "    </tr>\n",
       "    <tr>\n",
       "      <th>9</th>\n",
       "      <td>11025010</td>\n",
       "      <td>TMN_CON</td>\n",
       "      <td>Diaria</td>\n",
       "      <td>1991-01-10</td>\n",
       "      <td>11.4</td>\n",
       "      <td>50</td>\n",
       "      <td>Clima Ord</td>\n",
       "      <td>2018.0</td>\n",
       "      <td>198.0</td>\n",
       "    </tr>\n",
       "  </tbody>\n",
       "</table>\n",
       "</div>"
      ],
      "text/plain": [
       "   cod_estacion variable frecuencia      fecha  valor  grado tipo_estacion  \\\n",
       "0      11025010  TMN_CON     Diaria 1991-01-01   11.6     50     Clima Ord   \n",
       "1      11025010  TMN_CON     Diaria 1991-01-02   12.2     50     Clima Ord   \n",
       "2      11025010  TMN_CON     Diaria 1991-01-03   13.6     50     Clima Ord   \n",
       "3      11025010  TMN_CON     Diaria 1991-01-04   13.0     50     Clima Ord   \n",
       "4      11025010  TMN_CON     Diaria 1991-01-05   13.6     50     Clima Ord   \n",
       "5      11025010  TMN_CON     Diaria 1991-01-06   14.0     50     Clima Ord   \n",
       "6      11025010  TMN_CON     Diaria 1991-01-07   13.8     50     Clima Ord   \n",
       "7      11025010  TMN_CON     Diaria 1991-01-08   13.2     50     Clima Ord   \n",
       "8      11025010  TMN_CON     Diaria 1991-01-09   14.2     50     Clima Ord   \n",
       "9      11025010  TMN_CON     Diaria 1991-01-10   11.4     50     Clima Ord   \n",
       "\n",
       "     msnm  cuenca  \n",
       "0  2018.0   198.0  \n",
       "1  2018.0   198.0  \n",
       "2  2018.0   198.0  \n",
       "3  2018.0   198.0  \n",
       "4  2018.0   198.0  \n",
       "5  2018.0   198.0  \n",
       "6  2018.0   198.0  \n",
       "7  2018.0   198.0  \n",
       "8  2018.0   198.0  \n",
       "9  2018.0   198.0  "
      ]
     },
     "execution_count": 11,
     "metadata": {},
     "output_type": "execute_result"
    }
   ],
   "source": [
    "climatica_ord.head(10)"
   ]
  },
  {
   "cell_type": "code",
   "execution_count": 12,
   "metadata": {},
   "outputs": [
    {
     "data": {
      "text/plain": [
       "(3990276, 9)"
      ]
     },
     "execution_count": 12,
     "metadata": {},
     "output_type": "execute_result"
    }
   ],
   "source": [
    "climatica_ord.shape"
   ]
  },
  {
   "cell_type": "markdown",
   "metadata": {},
   "source": [
    "**Estaciones climáticas principales:**"
   ]
  },
  {
   "cell_type": "code",
   "execution_count": 13,
   "metadata": {},
   "outputs": [
    {
     "name": "stdout",
     "output_type": "stream",
     "text": [
      "CPU times: user 1.36 s, sys: 12.1 ms, total: 1.37 s\n",
      "Wall time: 1.37 s\n"
     ]
    }
   ],
   "source": [
    "%%time\n",
    "\n",
    "climatica_ppal = pd.read_csv('data/climatica_principal_res.zip', low_memory = True, \\\n",
    "                            usecols = ['CodigoEstacion','Etiqueta','Fecha','Frecuencia', 'Valor','Grado'],\\\n",
    "                            parse_dates = ['Fecha'], compression = 'zip')\n",
    "\n",
    "climatica_ppal.columns = ['cod_estacion', 'variable', 'frecuencia', 'fecha', 'valor', 'grado']"
   ]
  },
  {
   "cell_type": "code",
   "execution_count": 14,
   "metadata": {},
   "outputs": [
    {
     "data": {
      "text/html": [
       "<div>\n",
       "<style scoped>\n",
       "    .dataframe tbody tr th:only-of-type {\n",
       "        vertical-align: middle;\n",
       "    }\n",
       "\n",
       "    .dataframe tbody tr th {\n",
       "        vertical-align: top;\n",
       "    }\n",
       "\n",
       "    .dataframe thead th {\n",
       "        text-align: right;\n",
       "    }\n",
       "</style>\n",
       "<table border=\"1\" class=\"dataframe\">\n",
       "  <thead>\n",
       "    <tr style=\"text-align: right;\">\n",
       "      <th></th>\n",
       "      <th>cod_estacion</th>\n",
       "      <th>variable</th>\n",
       "      <th>frecuencia</th>\n",
       "      <th>fecha</th>\n",
       "      <th>valor</th>\n",
       "      <th>grado</th>\n",
       "    </tr>\n",
       "  </thead>\n",
       "  <tbody>\n",
       "    <tr>\n",
       "      <th>0</th>\n",
       "      <td>12045010</td>\n",
       "      <td>TMN_CON</td>\n",
       "      <td>Diaria</td>\n",
       "      <td>1991-01-01</td>\n",
       "      <td>20.8</td>\n",
       "      <td>50</td>\n",
       "    </tr>\n",
       "    <tr>\n",
       "      <th>1</th>\n",
       "      <td>12045010</td>\n",
       "      <td>TMN_CON</td>\n",
       "      <td>Diaria</td>\n",
       "      <td>1991-01-02</td>\n",
       "      <td>24.2</td>\n",
       "      <td>50</td>\n",
       "    </tr>\n",
       "    <tr>\n",
       "      <th>2</th>\n",
       "      <td>12045010</td>\n",
       "      <td>TMN_CON</td>\n",
       "      <td>Diaria</td>\n",
       "      <td>1991-01-03</td>\n",
       "      <td>22.2</td>\n",
       "      <td>50</td>\n",
       "    </tr>\n",
       "    <tr>\n",
       "      <th>3</th>\n",
       "      <td>12045010</td>\n",
       "      <td>TMN_CON</td>\n",
       "      <td>Diaria</td>\n",
       "      <td>1991-01-04</td>\n",
       "      <td>21.2</td>\n",
       "      <td>50</td>\n",
       "    </tr>\n",
       "    <tr>\n",
       "      <th>4</th>\n",
       "      <td>12045010</td>\n",
       "      <td>TMN_CON</td>\n",
       "      <td>Diaria</td>\n",
       "      <td>1991-01-05</td>\n",
       "      <td>20.0</td>\n",
       "      <td>50</td>\n",
       "    </tr>\n",
       "    <tr>\n",
       "      <th>5</th>\n",
       "      <td>12045010</td>\n",
       "      <td>TMN_CON</td>\n",
       "      <td>Diaria</td>\n",
       "      <td>1991-01-06</td>\n",
       "      <td>26.8</td>\n",
       "      <td>50</td>\n",
       "    </tr>\n",
       "    <tr>\n",
       "      <th>6</th>\n",
       "      <td>12045010</td>\n",
       "      <td>TMN_CON</td>\n",
       "      <td>Diaria</td>\n",
       "      <td>1991-01-07</td>\n",
       "      <td>26.6</td>\n",
       "      <td>50</td>\n",
       "    </tr>\n",
       "    <tr>\n",
       "      <th>7</th>\n",
       "      <td>12045010</td>\n",
       "      <td>TMN_CON</td>\n",
       "      <td>Diaria</td>\n",
       "      <td>1991-01-08</td>\n",
       "      <td>25.6</td>\n",
       "      <td>50</td>\n",
       "    </tr>\n",
       "    <tr>\n",
       "      <th>8</th>\n",
       "      <td>12045010</td>\n",
       "      <td>TMN_CON</td>\n",
       "      <td>Diaria</td>\n",
       "      <td>1991-01-09</td>\n",
       "      <td>26.4</td>\n",
       "      <td>50</td>\n",
       "    </tr>\n",
       "    <tr>\n",
       "      <th>9</th>\n",
       "      <td>12045010</td>\n",
       "      <td>TMN_CON</td>\n",
       "      <td>Diaria</td>\n",
       "      <td>1991-01-10</td>\n",
       "      <td>27.2</td>\n",
       "      <td>50</td>\n",
       "    </tr>\n",
       "  </tbody>\n",
       "</table>\n",
       "</div>"
      ],
      "text/plain": [
       "   cod_estacion variable frecuencia      fecha  valor  grado\n",
       "0      12045010  TMN_CON     Diaria 1991-01-01   20.8     50\n",
       "1      12045010  TMN_CON     Diaria 1991-01-02   24.2     50\n",
       "2      12045010  TMN_CON     Diaria 1991-01-03   22.2     50\n",
       "3      12045010  TMN_CON     Diaria 1991-01-04   21.2     50\n",
       "4      12045010  TMN_CON     Diaria 1991-01-05   20.0     50\n",
       "5      12045010  TMN_CON     Diaria 1991-01-06   26.8     50\n",
       "6      12045010  TMN_CON     Diaria 1991-01-07   26.6     50\n",
       "7      12045010  TMN_CON     Diaria 1991-01-08   25.6     50\n",
       "8      12045010  TMN_CON     Diaria 1991-01-09   26.4     50\n",
       "9      12045010  TMN_CON     Diaria 1991-01-10   27.2     50"
      ]
     },
     "execution_count": 14,
     "metadata": {},
     "output_type": "execute_result"
    }
   ],
   "source": [
    "climatica_ppal.head(10)"
   ]
  },
  {
   "cell_type": "code",
   "execution_count": 15,
   "metadata": {},
   "outputs": [
    {
     "data": {
      "text/plain": [
       "cod_estacion             int64\n",
       "variable                object\n",
       "frecuencia              object\n",
       "fecha           datetime64[ns]\n",
       "valor                  float64\n",
       "grado                    int64\n",
       "dtype: object"
      ]
     },
     "execution_count": 15,
     "metadata": {},
     "output_type": "execute_result"
    }
   ],
   "source": [
    "climatica_ppal.dtypes"
   ]
  },
  {
   "cell_type": "code",
   "execution_count": 16,
   "metadata": {},
   "outputs": [
    {
     "data": {
      "text/plain": [
       "(1240194, 6)"
      ]
     },
     "execution_count": 16,
     "metadata": {},
     "output_type": "execute_result"
    }
   ],
   "source": [
    "climatica_ppal.shape"
   ]
  },
  {
   "cell_type": "code",
   "execution_count": 17,
   "metadata": {},
   "outputs": [
    {
     "name": "stdout",
     "output_type": "stream",
     "text": [
      "CPU times: user 2.6 ms, sys: 155 µs, total: 2.76 ms\n",
      "Wall time: 3.85 ms\n"
     ]
    }
   ],
   "source": [
    "%%time\n",
    "\n",
    "estaciones = pd.read_csv('data/EstClimPrinc_316Cuencas.csv', header = None, \\\n",
    "                          skiprows = 1, delimiter = '|')\n",
    "\n",
    "estaciones.columns = ['tipo_estacion', 'cod_estacion', 'msnm', 'cuenca']"
   ]
  },
  {
   "cell_type": "code",
   "execution_count": 18,
   "metadata": {},
   "outputs": [
    {
     "data": {
      "text/html": [
       "<div>\n",
       "<style scoped>\n",
       "    .dataframe tbody tr th:only-of-type {\n",
       "        vertical-align: middle;\n",
       "    }\n",
       "\n",
       "    .dataframe tbody tr th {\n",
       "        vertical-align: top;\n",
       "    }\n",
       "\n",
       "    .dataframe thead th {\n",
       "        text-align: right;\n",
       "    }\n",
       "</style>\n",
       "<table border=\"1\" class=\"dataframe\">\n",
       "  <thead>\n",
       "    <tr style=\"text-align: right;\">\n",
       "      <th></th>\n",
       "      <th>tipo_estacion</th>\n",
       "      <th>cod_estacion</th>\n",
       "      <th>msnm</th>\n",
       "      <th>cuenca</th>\n",
       "    </tr>\n",
       "  </thead>\n",
       "  <tbody>\n",
       "    <tr>\n",
       "      <th>0</th>\n",
       "      <td>Clima Ppal</td>\n",
       "      <td>12045010</td>\n",
       "      <td>40</td>\n",
       "      <td>175</td>\n",
       "    </tr>\n",
       "    <tr>\n",
       "      <th>1</th>\n",
       "      <td>Clima Ppal</td>\n",
       "      <td>13085010</td>\n",
       "      <td>20</td>\n",
       "      <td>174</td>\n",
       "    </tr>\n",
       "    <tr>\n",
       "      <th>2</th>\n",
       "      <td>Clima Ppal</td>\n",
       "      <td>13095020</td>\n",
       "      <td>200</td>\n",
       "      <td>168</td>\n",
       "    </tr>\n",
       "    <tr>\n",
       "      <th>3</th>\n",
       "      <td>Clima Ppal</td>\n",
       "      <td>14015010</td>\n",
       "      <td>20</td>\n",
       "      <td>307</td>\n",
       "    </tr>\n",
       "    <tr>\n",
       "      <th>4</th>\n",
       "      <td>Clima Ppal</td>\n",
       "      <td>14015030</td>\n",
       "      <td>1000</td>\n",
       "      <td>307</td>\n",
       "    </tr>\n",
       "    <tr>\n",
       "      <th>5</th>\n",
       "      <td>Clima Ppal</td>\n",
       "      <td>15015060</td>\n",
       "      <td>2200</td>\n",
       "      <td>296</td>\n",
       "    </tr>\n",
       "    <tr>\n",
       "      <th>6</th>\n",
       "      <td>Clima Ppal</td>\n",
       "      <td>15065040</td>\n",
       "      <td>170</td>\n",
       "      <td>202</td>\n",
       "    </tr>\n",
       "    <tr>\n",
       "      <th>7</th>\n",
       "      <td>Clima Ppal</td>\n",
       "      <td>15075030</td>\n",
       "      <td>1</td>\n",
       "      <td>187</td>\n",
       "    </tr>\n",
       "    <tr>\n",
       "      <th>8</th>\n",
       "      <td>Clima Ppal</td>\n",
       "      <td>15085020</td>\n",
       "      <td>85</td>\n",
       "      <td>185</td>\n",
       "    </tr>\n",
       "    <tr>\n",
       "      <th>9</th>\n",
       "      <td>Clima Ppal</td>\n",
       "      <td>16015090</td>\n",
       "      <td>2500</td>\n",
       "      <td>167</td>\n",
       "    </tr>\n",
       "  </tbody>\n",
       "</table>\n",
       "</div>"
      ],
      "text/plain": [
       "  tipo_estacion  cod_estacion  msnm  cuenca\n",
       "0    Clima Ppal      12045010    40     175\n",
       "1    Clima Ppal      13085010    20     174\n",
       "2    Clima Ppal      13095020   200     168\n",
       "3    Clima Ppal      14015010    20     307\n",
       "4    Clima Ppal      14015030  1000     307\n",
       "5    Clima Ppal      15015060  2200     296\n",
       "6    Clima Ppal      15065040   170     202\n",
       "7    Clima Ppal      15075030     1     187\n",
       "8    Clima Ppal      15085020    85     185\n",
       "9    Clima Ppal      16015090  2500     167"
      ]
     },
     "execution_count": 18,
     "metadata": {},
     "output_type": "execute_result"
    }
   ],
   "source": [
    "estaciones.head(10)"
   ]
  },
  {
   "cell_type": "code",
   "execution_count": 19,
   "metadata": {},
   "outputs": [
    {
     "data": {
      "text/plain": [
       "tipo_estacion    object\n",
       "cod_estacion      int64\n",
       "msnm              int64\n",
       "cuenca            int64\n",
       "dtype: object"
      ]
     },
     "execution_count": 19,
     "metadata": {},
     "output_type": "execute_result"
    }
   ],
   "source": [
    "estaciones.dtypes"
   ]
  },
  {
   "cell_type": "code",
   "execution_count": 20,
   "metadata": {},
   "outputs": [
    {
     "data": {
      "text/plain": [
       "(106, 4)"
      ]
     },
     "execution_count": 20,
     "metadata": {},
     "output_type": "execute_result"
    }
   ],
   "source": [
    "estaciones.shape"
   ]
  },
  {
   "cell_type": "code",
   "execution_count": 21,
   "metadata": {},
   "outputs": [],
   "source": [
    "climatica_ppal = climatica_ppal.merge(estaciones, how = 'left', on = 'cod_estacion', \\\n",
    "                                      copy = True)"
   ]
  },
  {
   "cell_type": "code",
   "execution_count": 22,
   "metadata": {},
   "outputs": [
    {
     "data": {
      "text/html": [
       "<div>\n",
       "<style scoped>\n",
       "    .dataframe tbody tr th:only-of-type {\n",
       "        vertical-align: middle;\n",
       "    }\n",
       "\n",
       "    .dataframe tbody tr th {\n",
       "        vertical-align: top;\n",
       "    }\n",
       "\n",
       "    .dataframe thead th {\n",
       "        text-align: right;\n",
       "    }\n",
       "</style>\n",
       "<table border=\"1\" class=\"dataframe\">\n",
       "  <thead>\n",
       "    <tr style=\"text-align: right;\">\n",
       "      <th></th>\n",
       "      <th>cod_estacion</th>\n",
       "      <th>variable</th>\n",
       "      <th>frecuencia</th>\n",
       "      <th>fecha</th>\n",
       "      <th>valor</th>\n",
       "      <th>grado</th>\n",
       "      <th>tipo_estacion</th>\n",
       "      <th>msnm</th>\n",
       "      <th>cuenca</th>\n",
       "    </tr>\n",
       "  </thead>\n",
       "  <tbody>\n",
       "    <tr>\n",
       "      <th>0</th>\n",
       "      <td>12045010</td>\n",
       "      <td>TMN_CON</td>\n",
       "      <td>Diaria</td>\n",
       "      <td>1991-01-01</td>\n",
       "      <td>20.8</td>\n",
       "      <td>50</td>\n",
       "      <td>Clima Ppal</td>\n",
       "      <td>40.0</td>\n",
       "      <td>175.0</td>\n",
       "    </tr>\n",
       "    <tr>\n",
       "      <th>1</th>\n",
       "      <td>12045010</td>\n",
       "      <td>TMN_CON</td>\n",
       "      <td>Diaria</td>\n",
       "      <td>1991-01-02</td>\n",
       "      <td>24.2</td>\n",
       "      <td>50</td>\n",
       "      <td>Clima Ppal</td>\n",
       "      <td>40.0</td>\n",
       "      <td>175.0</td>\n",
       "    </tr>\n",
       "    <tr>\n",
       "      <th>2</th>\n",
       "      <td>12045010</td>\n",
       "      <td>TMN_CON</td>\n",
       "      <td>Diaria</td>\n",
       "      <td>1991-01-03</td>\n",
       "      <td>22.2</td>\n",
       "      <td>50</td>\n",
       "      <td>Clima Ppal</td>\n",
       "      <td>40.0</td>\n",
       "      <td>175.0</td>\n",
       "    </tr>\n",
       "    <tr>\n",
       "      <th>3</th>\n",
       "      <td>12045010</td>\n",
       "      <td>TMN_CON</td>\n",
       "      <td>Diaria</td>\n",
       "      <td>1991-01-04</td>\n",
       "      <td>21.2</td>\n",
       "      <td>50</td>\n",
       "      <td>Clima Ppal</td>\n",
       "      <td>40.0</td>\n",
       "      <td>175.0</td>\n",
       "    </tr>\n",
       "    <tr>\n",
       "      <th>4</th>\n",
       "      <td>12045010</td>\n",
       "      <td>TMN_CON</td>\n",
       "      <td>Diaria</td>\n",
       "      <td>1991-01-05</td>\n",
       "      <td>20.0</td>\n",
       "      <td>50</td>\n",
       "      <td>Clima Ppal</td>\n",
       "      <td>40.0</td>\n",
       "      <td>175.0</td>\n",
       "    </tr>\n",
       "    <tr>\n",
       "      <th>5</th>\n",
       "      <td>12045010</td>\n",
       "      <td>TMN_CON</td>\n",
       "      <td>Diaria</td>\n",
       "      <td>1991-01-06</td>\n",
       "      <td>26.8</td>\n",
       "      <td>50</td>\n",
       "      <td>Clima Ppal</td>\n",
       "      <td>40.0</td>\n",
       "      <td>175.0</td>\n",
       "    </tr>\n",
       "    <tr>\n",
       "      <th>6</th>\n",
       "      <td>12045010</td>\n",
       "      <td>TMN_CON</td>\n",
       "      <td>Diaria</td>\n",
       "      <td>1991-01-07</td>\n",
       "      <td>26.6</td>\n",
       "      <td>50</td>\n",
       "      <td>Clima Ppal</td>\n",
       "      <td>40.0</td>\n",
       "      <td>175.0</td>\n",
       "    </tr>\n",
       "    <tr>\n",
       "      <th>7</th>\n",
       "      <td>12045010</td>\n",
       "      <td>TMN_CON</td>\n",
       "      <td>Diaria</td>\n",
       "      <td>1991-01-08</td>\n",
       "      <td>25.6</td>\n",
       "      <td>50</td>\n",
       "      <td>Clima Ppal</td>\n",
       "      <td>40.0</td>\n",
       "      <td>175.0</td>\n",
       "    </tr>\n",
       "    <tr>\n",
       "      <th>8</th>\n",
       "      <td>12045010</td>\n",
       "      <td>TMN_CON</td>\n",
       "      <td>Diaria</td>\n",
       "      <td>1991-01-09</td>\n",
       "      <td>26.4</td>\n",
       "      <td>50</td>\n",
       "      <td>Clima Ppal</td>\n",
       "      <td>40.0</td>\n",
       "      <td>175.0</td>\n",
       "    </tr>\n",
       "    <tr>\n",
       "      <th>9</th>\n",
       "      <td>12045010</td>\n",
       "      <td>TMN_CON</td>\n",
       "      <td>Diaria</td>\n",
       "      <td>1991-01-10</td>\n",
       "      <td>27.2</td>\n",
       "      <td>50</td>\n",
       "      <td>Clima Ppal</td>\n",
       "      <td>40.0</td>\n",
       "      <td>175.0</td>\n",
       "    </tr>\n",
       "  </tbody>\n",
       "</table>\n",
       "</div>"
      ],
      "text/plain": [
       "   cod_estacion variable frecuencia      fecha  valor  grado tipo_estacion  \\\n",
       "0      12045010  TMN_CON     Diaria 1991-01-01   20.8     50    Clima Ppal   \n",
       "1      12045010  TMN_CON     Diaria 1991-01-02   24.2     50    Clima Ppal   \n",
       "2      12045010  TMN_CON     Diaria 1991-01-03   22.2     50    Clima Ppal   \n",
       "3      12045010  TMN_CON     Diaria 1991-01-04   21.2     50    Clima Ppal   \n",
       "4      12045010  TMN_CON     Diaria 1991-01-05   20.0     50    Clima Ppal   \n",
       "5      12045010  TMN_CON     Diaria 1991-01-06   26.8     50    Clima Ppal   \n",
       "6      12045010  TMN_CON     Diaria 1991-01-07   26.6     50    Clima Ppal   \n",
       "7      12045010  TMN_CON     Diaria 1991-01-08   25.6     50    Clima Ppal   \n",
       "8      12045010  TMN_CON     Diaria 1991-01-09   26.4     50    Clima Ppal   \n",
       "9      12045010  TMN_CON     Diaria 1991-01-10   27.2     50    Clima Ppal   \n",
       "\n",
       "   msnm  cuenca  \n",
       "0  40.0   175.0  \n",
       "1  40.0   175.0  \n",
       "2  40.0   175.0  \n",
       "3  40.0   175.0  \n",
       "4  40.0   175.0  \n",
       "5  40.0   175.0  \n",
       "6  40.0   175.0  \n",
       "7  40.0   175.0  \n",
       "8  40.0   175.0  \n",
       "9  40.0   175.0  "
      ]
     },
     "execution_count": 22,
     "metadata": {},
     "output_type": "execute_result"
    }
   ],
   "source": [
    "climatica_ppal.head(10)"
   ]
  },
  {
   "cell_type": "code",
   "execution_count": 23,
   "metadata": {},
   "outputs": [
    {
     "data": {
      "text/plain": [
       "(1240194, 9)"
      ]
     },
     "execution_count": 23,
     "metadata": {},
     "output_type": "execute_result"
    }
   ],
   "source": [
    "climatica_ppal.shape"
   ]
  },
  {
   "cell_type": "markdown",
   "metadata": {},
   "source": [
    "### 1.2 Creación de variables soporte para análisis "
   ]
  },
  {
   "cell_type": "markdown",
   "metadata": {},
   "source": [
    "**<u>Años - Meses - días</u>**"
   ]
  },
  {
   "cell_type": "code",
   "execution_count": 24,
   "metadata": {},
   "outputs": [
    {
     "data": {
      "text/html": [
       "<div>\n",
       "<style scoped>\n",
       "    .dataframe tbody tr th:only-of-type {\n",
       "        vertical-align: middle;\n",
       "    }\n",
       "\n",
       "    .dataframe tbody tr th {\n",
       "        vertical-align: top;\n",
       "    }\n",
       "\n",
       "    .dataframe thead th {\n",
       "        text-align: right;\n",
       "    }\n",
       "</style>\n",
       "<table border=\"1\" class=\"dataframe\">\n",
       "  <thead>\n",
       "    <tr style=\"text-align: right;\">\n",
       "      <th></th>\n",
       "      <th>cod_estacion</th>\n",
       "      <th>variable</th>\n",
       "      <th>frecuencia</th>\n",
       "      <th>fecha</th>\n",
       "      <th>valor</th>\n",
       "      <th>grado</th>\n",
       "      <th>tipo_estacion</th>\n",
       "      <th>msnm</th>\n",
       "      <th>cuenca</th>\n",
       "      <th>year</th>\n",
       "      <th>month</th>\n",
       "      <th>day</th>\n",
       "    </tr>\n",
       "  </thead>\n",
       "  <tbody>\n",
       "    <tr>\n",
       "      <th>0</th>\n",
       "      <td>11025010</td>\n",
       "      <td>TMN_CON</td>\n",
       "      <td>Diaria</td>\n",
       "      <td>1991-01-01</td>\n",
       "      <td>11.6</td>\n",
       "      <td>50</td>\n",
       "      <td>Clima Ord</td>\n",
       "      <td>2018.0</td>\n",
       "      <td>198.0</td>\n",
       "      <td>1991</td>\n",
       "      <td>1</td>\n",
       "      <td>1</td>\n",
       "    </tr>\n",
       "    <tr>\n",
       "      <th>1</th>\n",
       "      <td>11025010</td>\n",
       "      <td>TMN_CON</td>\n",
       "      <td>Diaria</td>\n",
       "      <td>1991-01-02</td>\n",
       "      <td>12.2</td>\n",
       "      <td>50</td>\n",
       "      <td>Clima Ord</td>\n",
       "      <td>2018.0</td>\n",
       "      <td>198.0</td>\n",
       "      <td>1991</td>\n",
       "      <td>1</td>\n",
       "      <td>2</td>\n",
       "    </tr>\n",
       "    <tr>\n",
       "      <th>2</th>\n",
       "      <td>11025010</td>\n",
       "      <td>TMN_CON</td>\n",
       "      <td>Diaria</td>\n",
       "      <td>1991-01-03</td>\n",
       "      <td>13.6</td>\n",
       "      <td>50</td>\n",
       "      <td>Clima Ord</td>\n",
       "      <td>2018.0</td>\n",
       "      <td>198.0</td>\n",
       "      <td>1991</td>\n",
       "      <td>1</td>\n",
       "      <td>3</td>\n",
       "    </tr>\n",
       "    <tr>\n",
       "      <th>3</th>\n",
       "      <td>11025010</td>\n",
       "      <td>TMN_CON</td>\n",
       "      <td>Diaria</td>\n",
       "      <td>1991-01-04</td>\n",
       "      <td>13.0</td>\n",
       "      <td>50</td>\n",
       "      <td>Clima Ord</td>\n",
       "      <td>2018.0</td>\n",
       "      <td>198.0</td>\n",
       "      <td>1991</td>\n",
       "      <td>1</td>\n",
       "      <td>4</td>\n",
       "    </tr>\n",
       "    <tr>\n",
       "      <th>4</th>\n",
       "      <td>11025010</td>\n",
       "      <td>TMN_CON</td>\n",
       "      <td>Diaria</td>\n",
       "      <td>1991-01-05</td>\n",
       "      <td>13.6</td>\n",
       "      <td>50</td>\n",
       "      <td>Clima Ord</td>\n",
       "      <td>2018.0</td>\n",
       "      <td>198.0</td>\n",
       "      <td>1991</td>\n",
       "      <td>1</td>\n",
       "      <td>5</td>\n",
       "    </tr>\n",
       "  </tbody>\n",
       "</table>\n",
       "</div>"
      ],
      "text/plain": [
       "   cod_estacion variable frecuencia      fecha  valor  grado tipo_estacion  \\\n",
       "0      11025010  TMN_CON     Diaria 1991-01-01   11.6     50     Clima Ord   \n",
       "1      11025010  TMN_CON     Diaria 1991-01-02   12.2     50     Clima Ord   \n",
       "2      11025010  TMN_CON     Diaria 1991-01-03   13.6     50     Clima Ord   \n",
       "3      11025010  TMN_CON     Diaria 1991-01-04   13.0     50     Clima Ord   \n",
       "4      11025010  TMN_CON     Diaria 1991-01-05   13.6     50     Clima Ord   \n",
       "\n",
       "     msnm  cuenca  year  month  day  \n",
       "0  2018.0   198.0  1991      1    1  \n",
       "1  2018.0   198.0  1991      1    2  \n",
       "2  2018.0   198.0  1991      1    3  \n",
       "3  2018.0   198.0  1991      1    4  \n",
       "4  2018.0   198.0  1991      1    5  "
      ]
     },
     "execution_count": 24,
     "metadata": {},
     "output_type": "execute_result"
    }
   ],
   "source": [
    "climatica_ord['year'] = pd.DatetimeIndex(climatica_ord['fecha']).year\n",
    "climatica_ord['month'] = pd.DatetimeIndex(climatica_ord['fecha']).month\n",
    "climatica_ord['day'] = pd.DatetimeIndex(climatica_ord['fecha']).day\n",
    "\n",
    "climatica_ord.head(5)"
   ]
  },
  {
   "cell_type": "code",
   "execution_count": 25,
   "metadata": {},
   "outputs": [
    {
     "data": {
      "text/html": [
       "<div>\n",
       "<style scoped>\n",
       "    .dataframe tbody tr th:only-of-type {\n",
       "        vertical-align: middle;\n",
       "    }\n",
       "\n",
       "    .dataframe tbody tr th {\n",
       "        vertical-align: top;\n",
       "    }\n",
       "\n",
       "    .dataframe thead th {\n",
       "        text-align: right;\n",
       "    }\n",
       "</style>\n",
       "<table border=\"1\" class=\"dataframe\">\n",
       "  <thead>\n",
       "    <tr style=\"text-align: right;\">\n",
       "      <th></th>\n",
       "      <th>cod_estacion</th>\n",
       "      <th>variable</th>\n",
       "      <th>frecuencia</th>\n",
       "      <th>fecha</th>\n",
       "      <th>valor</th>\n",
       "      <th>grado</th>\n",
       "      <th>tipo_estacion</th>\n",
       "      <th>msnm</th>\n",
       "      <th>cuenca</th>\n",
       "      <th>year</th>\n",
       "      <th>month</th>\n",
       "      <th>day</th>\n",
       "    </tr>\n",
       "  </thead>\n",
       "  <tbody>\n",
       "    <tr>\n",
       "      <th>0</th>\n",
       "      <td>12045010</td>\n",
       "      <td>TMN_CON</td>\n",
       "      <td>Diaria</td>\n",
       "      <td>1991-01-01</td>\n",
       "      <td>20.8</td>\n",
       "      <td>50</td>\n",
       "      <td>Clima Ppal</td>\n",
       "      <td>40.0</td>\n",
       "      <td>175.0</td>\n",
       "      <td>1991</td>\n",
       "      <td>1</td>\n",
       "      <td>1</td>\n",
       "    </tr>\n",
       "    <tr>\n",
       "      <th>1</th>\n",
       "      <td>12045010</td>\n",
       "      <td>TMN_CON</td>\n",
       "      <td>Diaria</td>\n",
       "      <td>1991-01-02</td>\n",
       "      <td>24.2</td>\n",
       "      <td>50</td>\n",
       "      <td>Clima Ppal</td>\n",
       "      <td>40.0</td>\n",
       "      <td>175.0</td>\n",
       "      <td>1991</td>\n",
       "      <td>1</td>\n",
       "      <td>2</td>\n",
       "    </tr>\n",
       "    <tr>\n",
       "      <th>2</th>\n",
       "      <td>12045010</td>\n",
       "      <td>TMN_CON</td>\n",
       "      <td>Diaria</td>\n",
       "      <td>1991-01-03</td>\n",
       "      <td>22.2</td>\n",
       "      <td>50</td>\n",
       "      <td>Clima Ppal</td>\n",
       "      <td>40.0</td>\n",
       "      <td>175.0</td>\n",
       "      <td>1991</td>\n",
       "      <td>1</td>\n",
       "      <td>3</td>\n",
       "    </tr>\n",
       "    <tr>\n",
       "      <th>3</th>\n",
       "      <td>12045010</td>\n",
       "      <td>TMN_CON</td>\n",
       "      <td>Diaria</td>\n",
       "      <td>1991-01-04</td>\n",
       "      <td>21.2</td>\n",
       "      <td>50</td>\n",
       "      <td>Clima Ppal</td>\n",
       "      <td>40.0</td>\n",
       "      <td>175.0</td>\n",
       "      <td>1991</td>\n",
       "      <td>1</td>\n",
       "      <td>4</td>\n",
       "    </tr>\n",
       "    <tr>\n",
       "      <th>4</th>\n",
       "      <td>12045010</td>\n",
       "      <td>TMN_CON</td>\n",
       "      <td>Diaria</td>\n",
       "      <td>1991-01-05</td>\n",
       "      <td>20.0</td>\n",
       "      <td>50</td>\n",
       "      <td>Clima Ppal</td>\n",
       "      <td>40.0</td>\n",
       "      <td>175.0</td>\n",
       "      <td>1991</td>\n",
       "      <td>1</td>\n",
       "      <td>5</td>\n",
       "    </tr>\n",
       "  </tbody>\n",
       "</table>\n",
       "</div>"
      ],
      "text/plain": [
       "   cod_estacion variable frecuencia      fecha  valor  grado tipo_estacion  \\\n",
       "0      12045010  TMN_CON     Diaria 1991-01-01   20.8     50    Clima Ppal   \n",
       "1      12045010  TMN_CON     Diaria 1991-01-02   24.2     50    Clima Ppal   \n",
       "2      12045010  TMN_CON     Diaria 1991-01-03   22.2     50    Clima Ppal   \n",
       "3      12045010  TMN_CON     Diaria 1991-01-04   21.2     50    Clima Ppal   \n",
       "4      12045010  TMN_CON     Diaria 1991-01-05   20.0     50    Clima Ppal   \n",
       "\n",
       "   msnm  cuenca  year  month  day  \n",
       "0  40.0   175.0  1991      1    1  \n",
       "1  40.0   175.0  1991      1    2  \n",
       "2  40.0   175.0  1991      1    3  \n",
       "3  40.0   175.0  1991      1    4  \n",
       "4  40.0   175.0  1991      1    5  "
      ]
     },
     "execution_count": 25,
     "metadata": {},
     "output_type": "execute_result"
    }
   ],
   "source": [
    "climatica_ppal['year'] = pd.DatetimeIndex(climatica_ppal['fecha']).year\n",
    "climatica_ppal['month'] = pd.DatetimeIndex(climatica_ppal['fecha']).month\n",
    "climatica_ppal['day'] = pd.DatetimeIndex(climatica_ppal['fecha']).day\n",
    "\n",
    "climatica_ppal.head(5)"
   ]
  },
  {
   "cell_type": "markdown",
   "metadata": {},
   "source": [
    "**<u>Calendario para controlar los días sin lecturas</u>**"
   ]
  },
  {
   "cell_type": "code",
   "execution_count": 26,
   "metadata": {},
   "outputs": [
    {
     "data": {
      "text/html": [
       "<div>\n",
       "<style scoped>\n",
       "    .dataframe tbody tr th:only-of-type {\n",
       "        vertical-align: middle;\n",
       "    }\n",
       "\n",
       "    .dataframe tbody tr th {\n",
       "        vertical-align: top;\n",
       "    }\n",
       "\n",
       "    .dataframe thead th {\n",
       "        text-align: right;\n",
       "    }\n",
       "</style>\n",
       "<table border=\"1\" class=\"dataframe\">\n",
       "  <thead>\n",
       "    <tr style=\"text-align: right;\">\n",
       "      <th></th>\n",
       "      <th>fecha</th>\n",
       "      <th>year_cal</th>\n",
       "      <th>month_cal</th>\n",
       "      <th>day_cal</th>\n",
       "    </tr>\n",
       "  </thead>\n",
       "  <tbody>\n",
       "    <tr>\n",
       "      <th>0</th>\n",
       "      <td>1990-01-01</td>\n",
       "      <td>1990</td>\n",
       "      <td>1</td>\n",
       "      <td>1</td>\n",
       "    </tr>\n",
       "    <tr>\n",
       "      <th>1</th>\n",
       "      <td>1990-01-02</td>\n",
       "      <td>1990</td>\n",
       "      <td>1</td>\n",
       "      <td>2</td>\n",
       "    </tr>\n",
       "    <tr>\n",
       "      <th>2</th>\n",
       "      <td>1990-01-03</td>\n",
       "      <td>1990</td>\n",
       "      <td>1</td>\n",
       "      <td>3</td>\n",
       "    </tr>\n",
       "    <tr>\n",
       "      <th>3</th>\n",
       "      <td>1990-01-04</td>\n",
       "      <td>1990</td>\n",
       "      <td>1</td>\n",
       "      <td>4</td>\n",
       "    </tr>\n",
       "    <tr>\n",
       "      <th>4</th>\n",
       "      <td>1990-01-05</td>\n",
       "      <td>1990</td>\n",
       "      <td>1</td>\n",
       "      <td>5</td>\n",
       "    </tr>\n",
       "  </tbody>\n",
       "</table>\n",
       "</div>"
      ],
      "text/plain": [
       "       fecha  year_cal  month_cal  day_cal\n",
       "0 1990-01-01      1990          1        1\n",
       "1 1990-01-02      1990          1        2\n",
       "2 1990-01-03      1990          1        3\n",
       "3 1990-01-04      1990          1        4\n",
       "4 1990-01-05      1990          1        5"
      ]
     },
     "execution_count": 26,
     "metadata": {},
     "output_type": "execute_result"
    }
   ],
   "source": [
    "calendario = pd.DataFrame(pd.date_range(start = '1/1/1990', end = '31/12/2018'))\n",
    "calendario.columns = ['fecha']\n",
    "\n",
    "calendario['year_cal'] = pd.DatetimeIndex(calendario['fecha']).year\n",
    "calendario['month_cal'] = pd.DatetimeIndex(calendario['fecha']).month\n",
    "calendario['day_cal'] = pd.DatetimeIndex(calendario['fecha']).day\n",
    "\n",
    "calendario.head(5)"
   ]
  },
  {
   "cell_type": "code",
   "execution_count": 27,
   "metadata": {},
   "outputs": [
    {
     "data": {
      "text/plain": [
       "(10592, 4)"
      ]
     },
     "execution_count": 27,
     "metadata": {},
     "output_type": "execute_result"
    }
   ],
   "source": [
    "calendario.shape"
   ]
  },
  {
   "cell_type": "markdown",
   "metadata": {},
   "source": [
    "### 1.3 Consolidación de calendarios con climáticas"
   ]
  },
  {
   "cell_type": "code",
   "execution_count": 28,
   "metadata": {},
   "outputs": [
    {
     "data": {
      "text/html": [
       "<div>\n",
       "<style scoped>\n",
       "    .dataframe tbody tr th:only-of-type {\n",
       "        vertical-align: middle;\n",
       "    }\n",
       "\n",
       "    .dataframe tbody tr th {\n",
       "        vertical-align: top;\n",
       "    }\n",
       "\n",
       "    .dataframe thead th {\n",
       "        text-align: right;\n",
       "    }\n",
       "</style>\n",
       "<table border=\"1\" class=\"dataframe\">\n",
       "  <thead>\n",
       "    <tr style=\"text-align: right;\">\n",
       "      <th></th>\n",
       "      <th>fecha</th>\n",
       "      <th>year_cal</th>\n",
       "      <th>month_cal</th>\n",
       "      <th>day_cal</th>\n",
       "      <th>cod_estacion</th>\n",
       "      <th>variable</th>\n",
       "      <th>frecuencia</th>\n",
       "      <th>valor</th>\n",
       "      <th>grado</th>\n",
       "      <th>tipo_estacion</th>\n",
       "      <th>msnm</th>\n",
       "      <th>cuenca</th>\n",
       "      <th>year</th>\n",
       "      <th>month</th>\n",
       "      <th>day</th>\n",
       "    </tr>\n",
       "  </thead>\n",
       "  <tbody>\n",
       "    <tr>\n",
       "      <th>0</th>\n",
       "      <td>1990-01-01</td>\n",
       "      <td>1990</td>\n",
       "      <td>1</td>\n",
       "      <td>1</td>\n",
       "      <td>NaN</td>\n",
       "      <td>NaN</td>\n",
       "      <td>NaN</td>\n",
       "      <td>NaN</td>\n",
       "      <td>NaN</td>\n",
       "      <td>NaN</td>\n",
       "      <td>NaN</td>\n",
       "      <td>NaN</td>\n",
       "      <td>NaN</td>\n",
       "      <td>NaN</td>\n",
       "      <td>NaN</td>\n",
       "    </tr>\n",
       "    <tr>\n",
       "      <th>1</th>\n",
       "      <td>1990-01-02</td>\n",
       "      <td>1990</td>\n",
       "      <td>1</td>\n",
       "      <td>2</td>\n",
       "      <td>NaN</td>\n",
       "      <td>NaN</td>\n",
       "      <td>NaN</td>\n",
       "      <td>NaN</td>\n",
       "      <td>NaN</td>\n",
       "      <td>NaN</td>\n",
       "      <td>NaN</td>\n",
       "      <td>NaN</td>\n",
       "      <td>NaN</td>\n",
       "      <td>NaN</td>\n",
       "      <td>NaN</td>\n",
       "    </tr>\n",
       "    <tr>\n",
       "      <th>2</th>\n",
       "      <td>1990-01-03</td>\n",
       "      <td>1990</td>\n",
       "      <td>1</td>\n",
       "      <td>3</td>\n",
       "      <td>NaN</td>\n",
       "      <td>NaN</td>\n",
       "      <td>NaN</td>\n",
       "      <td>NaN</td>\n",
       "      <td>NaN</td>\n",
       "      <td>NaN</td>\n",
       "      <td>NaN</td>\n",
       "      <td>NaN</td>\n",
       "      <td>NaN</td>\n",
       "      <td>NaN</td>\n",
       "      <td>NaN</td>\n",
       "    </tr>\n",
       "    <tr>\n",
       "      <th>3</th>\n",
       "      <td>1990-01-04</td>\n",
       "      <td>1990</td>\n",
       "      <td>1</td>\n",
       "      <td>4</td>\n",
       "      <td>NaN</td>\n",
       "      <td>NaN</td>\n",
       "      <td>NaN</td>\n",
       "      <td>NaN</td>\n",
       "      <td>NaN</td>\n",
       "      <td>NaN</td>\n",
       "      <td>NaN</td>\n",
       "      <td>NaN</td>\n",
       "      <td>NaN</td>\n",
       "      <td>NaN</td>\n",
       "      <td>NaN</td>\n",
       "    </tr>\n",
       "    <tr>\n",
       "      <th>4</th>\n",
       "      <td>1990-01-05</td>\n",
       "      <td>1990</td>\n",
       "      <td>1</td>\n",
       "      <td>5</td>\n",
       "      <td>NaN</td>\n",
       "      <td>NaN</td>\n",
       "      <td>NaN</td>\n",
       "      <td>NaN</td>\n",
       "      <td>NaN</td>\n",
       "      <td>NaN</td>\n",
       "      <td>NaN</td>\n",
       "      <td>NaN</td>\n",
       "      <td>NaN</td>\n",
       "      <td>NaN</td>\n",
       "      <td>NaN</td>\n",
       "    </tr>\n",
       "    <tr>\n",
       "      <th>5</th>\n",
       "      <td>1990-01-06</td>\n",
       "      <td>1990</td>\n",
       "      <td>1</td>\n",
       "      <td>6</td>\n",
       "      <td>NaN</td>\n",
       "      <td>NaN</td>\n",
       "      <td>NaN</td>\n",
       "      <td>NaN</td>\n",
       "      <td>NaN</td>\n",
       "      <td>NaN</td>\n",
       "      <td>NaN</td>\n",
       "      <td>NaN</td>\n",
       "      <td>NaN</td>\n",
       "      <td>NaN</td>\n",
       "      <td>NaN</td>\n",
       "    </tr>\n",
       "    <tr>\n",
       "      <th>6</th>\n",
       "      <td>1990-01-07</td>\n",
       "      <td>1990</td>\n",
       "      <td>1</td>\n",
       "      <td>7</td>\n",
       "      <td>NaN</td>\n",
       "      <td>NaN</td>\n",
       "      <td>NaN</td>\n",
       "      <td>NaN</td>\n",
       "      <td>NaN</td>\n",
       "      <td>NaN</td>\n",
       "      <td>NaN</td>\n",
       "      <td>NaN</td>\n",
       "      <td>NaN</td>\n",
       "      <td>NaN</td>\n",
       "      <td>NaN</td>\n",
       "    </tr>\n",
       "    <tr>\n",
       "      <th>7</th>\n",
       "      <td>1990-01-08</td>\n",
       "      <td>1990</td>\n",
       "      <td>1</td>\n",
       "      <td>8</td>\n",
       "      <td>NaN</td>\n",
       "      <td>NaN</td>\n",
       "      <td>NaN</td>\n",
       "      <td>NaN</td>\n",
       "      <td>NaN</td>\n",
       "      <td>NaN</td>\n",
       "      <td>NaN</td>\n",
       "      <td>NaN</td>\n",
       "      <td>NaN</td>\n",
       "      <td>NaN</td>\n",
       "      <td>NaN</td>\n",
       "    </tr>\n",
       "    <tr>\n",
       "      <th>8</th>\n",
       "      <td>1990-01-09</td>\n",
       "      <td>1990</td>\n",
       "      <td>1</td>\n",
       "      <td>9</td>\n",
       "      <td>NaN</td>\n",
       "      <td>NaN</td>\n",
       "      <td>NaN</td>\n",
       "      <td>NaN</td>\n",
       "      <td>NaN</td>\n",
       "      <td>NaN</td>\n",
       "      <td>NaN</td>\n",
       "      <td>NaN</td>\n",
       "      <td>NaN</td>\n",
       "      <td>NaN</td>\n",
       "      <td>NaN</td>\n",
       "    </tr>\n",
       "    <tr>\n",
       "      <th>9</th>\n",
       "      <td>1990-01-10</td>\n",
       "      <td>1990</td>\n",
       "      <td>1</td>\n",
       "      <td>10</td>\n",
       "      <td>NaN</td>\n",
       "      <td>NaN</td>\n",
       "      <td>NaN</td>\n",
       "      <td>NaN</td>\n",
       "      <td>NaN</td>\n",
       "      <td>NaN</td>\n",
       "      <td>NaN</td>\n",
       "      <td>NaN</td>\n",
       "      <td>NaN</td>\n",
       "      <td>NaN</td>\n",
       "      <td>NaN</td>\n",
       "    </tr>\n",
       "  </tbody>\n",
       "</table>\n",
       "</div>"
      ],
      "text/plain": [
       "       fecha  year_cal  month_cal  day_cal  cod_estacion variable frecuencia  \\\n",
       "0 1990-01-01      1990          1        1           NaN      NaN        NaN   \n",
       "1 1990-01-02      1990          1        2           NaN      NaN        NaN   \n",
       "2 1990-01-03      1990          1        3           NaN      NaN        NaN   \n",
       "3 1990-01-04      1990          1        4           NaN      NaN        NaN   \n",
       "4 1990-01-05      1990          1        5           NaN      NaN        NaN   \n",
       "5 1990-01-06      1990          1        6           NaN      NaN        NaN   \n",
       "6 1990-01-07      1990          1        7           NaN      NaN        NaN   \n",
       "7 1990-01-08      1990          1        8           NaN      NaN        NaN   \n",
       "8 1990-01-09      1990          1        9           NaN      NaN        NaN   \n",
       "9 1990-01-10      1990          1       10           NaN      NaN        NaN   \n",
       "\n",
       "   valor  grado tipo_estacion  msnm  cuenca  year  month  day  \n",
       "0    NaN    NaN           NaN   NaN     NaN   NaN    NaN  NaN  \n",
       "1    NaN    NaN           NaN   NaN     NaN   NaN    NaN  NaN  \n",
       "2    NaN    NaN           NaN   NaN     NaN   NaN    NaN  NaN  \n",
       "3    NaN    NaN           NaN   NaN     NaN   NaN    NaN  NaN  \n",
       "4    NaN    NaN           NaN   NaN     NaN   NaN    NaN  NaN  \n",
       "5    NaN    NaN           NaN   NaN     NaN   NaN    NaN  NaN  \n",
       "6    NaN    NaN           NaN   NaN     NaN   NaN    NaN  NaN  \n",
       "7    NaN    NaN           NaN   NaN     NaN   NaN    NaN  NaN  \n",
       "8    NaN    NaN           NaN   NaN     NaN   NaN    NaN  NaN  \n",
       "9    NaN    NaN           NaN   NaN     NaN   NaN    NaN  NaN  "
      ]
     },
     "execution_count": 28,
     "metadata": {},
     "output_type": "execute_result"
    }
   ],
   "source": [
    "calendar_climaticas_ppal = calendario.merge(climatica_ppal, how = 'left', on = 'fecha')\n",
    "calendar_climaticas_ppal.head(10)"
   ]
  },
  {
   "cell_type": "code",
   "execution_count": 29,
   "metadata": {},
   "outputs": [
    {
     "data": {
      "text/html": [
       "<div>\n",
       "<style scoped>\n",
       "    .dataframe tbody tr th:only-of-type {\n",
       "        vertical-align: middle;\n",
       "    }\n",
       "\n",
       "    .dataframe tbody tr th {\n",
       "        vertical-align: top;\n",
       "    }\n",
       "\n",
       "    .dataframe thead th {\n",
       "        text-align: right;\n",
       "    }\n",
       "</style>\n",
       "<table border=\"1\" class=\"dataframe\">\n",
       "  <thead>\n",
       "    <tr style=\"text-align: right;\">\n",
       "      <th></th>\n",
       "      <th>fecha</th>\n",
       "      <th>year_cal</th>\n",
       "      <th>month_cal</th>\n",
       "      <th>day_cal</th>\n",
       "      <th>cod_estacion</th>\n",
       "      <th>variable</th>\n",
       "      <th>frecuencia</th>\n",
       "      <th>valor</th>\n",
       "      <th>grado</th>\n",
       "      <th>tipo_estacion</th>\n",
       "      <th>msnm</th>\n",
       "      <th>cuenca</th>\n",
       "      <th>year</th>\n",
       "      <th>month</th>\n",
       "      <th>day</th>\n",
       "    </tr>\n",
       "  </thead>\n",
       "  <tbody>\n",
       "    <tr>\n",
       "      <th>0</th>\n",
       "      <td>1990-01-01</td>\n",
       "      <td>1990</td>\n",
       "      <td>1</td>\n",
       "      <td>1</td>\n",
       "      <td>NaN</td>\n",
       "      <td>NaN</td>\n",
       "      <td>NaN</td>\n",
       "      <td>NaN</td>\n",
       "      <td>NaN</td>\n",
       "      <td>NaN</td>\n",
       "      <td>NaN</td>\n",
       "      <td>NaN</td>\n",
       "      <td>NaN</td>\n",
       "      <td>NaN</td>\n",
       "      <td>NaN</td>\n",
       "    </tr>\n",
       "    <tr>\n",
       "      <th>1</th>\n",
       "      <td>1990-01-02</td>\n",
       "      <td>1990</td>\n",
       "      <td>1</td>\n",
       "      <td>2</td>\n",
       "      <td>NaN</td>\n",
       "      <td>NaN</td>\n",
       "      <td>NaN</td>\n",
       "      <td>NaN</td>\n",
       "      <td>NaN</td>\n",
       "      <td>NaN</td>\n",
       "      <td>NaN</td>\n",
       "      <td>NaN</td>\n",
       "      <td>NaN</td>\n",
       "      <td>NaN</td>\n",
       "      <td>NaN</td>\n",
       "    </tr>\n",
       "    <tr>\n",
       "      <th>2</th>\n",
       "      <td>1990-01-03</td>\n",
       "      <td>1990</td>\n",
       "      <td>1</td>\n",
       "      <td>3</td>\n",
       "      <td>NaN</td>\n",
       "      <td>NaN</td>\n",
       "      <td>NaN</td>\n",
       "      <td>NaN</td>\n",
       "      <td>NaN</td>\n",
       "      <td>NaN</td>\n",
       "      <td>NaN</td>\n",
       "      <td>NaN</td>\n",
       "      <td>NaN</td>\n",
       "      <td>NaN</td>\n",
       "      <td>NaN</td>\n",
       "    </tr>\n",
       "    <tr>\n",
       "      <th>3</th>\n",
       "      <td>1990-01-04</td>\n",
       "      <td>1990</td>\n",
       "      <td>1</td>\n",
       "      <td>4</td>\n",
       "      <td>NaN</td>\n",
       "      <td>NaN</td>\n",
       "      <td>NaN</td>\n",
       "      <td>NaN</td>\n",
       "      <td>NaN</td>\n",
       "      <td>NaN</td>\n",
       "      <td>NaN</td>\n",
       "      <td>NaN</td>\n",
       "      <td>NaN</td>\n",
       "      <td>NaN</td>\n",
       "      <td>NaN</td>\n",
       "    </tr>\n",
       "    <tr>\n",
       "      <th>4</th>\n",
       "      <td>1990-01-05</td>\n",
       "      <td>1990</td>\n",
       "      <td>1</td>\n",
       "      <td>5</td>\n",
       "      <td>NaN</td>\n",
       "      <td>NaN</td>\n",
       "      <td>NaN</td>\n",
       "      <td>NaN</td>\n",
       "      <td>NaN</td>\n",
       "      <td>NaN</td>\n",
       "      <td>NaN</td>\n",
       "      <td>NaN</td>\n",
       "      <td>NaN</td>\n",
       "      <td>NaN</td>\n",
       "      <td>NaN</td>\n",
       "    </tr>\n",
       "    <tr>\n",
       "      <th>5</th>\n",
       "      <td>1990-01-06</td>\n",
       "      <td>1990</td>\n",
       "      <td>1</td>\n",
       "      <td>6</td>\n",
       "      <td>NaN</td>\n",
       "      <td>NaN</td>\n",
       "      <td>NaN</td>\n",
       "      <td>NaN</td>\n",
       "      <td>NaN</td>\n",
       "      <td>NaN</td>\n",
       "      <td>NaN</td>\n",
       "      <td>NaN</td>\n",
       "      <td>NaN</td>\n",
       "      <td>NaN</td>\n",
       "      <td>NaN</td>\n",
       "    </tr>\n",
       "    <tr>\n",
       "      <th>6</th>\n",
       "      <td>1990-01-07</td>\n",
       "      <td>1990</td>\n",
       "      <td>1</td>\n",
       "      <td>7</td>\n",
       "      <td>NaN</td>\n",
       "      <td>NaN</td>\n",
       "      <td>NaN</td>\n",
       "      <td>NaN</td>\n",
       "      <td>NaN</td>\n",
       "      <td>NaN</td>\n",
       "      <td>NaN</td>\n",
       "      <td>NaN</td>\n",
       "      <td>NaN</td>\n",
       "      <td>NaN</td>\n",
       "      <td>NaN</td>\n",
       "    </tr>\n",
       "    <tr>\n",
       "      <th>7</th>\n",
       "      <td>1990-01-08</td>\n",
       "      <td>1990</td>\n",
       "      <td>1</td>\n",
       "      <td>8</td>\n",
       "      <td>NaN</td>\n",
       "      <td>NaN</td>\n",
       "      <td>NaN</td>\n",
       "      <td>NaN</td>\n",
       "      <td>NaN</td>\n",
       "      <td>NaN</td>\n",
       "      <td>NaN</td>\n",
       "      <td>NaN</td>\n",
       "      <td>NaN</td>\n",
       "      <td>NaN</td>\n",
       "      <td>NaN</td>\n",
       "    </tr>\n",
       "    <tr>\n",
       "      <th>8</th>\n",
       "      <td>1990-01-09</td>\n",
       "      <td>1990</td>\n",
       "      <td>1</td>\n",
       "      <td>9</td>\n",
       "      <td>NaN</td>\n",
       "      <td>NaN</td>\n",
       "      <td>NaN</td>\n",
       "      <td>NaN</td>\n",
       "      <td>NaN</td>\n",
       "      <td>NaN</td>\n",
       "      <td>NaN</td>\n",
       "      <td>NaN</td>\n",
       "      <td>NaN</td>\n",
       "      <td>NaN</td>\n",
       "      <td>NaN</td>\n",
       "    </tr>\n",
       "    <tr>\n",
       "      <th>9</th>\n",
       "      <td>1990-01-10</td>\n",
       "      <td>1990</td>\n",
       "      <td>1</td>\n",
       "      <td>10</td>\n",
       "      <td>NaN</td>\n",
       "      <td>NaN</td>\n",
       "      <td>NaN</td>\n",
       "      <td>NaN</td>\n",
       "      <td>NaN</td>\n",
       "      <td>NaN</td>\n",
       "      <td>NaN</td>\n",
       "      <td>NaN</td>\n",
       "      <td>NaN</td>\n",
       "      <td>NaN</td>\n",
       "      <td>NaN</td>\n",
       "    </tr>\n",
       "  </tbody>\n",
       "</table>\n",
       "</div>"
      ],
      "text/plain": [
       "       fecha  year_cal  month_cal  day_cal  cod_estacion variable frecuencia  \\\n",
       "0 1990-01-01      1990          1        1           NaN      NaN        NaN   \n",
       "1 1990-01-02      1990          1        2           NaN      NaN        NaN   \n",
       "2 1990-01-03      1990          1        3           NaN      NaN        NaN   \n",
       "3 1990-01-04      1990          1        4           NaN      NaN        NaN   \n",
       "4 1990-01-05      1990          1        5           NaN      NaN        NaN   \n",
       "5 1990-01-06      1990          1        6           NaN      NaN        NaN   \n",
       "6 1990-01-07      1990          1        7           NaN      NaN        NaN   \n",
       "7 1990-01-08      1990          1        8           NaN      NaN        NaN   \n",
       "8 1990-01-09      1990          1        9           NaN      NaN        NaN   \n",
       "9 1990-01-10      1990          1       10           NaN      NaN        NaN   \n",
       "\n",
       "   valor  grado tipo_estacion  msnm  cuenca  year  month  day  \n",
       "0    NaN    NaN           NaN   NaN     NaN   NaN    NaN  NaN  \n",
       "1    NaN    NaN           NaN   NaN     NaN   NaN    NaN  NaN  \n",
       "2    NaN    NaN           NaN   NaN     NaN   NaN    NaN  NaN  \n",
       "3    NaN    NaN           NaN   NaN     NaN   NaN    NaN  NaN  \n",
       "4    NaN    NaN           NaN   NaN     NaN   NaN    NaN  NaN  \n",
       "5    NaN    NaN           NaN   NaN     NaN   NaN    NaN  NaN  \n",
       "6    NaN    NaN           NaN   NaN     NaN   NaN    NaN  NaN  \n",
       "7    NaN    NaN           NaN   NaN     NaN   NaN    NaN  NaN  \n",
       "8    NaN    NaN           NaN   NaN     NaN   NaN    NaN  NaN  \n",
       "9    NaN    NaN           NaN   NaN     NaN   NaN    NaN  NaN  "
      ]
     },
     "execution_count": 29,
     "metadata": {},
     "output_type": "execute_result"
    }
   ],
   "source": [
    "calendar_climaticas_ord = calendario.merge(climatica_ord, how = 'left', on = 'fecha')\n",
    "calendar_climaticas_ord.head(10)"
   ]
  },
  {
   "cell_type": "markdown",
   "metadata": {},
   "source": [
    "### 2. Verificaciones de los datos"
   ]
  },
  {
   "cell_type": "markdown",
   "metadata": {},
   "source": [
    "### 2.1 Estaciones por cuenca con datos"
   ]
  },
  {
   "cell_type": "code",
   "execution_count": 30,
   "metadata": {
    "scrolled": false
   },
   "outputs": [
    {
     "name": "stdout",
     "output_type": "stream",
     "text": [
      "Tamaño :  (110,)\n"
     ]
    },
    {
     "data": {
      "image/png": "[encoded data removed]",
      "text/plain": [
       "<Figure size 432x288 with 1 Axes>"
      ]
     },
     "metadata": {
      "needs_background": "light"
     },
     "output_type": "display_data"
    }
   ],
   "source": [
    "temp = calendar_climaticas_ord[calendar_climaticas_ord['cod_estacion'].notna()].groupby(['cuenca']).cod_estacion.nunique()\n",
    "\n",
    "temp.plot.hist(color = 'green', title = 'Cantidad de estaciones ordinarias por cuenca')\n",
    "\n",
    "print('Tamaño : ', temp.shape)\n"
   ]
  },
  {
   "cell_type": "markdown",
   "metadata": {},
   "source": [
    "<span style=\"color: red;font-weight:bold\">Para las lecturas climaticas_ord alrededor de 90 cuencas del total (110) tienen por lo menos una estación con valores leidos.</span>"
   ]
  },
  {
   "cell_type": "code",
   "execution_count": 31,
   "metadata": {},
   "outputs": [
    {
     "name": "stdout",
     "output_type": "stream",
     "text": [
      "Tamaño :  (46,) \n",
      "\n",
      "cuenca\n",
      "17.0    1\n",
      "20.0    1\n",
      "23.0    1\n",
      "31.0    1\n",
      "32.0    1\n",
      "Name: cod_estacion, dtype: int64\n"
     ]
    },
    {
     "data": {
      "image/png": "[encoded data removed]",
      "text/plain": [
       "<Figure size 432x288 with 1 Axes>"
      ]
     },
     "metadata": {
      "needs_background": "light"
     },
     "output_type": "display_data"
    }
   ],
   "source": [
    "temp = calendar_climaticas_ppal[calendar_climaticas_ppal['cod_estacion'].notna()].groupby(['cuenca']).cod_estacion.nunique()\n",
    "\n",
    "temp.plot.hist(color = 'green', title = 'Cantidad de estaciones principales por cuenca')\n",
    "\n",
    "print('Tamaño : ', temp.shape, '\\n')\n",
    "print(temp.head())"
   ]
  },
  {
   "cell_type": "markdown",
   "metadata": {},
   "source": [
    "<span style=\"color: red;font-weight:bold\">Para las lecturas climaticas_ppal alrededor de 35 cuencas del total (46) tienen por lo menos una estación con valores leidos.</span>"
   ]
  },
  {
   "cell_type": "markdown",
   "metadata": {},
   "source": [
    "### 2.2 Consolidación de la información en un solo data frame para análisis totalizados"
   ]
  },
  {
   "cell_type": "code",
   "execution_count": 32,
   "metadata": {},
   "outputs": [
    {
     "name": "stdout",
     "output_type": "stream",
     "text": [
      "Columnas :  Index(['fecha', 'year_cal', 'month_cal', 'day_cal', 'cod_estacion', 'variable',\n",
      "       'frecuencia', 'valor', 'grado', 'tipo_estacion', 'msnm', 'cuenca',\n",
      "       'year', 'month', 'day'],\n",
      "      dtype='object') \n",
      "\n",
      "Tamaño :  (5043155, 15) \n",
      "\n"
     ]
    },
    {
     "data": {
      "text/html": [
       "<div>\n",
       "<style scoped>\n",
       "    .dataframe tbody tr th:only-of-type {\n",
       "        vertical-align: middle;\n",
       "    }\n",
       "\n",
       "    .dataframe tbody tr th {\n",
       "        vertical-align: top;\n",
       "    }\n",
       "\n",
       "    .dataframe thead th {\n",
       "        text-align: right;\n",
       "    }\n",
       "</style>\n",
       "<table border=\"1\" class=\"dataframe\">\n",
       "  <thead>\n",
       "    <tr style=\"text-align: right;\">\n",
       "      <th></th>\n",
       "      <th>fecha</th>\n",
       "      <th>year_cal</th>\n",
       "      <th>month_cal</th>\n",
       "      <th>day_cal</th>\n",
       "      <th>cod_estacion</th>\n",
       "      <th>variable</th>\n",
       "      <th>frecuencia</th>\n",
       "      <th>valor</th>\n",
       "      <th>grado</th>\n",
       "      <th>tipo_estacion</th>\n",
       "      <th>msnm</th>\n",
       "      <th>cuenca</th>\n",
       "      <th>year</th>\n",
       "      <th>month</th>\n",
       "      <th>day</th>\n",
       "    </tr>\n",
       "  </thead>\n",
       "  <tbody>\n",
       "    <tr>\n",
       "      <th>0</th>\n",
       "      <td>1990-01-01</td>\n",
       "      <td>1990</td>\n",
       "      <td>1</td>\n",
       "      <td>1</td>\n",
       "      <td>NaN</td>\n",
       "      <td>NaN</td>\n",
       "      <td>NaN</td>\n",
       "      <td>NaN</td>\n",
       "      <td>NaN</td>\n",
       "      <td>NaN</td>\n",
       "      <td>NaN</td>\n",
       "      <td>NaN</td>\n",
       "      <td>NaN</td>\n",
       "      <td>NaN</td>\n",
       "      <td>NaN</td>\n",
       "    </tr>\n",
       "    <tr>\n",
       "      <th>1</th>\n",
       "      <td>1990-01-02</td>\n",
       "      <td>1990</td>\n",
       "      <td>1</td>\n",
       "      <td>2</td>\n",
       "      <td>NaN</td>\n",
       "      <td>NaN</td>\n",
       "      <td>NaN</td>\n",
       "      <td>NaN</td>\n",
       "      <td>NaN</td>\n",
       "      <td>NaN</td>\n",
       "      <td>NaN</td>\n",
       "      <td>NaN</td>\n",
       "      <td>NaN</td>\n",
       "      <td>NaN</td>\n",
       "      <td>NaN</td>\n",
       "    </tr>\n",
       "    <tr>\n",
       "      <th>2</th>\n",
       "      <td>1990-01-03</td>\n",
       "      <td>1990</td>\n",
       "      <td>1</td>\n",
       "      <td>3</td>\n",
       "      <td>NaN</td>\n",
       "      <td>NaN</td>\n",
       "      <td>NaN</td>\n",
       "      <td>NaN</td>\n",
       "      <td>NaN</td>\n",
       "      <td>NaN</td>\n",
       "      <td>NaN</td>\n",
       "      <td>NaN</td>\n",
       "      <td>NaN</td>\n",
       "      <td>NaN</td>\n",
       "      <td>NaN</td>\n",
       "    </tr>\n",
       "    <tr>\n",
       "      <th>3</th>\n",
       "      <td>1990-01-04</td>\n",
       "      <td>1990</td>\n",
       "      <td>1</td>\n",
       "      <td>4</td>\n",
       "      <td>NaN</td>\n",
       "      <td>NaN</td>\n",
       "      <td>NaN</td>\n",
       "      <td>NaN</td>\n",
       "      <td>NaN</td>\n",
       "      <td>NaN</td>\n",
       "      <td>NaN</td>\n",
       "      <td>NaN</td>\n",
       "      <td>NaN</td>\n",
       "      <td>NaN</td>\n",
       "      <td>NaN</td>\n",
       "    </tr>\n",
       "    <tr>\n",
       "      <th>4</th>\n",
       "      <td>1990-01-05</td>\n",
       "      <td>1990</td>\n",
       "      <td>1</td>\n",
       "      <td>5</td>\n",
       "      <td>NaN</td>\n",
       "      <td>NaN</td>\n",
       "      <td>NaN</td>\n",
       "      <td>NaN</td>\n",
       "      <td>NaN</td>\n",
       "      <td>NaN</td>\n",
       "      <td>NaN</td>\n",
       "      <td>NaN</td>\n",
       "      <td>NaN</td>\n",
       "      <td>NaN</td>\n",
       "      <td>NaN</td>\n",
       "    </tr>\n",
       "  </tbody>\n",
       "</table>\n",
       "</div>"
      ],
      "text/plain": [
       "       fecha  year_cal  month_cal  day_cal  cod_estacion variable frecuencia  \\\n",
       "0 1990-01-01      1990          1        1           NaN      NaN        NaN   \n",
       "1 1990-01-02      1990          1        2           NaN      NaN        NaN   \n",
       "2 1990-01-03      1990          1        3           NaN      NaN        NaN   \n",
       "3 1990-01-04      1990          1        4           NaN      NaN        NaN   \n",
       "4 1990-01-05      1990          1        5           NaN      NaN        NaN   \n",
       "\n",
       "   valor  grado tipo_estacion  msnm  cuenca  year  month  day  \n",
       "0    NaN    NaN           NaN   NaN     NaN   NaN    NaN  NaN  \n",
       "1    NaN    NaN           NaN   NaN     NaN   NaN    NaN  NaN  \n",
       "2    NaN    NaN           NaN   NaN     NaN   NaN    NaN  NaN  \n",
       "3    NaN    NaN           NaN   NaN     NaN   NaN    NaN  NaN  \n",
       "4    NaN    NaN           NaN   NaN     NaN   NaN    NaN  NaN  "
      ]
     },
     "execution_count": 32,
     "metadata": {},
     "output_type": "execute_result"
    }
   ],
   "source": [
    "climatica = pd.concat([calendar_climaticas_ppal, calendar_climaticas_ord], ignore_index = True)\n",
    "print('Columnas : ', climatica.columns, '\\n')\n",
    "print('Tamaño : ', climatica.shape, '\\n')\n",
    "climatica.head()"
   ]
  },
  {
   "cell_type": "code",
   "execution_count": 33,
   "metadata": {},
   "outputs": [
    {
     "name": "stdout",
     "output_type": "stream",
     "text": [
      "Tamaño :  (128,) \n",
      "\n",
      "cuenca\n",
      "4.0     2\n",
      "5.0     1\n",
      "6.0     3\n",
      "9.0     2\n",
      "17.0    2\n",
      "Name: cod_estacion, dtype: int64\n"
     ]
    },
    {
     "data": {
      "image/png": "[encoded data removed]",
      "text/plain": [
       "<Figure size 432x288 with 1 Axes>"
      ]
     },
     "metadata": {
      "needs_background": "light"
     },
     "output_type": "display_data"
    }
   ],
   "source": [
    "temp = climatica[(climatica['cod_estacion'].notna()) & (climatica['fecha'] >= '2000-01-01')  & (climatica['fecha'] <= '2018-12-31')].groupby(['cuenca']).cod_estacion.nunique()\n",
    "\n",
    "temp.plot.hist(color = 'green', title = 'Cantidad de estaciones climáticas por cuenca')\n",
    "\n",
    "print('Tamaño : ', temp.shape, '\\n')\n",
    "print(temp.head())"
   ]
  },
  {
   "cell_type": "markdown",
   "metadata": {},
   "source": [
    "<span style=\"color: red;font-weight:bold\">Para todas las lecturas climaticas alrededor de 100 cuencas del total (128) tienen por lo menos una estación con valores leidos. Esta consulta se circunscribe al periodo de tiempo entre '2000-01-01' y '2018-12-31'.</span>"
   ]
  },
  {
   "cell_type": "markdown",
   "metadata": {},
   "source": [
    "### 2.3 Variables por cuenca"
   ]
  },
  {
   "cell_type": "code",
   "execution_count": 43,
   "metadata": {},
   "outputs": [
    {
     "name": "stdout",
     "output_type": "stream",
     "text": [
      "Tamaño :  (128,) \n",
      "\n",
      "cuenca\n",
      "4.0     2\n",
      "5.0     2\n",
      "6.0     2\n",
      "9.0     2\n",
      "17.0    2\n",
      "Name: variable, dtype: int64\n"
     ]
    },
    {
     "data": {
      "image/png": "[encoded data removed]",
      "text/plain": [
       "<Figure size 432x288 with 1 Axes>"
      ]
     },
     "metadata": {
      "needs_background": "light"
     },
     "output_type": "display_data"
    }
   ],
   "source": [
    "temp = climatica[(climatica['variable'].notna()) & (climatica['fecha'] >= '2000-01-01')  & (climatica['fecha'] <= '2018-12-31')].groupby(['cuenca']).variable.nunique()\n",
    "\n",
    "temp.plot.hist(color = 'green', title = 'Cantidad de variables climáticas por cuenca')\n",
    "\n",
    "print('Tamaño : ', temp.shape, '\\n')\n",
    "print(temp.head())"
   ]
  },
  {
   "cell_type": "markdown",
   "metadata": {},
   "source": [
    "<span style=\"color: red;font-weight:bold\">Todas las 128 cuencas cuentan con dos variables distintas leidas. Esta consulta se circunscribe al periodo de tiempo entre '2000-01-01' y '2018-12-31'.</span>"
   ]
  },
  {
   "cell_type": "markdown",
   "metadata": {},
   "source": [
    "### 2.4 Cantidad de días leidos por estación y por variable "
   ]
  },
  {
   "cell_type": "markdown",
   "metadata": {},
   "source": [
    "**<u>Variable TMN_CON</u>**"
   ]
  },
  {
   "cell_type": "code",
   "execution_count": 35,
   "metadata": {},
   "outputs": [
    {
     "data": {
      "text/plain": [
       "<matplotlib.axes._subplots.AxesSubplot at 0x7f11d57b68b0>"
      ]
     },
     "execution_count": 35,
     "metadata": {},
     "output_type": "execute_result"
    },
    {
     "data": {
      "image/png": "[encoded data removed]",
      "text/plain": [
       "<Figure size 1080x1080 with 2 Axes>"
      ]
     },
     "metadata": {
      "needs_background": "light"
     },
     "output_type": "display_data"
    }
   ],
   "source": [
    "temp = climatica[(climatica['day'].notna()) & (climatica['fecha'] >= '2000-01-01')  & (climatica['fecha'] <= '2018-12-31') & (climatica['variable'] == 'TMN_CON')].groupby(['cuenca','year']).fecha.nunique()\n",
    "#print(type(temp))\n",
    "#print(temp.index)\n",
    "\n",
    "temp = temp.add_suffix('').reset_index()\n",
    "temp.head(100)\n",
    "\n",
    "heatmap1_data = pd.pivot_table(temp, values = 'fecha', index=['cuenca'], \n",
    "                     columns='year')\n",
    "\n",
    "fig, ax = plt.subplots(figsize=(15,15))\n",
    "\n",
    "sns.heatmap(data = heatmap1_data, cmap = 'YlGnBu_r', ax = ax)\n"
   ]
  },
  {
   "cell_type": "markdown",
   "metadata": {},
   "source": [
    "<span style=\"color: red;font-weight:bold\">La densidad del mapa de calor para la variiable  TMN_CON (Temperatura mínima) nos indica que una gran cantidad de las cuencas tienen lecturas de la variable en gran pate del año. Esta consulta se circunscribe al periodo de tiempo entre '2000-01-01' y '2018-12-31'.</span>"
   ]
  },
  {
   "cell_type": "markdown",
   "metadata": {},
   "source": [
    "**<u>Variable TMX_CON</u>**"
   ]
  },
  {
   "cell_type": "code",
   "execution_count": 36,
   "metadata": {},
   "outputs": [
    {
     "data": {
      "text/plain": [
       "<matplotlib.axes._subplots.AxesSubplot at 0x7f11d57c1be0>"
      ]
     },
     "execution_count": 36,
     "metadata": {},
     "output_type": "execute_result"
    },
    {
     "data": {
      "image/png": "[encoded data removed]",
      "text/plain": [
       "<Figure size 1080x1080 with 2 Axes>"
      ]
     },
     "metadata": {
      "needs_background": "light"
     },
     "output_type": "display_data"
    }
   ],
   "source": [
    "temp = climatica[(climatica['day'].notna()) & (climatica['fecha'] >= '2000-01-01')  & (climatica['fecha'] <= '2018-12-31') & (climatica['variable'] == 'TMX_CON')].groupby(['cuenca','year']).fecha.nunique()\n",
    "#print(type(temp))\n",
    "#print(temp.index)\n",
    "\n",
    "temp = temp.add_suffix('').reset_index()\n",
    "temp.head(100)\n",
    "\n",
    "heatmap1_data = pd.pivot_table(temp, values = 'fecha', index=['cuenca'], \n",
    "                     columns='year')\n",
    "\n",
    "fig, ax = plt.subplots(figsize=(15,15))\n",
    "\n",
    "sns.heatmap(data = heatmap1_data, cmap = 'YlGnBu_r', ax = ax)"
   ]
  },
  {
   "cell_type": "markdown",
   "metadata": {},
   "source": [
    "<span style=\"color: red;font-weight:bold\">La densidad del mapa de calor para la variiable  TMX_CON (Temperatura máxima) nos indica que una gran cantidad de las cuencas tienen lecturas de la variable en gran pate del año. Esta consulta se circunscribe al periodo de tiempo entre '2000-01-01' y '2018-12-31'.</span>"
   ]
  },
  {
   "cell_type": "markdown",
   "metadata": {},
   "source": [
    "### 2.5 Vista geográfica"
   ]
  },
  {
   "cell_type": "markdown",
   "metadata": {},
   "source": [
    "### 2.5.1 Carga de los archivos geográficos"
   ]
  },
  {
   "cell_type": "code",
   "execution_count": 37,
   "metadata": {},
   "outputs": [],
   "source": [
    "fp = 'DAMCRA-Subzonas Hidrograficas Colombia/szh_sep_26_2012.shp'\n",
    "\n",
    "data_geo = gpd.read_file(fp)"
   ]
  },
  {
   "cell_type": "code",
   "execution_count": 38,
   "metadata": {},
   "outputs": [
    {
     "name": "stdout",
     "output_type": "stream",
     "text": [
      "Tipo de objeto :  <class 'geopandas.geodataframe.GeoDataFrame'> \n",
      "\n",
      "Tamaño del objeto :  (310, 13) \n",
      "\n"
     ]
    }
   ],
   "source": [
    "print('Tipo de objeto : ', type(data_geo), '\\n')\n",
    "print('Tamaño del objeto : ', data_geo.shape, '\\n')"
   ]
  },
  {
   "cell_type": "code",
   "execution_count": 39,
   "metadata": {},
   "outputs": [
    {
     "data": {
      "text/html": [
       "<div>\n",
       "<style scoped>\n",
       "    .dataframe tbody tr th:only-of-type {\n",
       "        vertical-align: middle;\n",
       "    }\n",
       "\n",
       "    .dataframe tbody tr th {\n",
       "        vertical-align: top;\n",
       "    }\n",
       "\n",
       "    .dataframe thead th {\n",
       "        text-align: right;\n",
       "    }\n",
       "</style>\n",
       "<table border=\"1\" class=\"dataframe\">\n",
       "  <thead>\n",
       "    <tr style=\"text-align: right;\">\n",
       "      <th></th>\n",
       "      <th>OBJECTID</th>\n",
       "      <th>AH</th>\n",
       "      <th>NOMAH</th>\n",
       "      <th>ZH</th>\n",
       "      <th>NOMZH</th>\n",
       "      <th>SZH</th>\n",
       "      <th>NOMSZH</th>\n",
       "      <th>Shape_Leng</th>\n",
       "      <th>Shape_Area</th>\n",
       "      <th>CODIGO</th>\n",
       "      <th>omar</th>\n",
       "      <th>cod_nuevo</th>\n",
       "      <th>geometry</th>\n",
       "    </tr>\n",
       "  </thead>\n",
       "  <tbody>\n",
       "    <tr>\n",
       "      <th>0</th>\n",
       "      <td>1</td>\n",
       "      <td>2</td>\n",
       "      <td>Magdalena Cauca</td>\n",
       "      <td>26</td>\n",
       "      <td>Cauca</td>\n",
       "      <td>2602</td>\n",
       "      <td>Rï¿½o Purace</td>\n",
       "      <td>188363.092573</td>\n",
       "      <td>934.252927</td>\n",
       "      <td>0.0</td>\n",
       "      <td>None</td>\n",
       "      <td>2602</td>\n",
       "      <td>POLYGON ((706856.631 794650.738, 707517.023 79...</td>\n",
       "    </tr>\n",
       "    <tr>\n",
       "      <th>1</th>\n",
       "      <td>2</td>\n",
       "      <td>2</td>\n",
       "      <td>Magdalena Cauca</td>\n",
       "      <td>26</td>\n",
       "      <td>Cauca</td>\n",
       "      <td>2606</td>\n",
       "      <td>Rï¿½o Ovejas</td>\n",
       "      <td>145171.292833</td>\n",
       "      <td>923.951206</td>\n",
       "      <td>0.0</td>\n",
       "      <td>None</td>\n",
       "      <td>2606</td>\n",
       "      <td>POLYGON ((710772.993 821394.880, 710964.364 82...</td>\n",
       "    </tr>\n",
       "    <tr>\n",
       "      <th>2</th>\n",
       "      <td>3</td>\n",
       "      <td>2</td>\n",
       "      <td>Magdalena Cauca</td>\n",
       "      <td>26</td>\n",
       "      <td>Cauca</td>\n",
       "      <td>2604</td>\n",
       "      <td>Rï¿½o Palo</td>\n",
       "      <td>234428.178825</td>\n",
       "      <td>1650.980036</td>\n",
       "      <td>0.0</td>\n",
       "      <td>None</td>\n",
       "      <td>2604</td>\n",
       "      <td>POLYGON ((734729.991 858909.746, 734909.887 85...</td>\n",
       "    </tr>\n",
       "    <tr>\n",
       "      <th>3</th>\n",
       "      <td>4</td>\n",
       "      <td>2</td>\n",
       "      <td>Magdalena Cauca</td>\n",
       "      <td>26</td>\n",
       "      <td>Cauca</td>\n",
       "      <td>2607</td>\n",
       "      <td>Rï¿½o Fraile y otros directos al Cauca</td>\n",
       "      <td>186871.719709</td>\n",
       "      <td>1225.433794</td>\n",
       "      <td>0.0</td>\n",
       "      <td>None</td>\n",
       "      <td>2607</td>\n",
       "      <td>POLYGON ((735452.802 889920.222, 735597.512 88...</td>\n",
       "    </tr>\n",
       "    <tr>\n",
       "      <th>4</th>\n",
       "      <td>5</td>\n",
       "      <td>2</td>\n",
       "      <td>Magdalena Cauca</td>\n",
       "      <td>26</td>\n",
       "      <td>Cauca</td>\n",
       "      <td>2632</td>\n",
       "      <td>Rï¿½o Guabas, Rï¿½o Sabaletas y rï¿½o Sonso</td>\n",
       "      <td>125666.542431</td>\n",
       "      <td>744.332265</td>\n",
       "      <td>0.0</td>\n",
       "      <td>None</td>\n",
       "      <td>2632</td>\n",
       "      <td>POLYGON ((771988.978 897962.662, 771877.078 89...</td>\n",
       "    </tr>\n",
       "  </tbody>\n",
       "</table>\n",
       "</div>"
      ],
      "text/plain": [
       "   OBJECTID  AH            NOMAH  ZH  NOMZH   SZH  \\\n",
       "0         1   2  Magdalena Cauca  26  Cauca  2602   \n",
       "1         2   2  Magdalena Cauca  26  Cauca  2606   \n",
       "2         3   2  Magdalena Cauca  26  Cauca  2604   \n",
       "3         4   2  Magdalena Cauca  26  Cauca  2607   \n",
       "4         5   2  Magdalena Cauca  26  Cauca  2632   \n",
       "\n",
       "                                        NOMSZH     Shape_Leng   Shape_Area  \\\n",
       "0                                 Rï¿½o Purace  188363.092573   934.252927   \n",
       "1                                 Rï¿½o Ovejas  145171.292833   923.951206   \n",
       "2                                   Rï¿½o Palo  234428.178825  1650.980036   \n",
       "3       Rï¿½o Fraile y otros directos al Cauca  186871.719709  1225.433794   \n",
       "4  Rï¿½o Guabas, Rï¿½o Sabaletas y rï¿½o Sonso  125666.542431   744.332265   \n",
       "\n",
       "   CODIGO  omar  cod_nuevo                                           geometry  \n",
       "0     0.0  None       2602  POLYGON ((706856.631 794650.738, 707517.023 79...  \n",
       "1     0.0  None       2606  POLYGON ((710772.993 821394.880, 710964.364 82...  \n",
       "2     0.0  None       2604  POLYGON ((734729.991 858909.746, 734909.887 85...  \n",
       "3     0.0  None       2607  POLYGON ((735452.802 889920.222, 735597.512 88...  \n",
       "4     0.0  None       2632  POLYGON ((771988.978 897962.662, 771877.078 89...  "
      ]
     },
     "execution_count": 39,
     "metadata": {},
     "output_type": "execute_result"
    }
   ],
   "source": [
    "data_geo.head(5)"
   ]
  },
  {
   "cell_type": "code",
   "execution_count": 51,
   "metadata": {},
   "outputs": [
    {
     "data": {
      "text/plain": [
       "<matplotlib.axes._subplots.AxesSubplot at 0x7f11d4d7d790>"
      ]
     },
     "execution_count": 51,
     "metadata": {},
     "output_type": "execute_result"
    },
    {
     "data": {
      "image/png": "[encoded data removed]",
      "text/plain": [
       "<Figure size 1080x1080 with 1 Axes>"
      ]
     },
     "metadata": {
      "needs_background": "light"
     },
     "output_type": "display_data"
    },
    {
     "data": {
      "image/png": "[encoded data removed]",
      "text/plain": [
       "<Figure size 576x432 with 1 Axes>"
      ]
     },
     "metadata": {
      "needs_background": "light"
     },
     "output_type": "display_data"
    }
   ],
   "source": [
    "fig, ax = plt.subplots(figsize=(15,15))\n",
    "data_geo.plot(ax = ax)\n"
   ]
  },
  {
   "cell_type": "code",
   "execution_count": null,
   "metadata": {},
   "outputs": [],
   "source": []
  },
  {
   "cell_type": "markdown",
   "metadata": {},
   "source": [
    "</div>"
   ]
  }
 ],
 "metadata": {
  "kernelspec": {
   "display_name": "Python 3",
   "language": "python",
   "name": "python3"
  },
  "language_info": {
   "codemirror_mode": {
    "name": "ipython",
    "version": 3
   },
   "file_extension": ".py",
   "mimetype": "text/x-python",
   "name": "python",
   "nbconvert_exporter": "python",
   "pygments_lexer": "ipython3",
   "version": "3.8.2"
  }
 },
 "nbformat": 4,
 "nbformat_minor": 4
}
