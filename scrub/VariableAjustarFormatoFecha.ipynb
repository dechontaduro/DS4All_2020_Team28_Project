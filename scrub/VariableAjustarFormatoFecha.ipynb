{
 "cells": [
  {
   "cell_type": "code",
   "execution_count": 29,
   "metadata": {},
   "outputs": [],
   "source": [
    "import os\n",
    "import glob\n",
    "import pandas as pd\n",
    "from datetime import datetime"
   ]
  },
  {
   "cell_type": "code",
   "execution_count": 2,
   "metadata": {},
   "outputs": [],
   "source": [
    "variable_path_base = r'../data/variables'\n",
    "variable_files_pattern = f'var-TMX_CON.zip'"
   ]
  },
  {
   "cell_type": "code",
   "execution_count": 3,
   "metadata": {},
   "outputs": [
    {
     "name": "stdout",
     "output_type": "stream",
     "text": [
      "['..\\\\data\\\\variables\\\\var-TMX_CON.zip']\n"
     ]
    }
   ],
   "source": [
    "variable_path_base = variable_path_base.split('/')\n",
    "variable_files = glob.glob(os.path.join(*variable_path_base, variable_files_pattern))\n",
    "print(variable_files)"
   ]
  },
  {
   "cell_type": "code",
   "execution_count": 9,
   "metadata": {},
   "outputs": [],
   "source": [
    "dtypes = {\n",
    "    'CodigoEstacion':'category','Etiqueta':'category','Fecha': 'string'\n",
    "}\n",
    "#dateparse = lambda x: pd.datetime.strptime(x, '%Y-%m-%d %H:%M')"
   ]
  },
  {
   "cell_type": "code",
   "execution_count": 10,
   "metadata": {},
   "outputs": [],
   "source": [
    "f = variable_files[0]\n",
    "df = pd.read_csv(f, dtype = dtypes)#, parse_dates = ['Fecha'])#, index_col = ['Fecha', 'CodigoEstacion'])"
   ]
  },
  {
   "cell_type": "code",
   "execution_count": 13,
   "metadata": {},
   "outputs": [
    {
     "data": {
      "text/html": [
       "<div>\n",
       "<style scoped>\n",
       "    .dataframe tbody tr th:only-of-type {\n",
       "        vertical-align: middle;\n",
       "    }\n",
       "\n",
       "    .dataframe tbody tr th {\n",
       "        vertical-align: top;\n",
       "    }\n",
       "\n",
       "    .dataframe thead th {\n",
       "        text-align: right;\n",
       "    }\n",
       "</style>\n",
       "<table border=\"1\" class=\"dataframe\">\n",
       "  <thead>\n",
       "    <tr style=\"text-align: right;\">\n",
       "      <th></th>\n",
       "      <th>CodigoEstacion</th>\n",
       "      <th>Etiqueta</th>\n",
       "      <th>Fecha</th>\n",
       "      <th>Valor</th>\n",
       "    </tr>\n",
       "  </thead>\n",
       "  <tbody>\n",
       "    <tr>\n",
       "      <th>0</th>\n",
       "      <td>11025010</td>\n",
       "      <td>TMX_CON</td>\n",
       "      <td>1991-01-01 00:00</td>\n",
       "      <td>20.0</td>\n",
       "    </tr>\n",
       "    <tr>\n",
       "      <th>1</th>\n",
       "      <td>11025010</td>\n",
       "      <td>TMX_CON</td>\n",
       "      <td>1991-01-02 00:00</td>\n",
       "      <td>20.4</td>\n",
       "    </tr>\n",
       "    <tr>\n",
       "      <th>2</th>\n",
       "      <td>11025010</td>\n",
       "      <td>TMX_CON</td>\n",
       "      <td>1991-01-03 00:00</td>\n",
       "      <td>20.6</td>\n",
       "    </tr>\n",
       "    <tr>\n",
       "      <th>3</th>\n",
       "      <td>11025010</td>\n",
       "      <td>TMX_CON</td>\n",
       "      <td>1991-01-04 00:00</td>\n",
       "      <td>21.8</td>\n",
       "    </tr>\n",
       "    <tr>\n",
       "      <th>4</th>\n",
       "      <td>11025010</td>\n",
       "      <td>TMX_CON</td>\n",
       "      <td>1991-01-05 00:00</td>\n",
       "      <td>21.2</td>\n",
       "    </tr>\n",
       "  </tbody>\n",
       "</table>\n",
       "</div>"
      ],
      "text/plain": [
       "  CodigoEstacion Etiqueta             Fecha  Valor\n",
       "0       11025010  TMX_CON  1991-01-01 00:00   20.0\n",
       "1       11025010  TMX_CON  1991-01-02 00:00   20.4\n",
       "2       11025010  TMX_CON  1991-01-03 00:00   20.6\n",
       "3       11025010  TMX_CON  1991-01-04 00:00   21.8\n",
       "4       11025010  TMX_CON  1991-01-05 00:00   21.2"
      ]
     },
     "execution_count": 13,
     "metadata": {},
     "output_type": "execute_result"
    }
   ],
   "source": [
    "df.head()"
   ]
  },
  {
   "cell_type": "code",
   "execution_count": 12,
   "metadata": {},
   "outputs": [
    {
     "data": {
      "text/html": [
       "<div>\n",
       "<style scoped>\n",
       "    .dataframe tbody tr th:only-of-type {\n",
       "        vertical-align: middle;\n",
       "    }\n",
       "\n",
       "    .dataframe tbody tr th {\n",
       "        vertical-align: top;\n",
       "    }\n",
       "\n",
       "    .dataframe thead th {\n",
       "        text-align: right;\n",
       "    }\n",
       "</style>\n",
       "<table border=\"1\" class=\"dataframe\">\n",
       "  <thead>\n",
       "    <tr style=\"text-align: right;\">\n",
       "      <th></th>\n",
       "      <th>CodigoEstacion</th>\n",
       "      <th>Etiqueta</th>\n",
       "      <th>Fecha</th>\n",
       "      <th>Valor</th>\n",
       "    </tr>\n",
       "  </thead>\n",
       "  <tbody>\n",
       "    <tr>\n",
       "      <th>2525316</th>\n",
       "      <td>54025020</td>\n",
       "      <td>TMX_CON</td>\n",
       "      <td>23/02/2001 19:00</td>\n",
       "      <td>29.8</td>\n",
       "    </tr>\n",
       "    <tr>\n",
       "      <th>2525317</th>\n",
       "      <td>54025020</td>\n",
       "      <td>TMX_CON</td>\n",
       "      <td>24/02/2001 19:00</td>\n",
       "      <td>29.6</td>\n",
       "    </tr>\n",
       "    <tr>\n",
       "      <th>2525318</th>\n",
       "      <td>54025020</td>\n",
       "      <td>TMX_CON</td>\n",
       "      <td>25/02/2001 19:00</td>\n",
       "      <td>31.0</td>\n",
       "    </tr>\n",
       "    <tr>\n",
       "      <th>2525319</th>\n",
       "      <td>54025020</td>\n",
       "      <td>TMX_CON</td>\n",
       "      <td>27/02/2001 19:00</td>\n",
       "      <td>32.2</td>\n",
       "    </tr>\n",
       "    <tr>\n",
       "      <th>2525320</th>\n",
       "      <td>54025020</td>\n",
       "      <td>TMX_CON</td>\n",
       "      <td>28/02/2001 19:00</td>\n",
       "      <td>31.6</td>\n",
       "    </tr>\n",
       "  </tbody>\n",
       "</table>\n",
       "</div>"
      ],
      "text/plain": [
       "        CodigoEstacion Etiqueta             Fecha  Valor\n",
       "2525316       54025020  TMX_CON  23/02/2001 19:00   29.8\n",
       "2525317       54025020  TMX_CON  24/02/2001 19:00   29.6\n",
       "2525318       54025020  TMX_CON  25/02/2001 19:00   31.0\n",
       "2525319       54025020  TMX_CON  27/02/2001 19:00   32.2\n",
       "2525320       54025020  TMX_CON  28/02/2001 19:00   31.6"
      ]
     },
     "execution_count": 12,
     "metadata": {},
     "output_type": "execute_result"
    }
   ],
   "source": [
    "df.tail()"
   ]
  },
  {
   "cell_type": "code",
   "execution_count": 39,
   "metadata": {},
   "outputs": [
    {
     "data": {
      "text/html": [
       "<div>\n",
       "<style scoped>\n",
       "    .dataframe tbody tr th:only-of-type {\n",
       "        vertical-align: middle;\n",
       "    }\n",
       "\n",
       "    .dataframe tbody tr th {\n",
       "        vertical-align: top;\n",
       "    }\n",
       "\n",
       "    .dataframe thead th {\n",
       "        text-align: right;\n",
       "    }\n",
       "</style>\n",
       "<table border=\"1\" class=\"dataframe\">\n",
       "  <thead>\n",
       "    <tr style=\"text-align: right;\">\n",
       "      <th></th>\n",
       "      <th>CodigoEstacion</th>\n",
       "      <th>Etiqueta</th>\n",
       "      <th>Fecha</th>\n",
       "      <th>Valor</th>\n",
       "    </tr>\n",
       "  </thead>\n",
       "  <tbody>\n",
       "    <tr>\n",
       "      <th>0</th>\n",
       "      <td>11025010</td>\n",
       "      <td>TMX_CON</td>\n",
       "      <td>1991-01-01</td>\n",
       "      <td>20.0</td>\n",
       "    </tr>\n",
       "    <tr>\n",
       "      <th>2525319</th>\n",
       "      <td>54025020</td>\n",
       "      <td>TMX_CON</td>\n",
       "      <td>2001-02-27</td>\n",
       "      <td>32.2</td>\n",
       "    </tr>\n",
       "  </tbody>\n",
       "</table>\n",
       "</div>"
      ],
      "text/plain": [
       "        CodigoEstacion Etiqueta       Fecha  Valor\n",
       "0             11025010  TMX_CON  1991-01-01   20.0\n",
       "2525319       54025020  TMX_CON  2001-02-27   32.2"
      ]
     },
     "execution_count": 39,
     "metadata": {},
     "output_type": "execute_result"
    }
   ],
   "source": [
    "df.iloc[[0,2525319]]"
   ]
  },
  {
   "cell_type": "code",
   "execution_count": 42,
   "metadata": {},
   "outputs": [],
   "source": [
    "#https://stackoverflow.com/a/50129940/1828356\n",
    "def autoconvert_datetime(value):\n",
    "    formats = ['%Y-%m-%d %H:%M', '%d/%m/%Y %H:%M']\n",
    "    result_format = '%Y-%m-%d %H:%M'\n",
    "    for dt_format in formats:\n",
    "        try:\n",
    "            #print(dt_format, value)\n",
    "            dt_obj = datetime.strptime(value, dt_format)\n",
    "            return dt_obj.strftime(result_format)\n",
    "        except Exception as e:\n",
    "            #print(e)\n",
    "            pass\n",
    "    return value"
   ]
  },
  {
   "cell_type": "code",
   "execution_count": 45,
   "metadata": {},
   "outputs": [],
   "source": [
    "df.Fecha = df.Fecha.apply(autoconvert_datetime)\n",
    "#df.iloc[[0,2525319]].Fecha.apply(autoconvert_datetime)"
   ]
  },
  {
   "cell_type": "code",
   "execution_count": 48,
   "metadata": {},
   "outputs": [],
   "source": [
    "etiqueta = df.iat[0,1]\n",
    "p = os.path.join(*variable_path_base, f'var-{etiqueta}.csv')\n",
    "df.to_csv(p, index = False)"
   ]
  },
  {
   "cell_type": "code",
   "execution_count": null,
   "metadata": {},
   "outputs": [],
   "source": []
  }
 ],
 "metadata": {
  "kernelspec": {
   "display_name": "Python 3",
   "language": "python",
   "name": "python3"
  },
  "language_info": {
   "codemirror_mode": {
    "name": "ipython",
    "version": 3
   },
   "file_extension": ".py",
   "mimetype": "text/x-python",
   "name": "python",
   "nbconvert_exporter": "python",
   "pygments_lexer": "ipython3",
   "version": "3.8.3"
  }
 },
 "nbformat": 4,
 "nbformat_minor": 4
}
