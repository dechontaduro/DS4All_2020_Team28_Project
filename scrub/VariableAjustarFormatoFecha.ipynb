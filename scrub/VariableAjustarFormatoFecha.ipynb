{
 "cells": [
  {
   "cell_type": "code",
   "execution_count": 1,
   "metadata": {},
   "outputs": [],
   "source": [
    "import os\n",
    "import glob\n",
    "import pandas as pd\n",
    "from datetime import datetime\n",
    "import time"
   ]
  },
  {
   "cell_type": "code",
   "execution_count": 4,
   "metadata": {},
   "outputs": [],
   "source": [
    "variable_path_base = r'../data/variables'\n",
    "variable_files_pattern = f'climatica_principal_res.zip'"
   ]
  },
  {
   "cell_type": "code",
   "execution_count": 5,
   "metadata": {},
   "outputs": [
    {
     "name": "stdout",
     "output_type": "stream",
     "text": [
      "['..\\\\data\\\\variables\\\\climatica_principal_res.zip']\n"
     ]
    }
   ],
   "source": [
    "variable_path_base = variable_path_base.split('/')\n",
    "variable_files = glob.glob(os.path.join(*variable_path_base, variable_files_pattern))\n",
    "print(variable_files)"
   ]
  },
  {
   "cell_type": "code",
   "execution_count": 6,
   "metadata": {},
   "outputs": [],
   "source": [
    "#Se debe usar uno de los dos segmentos\n",
    "#Segmento para quitar la hora y minutos parte\n",
    "#Toma como base los registros de variables ya separados\n",
    "dtypes = {\n",
    "    'CodigoEstacion':'category','Etiqueta':'category'#,'Fecha': 'string'\n",
    "}\n",
    "dateparse = lambda x: datetime.strptime(x, '%Y-%m-%d %H:%M')"
   ]
  },
  {
   "cell_type": "code",
   "execution_count": 13,
   "metadata": {},
   "outputs": [],
   "source": [
    "#Segmento para ajustar diferentes formatos de fecha\n",
    "dtypes = {\n",
    "    'CodigoEstacion':'category',\n",
    "    'IdParametro':'category',\n",
    "    'Etiqueta':'category',\n",
    "    'DescripcionSerie':'category',\n",
    "    'Frecuencia':'category',\n",
    "    'Grado':'category',\n",
    "    'Calificador':'category',\n",
    "    'NivelAprobacion':'category',\n",
    "    'Fecha': 'string',\n",
    "}\n",
    "\n",
    "usecols = {\n",
    "    'CodigoEstacion',\n",
    "    'IdParametro',\n",
    "    'Etiqueta',\n",
    "    'DescripcionSerie',\n",
    "    'Frecuencia',\n",
    "    'Fecha',\n",
    "    'Valor',\n",
    "    'Grado',\n",
    "    'Calificador',\n",
    "    'NivelAprobacion'\n",
    "}"
   ]
  },
  {
   "cell_type": "code",
   "execution_count": 14,
   "metadata": {},
   "outputs": [],
   "source": [
    "#https://stackoverflow.com/a/50129940/1828356\n",
    "def autoconvert_datetime(value):\n",
    "    formats = ['%Y-%m-%d %H:%M', '%d/%m/%Y %H:%M']\n",
    "    result_format = '%Y-%m-%d %H:%M'\n",
    "    for dt_format in formats:\n",
    "        try:\n",
    "            #print(dt_format, value)\n",
    "            dt_obj = datetime.strptime(value, dt_format)\n",
    "            return dt_obj.strftime(result_format)\n",
    "        except Exception as e:\n",
    "            #print(e)\n",
    "            pass\n",
    "    return value"
   ]
  },
  {
   "cell_type": "code",
   "execution_count": 15,
   "metadata": {},
   "outputs": [
    {
     "name": "stdout",
     "output_type": "stream",
     "text": [
      "Archivo: ..\\data\\variables\\climatica_principal_res.zip\n",
      "Leyendo h:Sun Jun 28 11:50:33 2020...\n",
      "**** r:(1240194, 10) h:Sun Jun 28 11:50:40 2020 t:0.10345001220703125 ****\n",
      "Etiqueta: TEMPERATURA\n",
      "  CodigoEstacion  IdParametro Etiqueta           DescripcionSerie Frecuencia  \\\n",
      "0       12045010  TEMPERATURA  TMN_CON  Temperatura mínima diaria     Diaria   \n",
      "1       12045010  TEMPERATURA  TMN_CON  Temperatura mínima diaria     Diaria   \n",
      "2       12045010  TEMPERATURA  TMN_CON  Temperatura mínima diaria     Diaria   \n",
      "3       12045010  TEMPERATURA  TMN_CON  Temperatura mínima diaria     Diaria   \n",
      "4       12045010  TEMPERATURA  TMN_CON  Temperatura mínima diaria     Diaria   \n",
      "\n",
      "              Fecha  Valor Grado Calificador NivelAprobacion  \n",
      "0  1991-01-01 00:00   20.8    50         NaN             900  \n",
      "1  1991-01-02 00:00   24.2    50         NaN             900  \n",
      "2  1991-01-03 00:00   22.2    50         NaN             900  \n",
      "3  1991-01-04 00:00   21.2    50         NaN             900  \n",
      "4  1991-01-05 00:00   20.0    50         NaN             900  \n",
      "Guardando ..\\data\\variables\\climatica_principal_res_fecha.csv h:Sun Jun 28 11:51:18 2020...\n",
      "**** h:Sun Jun 28 11:51:27 2020 t:0.8881465911865234 ****\n",
      "Wall time: 53.3 s\n"
     ]
    }
   ],
   "source": [
    "%%time\n",
    "start_time = time.time()\n",
    "for f in variable_files:\n",
    "    print(f'Archivo: {f}')\n",
    "    print(f'Leyendo h:{time.asctime()}...')\n",
    "    \n",
    "    #Segmento para quitar hora\n",
    "    #df = pd.read_csv(f, dtype = dtypes, parse_dates = ['Fecha'], date_parser = dateparse)\n",
    "    \n",
    "    #Segmento para ajustar formatos\n",
    "    df = pd.read_csv(f, usecols = usecols, dtype = dtypes)\n",
    "    \n",
    "    print(f'**** r:{df.shape} h:{time.asctime()} t:{(time.time() - start_time) / 60} ****')\n",
    "\n",
    "    etiqueta = df.iat[0,1]\n",
    "    print(f'Etiqueta: {etiqueta}')\n",
    "    \n",
    "    print(df.head())\n",
    "    #df.tail()\n",
    "\n",
    "    #Segmento para ajustar formatos\n",
    "    df.Fecha = df.Fecha.apply(autoconvert_datetime)\n",
    "    \n",
    "    #Verificar nombre del archivo de salida\n",
    "    #p = os.path.join(*variable_path_base, f'var-dia-{etiqueta}-raw.csv')\n",
    "    p = os.path.join(*variable_path_base, f'climatica_principal_res_fecha.csv')\n",
    "    \n",
    "    \n",
    "    print(f'Guardando {p} h:{time.asctime()}...')\n",
    "    \n",
    "    df.to_csv(p, date_format = '%Y-%m-%d',  index = False)\n",
    "    print(f'**** h:{time.asctime()} t:{(time.time() - start_time) / 60} ****')"
   ]
  },
  {
   "cell_type": "code",
   "execution_count": null,
   "metadata": {},
   "outputs": [],
   "source": []
  }
 ],
 "metadata": {
  "kernelspec": {
   "display_name": "Python 3",
   "language": "python",
   "name": "python3"
  },
  "language_info": {
   "codemirror_mode": {
    "name": "ipython",
    "version": 3
   },
   "file_extension": ".py",
   "mimetype": "text/x-python",
   "name": "python",
   "nbconvert_exporter": "python",
   "pygments_lexer": "ipython3",
   "version": "3.8.3"
  }
 },
 "nbformat": 4,
 "nbformat_minor": 4
}
