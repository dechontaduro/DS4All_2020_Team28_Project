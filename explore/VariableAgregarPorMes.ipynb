{
 "cells": [
  {
   "cell_type": "code",
   "execution_count": 1,
   "metadata": {},
   "outputs": [],
   "source": [
    "import os\n",
    "import glob\n",
    "import pandas as pd\n",
    "from datetime import datetime\n",
    "import time\n",
    "#import numpy as np"
   ]
  },
  {
   "cell_type": "code",
   "execution_count": 2,
   "metadata": {},
   "outputs": [],
   "source": [
    "variable_path_base = r'../data/variables'\n",
    "variable_files_pattern = f'var-dia-*-fill.zip'\n",
    "variable_datetime_format = '%Y-%m-%d' #'%Y-%m-%d'\n",
    "variable_column_Valor = 'ValorFilled' \n",
    "variable_file_output = 'var-mes-{etiqueta}-fill.csv'\n",
    "\n",
    "agg_valor = ['min','mean','median','max','count']"
   ]
  },
  {
   "cell_type": "code",
   "execution_count": 3,
   "metadata": {},
   "outputs": [
    {
     "name": "stdout",
     "output_type": "stream",
     "text": [
      "6 ['..\\\\data\\\\variables\\\\var-dia-PTPM_CON-fill.zip', '..\\\\data\\\\variables\\\\var-dia-Q_MEDIA_D-fill.zip', '..\\\\data\\\\variables\\\\var-dia-Q_MN_D-fill.zip', '..\\\\data\\\\variables\\\\var-dia-Q_MX_D-fill.zip', '..\\\\data\\\\variables\\\\var-dia-TMN_CON-fill.zip', '..\\\\data\\\\variables\\\\var-dia-TMX_CON-fill.zip']\n"
     ]
    }
   ],
   "source": [
    "variable_path_base = variable_path_base.split('/')\n",
    "variable_files = glob.glob(os.path.join(*variable_path_base, variable_files_pattern))\n",
    "print(len(variable_files), variable_files)"
   ]
  },
  {
   "cell_type": "code",
   "execution_count": 4,
   "metadata": {},
   "outputs": [],
   "source": [
    "dtypes = {\n",
    "    'CodigoEstacion':'string','Etiqueta':'category'#,'Fecha': 'string',\n",
    "    #'IdParametro':'category','DescripcionSerie':'category','Frecuencia':'category','Grado':'category','Calificador':'category','NivelAprobacion':'category',\n",
    "}\n",
    "\n",
    "usecols = {\n",
    "    'CodigoEstacion','Etiqueta', 'Fecha', variable_column_Valor\n",
    "    #'IdParametro','DescripcionSerie','Frecuencia','Grado','Calificador','NivelAprobacion'\n",
    "}\n",
    "\n",
    "dateparse = lambda x: datetime.strptime(x, variable_datetime_format)"
   ]
  },
  {
   "cell_type": "code",
   "execution_count": 5,
   "metadata": {},
   "outputs": [],
   "source": [
    "def groupVariableByMonth(f):\n",
    "    start_time = time.time()\n",
    "    \n",
    "    print(f'Archivo: {f}')\n",
    "    print(f'Leyendo h:{time.asctime()}...')\n",
    "    df = pd.read_csv(f, dtype = dtypes, parse_dates = ['Fecha'], usecols = usecols, date_parser = dateparse)#, index_col = ['Fecha', 'CodigoEstacion'])\n",
    "    print(f'**** r:{df.shape} h:{time.asctime()} t:{(time.time() - start_time) / 60} ****')\n",
    "    \n",
    "    df.rename(columns = {variable_column_Valor: 'Valor'}, inplace = True)\n",
    "    \n",
    "    etiqueta = df.loc[0,'Etiqueta']\n",
    "    \n",
    "    print(f'Etiqueta leída: {etiqueta}')\n",
    "    \n",
    "    print(f'Agrupando por mes...')\n",
    "    dfm = df.groupby([df.CodigoEstacion,df.Etiqueta,df.Fecha.dt.to_period('M')]).Valor.agg(agg_valor).reset_index()\n",
    "    print(f'**** r:{dfm.shape} h:{time.asctime()} t:{(time.time() - start_time) / 60} ****')\n",
    "    print(dfm.head())\n",
    "    \n",
    "    p = os.path.join(*variable_path_base, variable_file_output.format(etiqueta = etiqueta))\n",
    "    \n",
    "    print(f'Guardando en {p}...')\n",
    "    dfm.to_csv(p, index = False)\n",
    "    print(f'**** h:{time.asctime()} t:{(time.time() - start_time) / 60} ****')"
   ]
  },
  {
   "cell_type": "code",
   "execution_count": 6,
   "metadata": {},
   "outputs": [
    {
     "name": "stdout",
     "output_type": "stream",
     "text": [
      "Archivo: ..\\data\\variables\\var-dia-PTPM_CON-fill.zip\n",
      "Leyendo h:Tue Jun 30 18:27:07 2020...\n",
      "**** r:(18694560, 4) h:Tue Jun 30 18:32:42 2020 t:5.578821221987407 ****\n",
      "Etiqueta leída: PTPM_CON\n",
      "Agrupando por mes...\n",
      "**** r:(614220, 8) h:Tue Jun 30 18:32:53 2020 t:5.765304442246755 ****\n",
      "  CodigoEstacion  Etiqueta    Fecha  min       mean  median    max  count\n",
      "0       11010010  PTPM_CON  1991-01  0.0  11.958065    6.10   56.0     31\n",
      "1       11010010  PTPM_CON  1991-02  0.0  20.017857    2.25  125.4     28\n",
      "2       11010010  PTPM_CON  1991-03  0.0  21.890323    4.40   95.2     31\n",
      "3       11010010  PTPM_CON  1991-04  0.0  10.826667    2.05   88.4     30\n",
      "4       11010010  PTPM_CON  1991-05  0.0  23.612903   15.00   89.7     31\n",
      "Guardando en ..\\data\\variables\\var-mes-PTPM_CON-fill.csv...\n",
      "**** h:Tue Jun 30 18:33:03 2020 t:5.919787796338399 ****\n",
      "Archivo: ..\\data\\variables\\var-dia-Q_MEDIA_D-fill.zip\n",
      "Leyendo h:Tue Jun 30 18:33:03 2020...\n",
      "**** r:(7886096, 4) h:Tue Jun 30 18:35:41 2020 t:2.636797722180684 ****\n",
      "Etiqueta leída: Q_MEDIA_D\n",
      "Agrupando por mes...\n",
      "**** r:(259102, 8) h:Tue Jun 30 18:35:46 2020 t:2.715497736136119 ****\n",
      "  CodigoEstacion   Etiqueta    Fecha   min        mean  median    max  count\n",
      "0       11017010  Q_MEDIA_D  1991-01  87.0  317.741935   305.0  960.0     31\n",
      "1       11017010  Q_MEDIA_D  1991-02  83.0  284.107143   243.5  656.0     28\n",
      "2       11017010  Q_MEDIA_D  1991-03  82.0  277.774194   224.0  845.0     31\n",
      "3       11017010  Q_MEDIA_D  1991-04  76.0  278.900000   218.0  931.0     30\n",
      "4       11017010  Q_MEDIA_D  1991-05  90.0  335.000000   294.0  957.0     31\n",
      "Guardando en ..\\data\\variables\\var-mes-Q_MEDIA_D-fill.csv...\n",
      "**** h:Tue Jun 30 18:35:49 2020 t:2.777781077226003 ****\n",
      "Archivo: ..\\data\\variables\\var-dia-Q_MN_D-fill.zip\n",
      "Leyendo h:Tue Jun 30 18:35:49 2020...\n",
      "**** r:(5060424, 4) h:Tue Jun 30 18:37:27 2020 t:1.6228093266487122 ****\n",
      "Etiqueta leída: Q_MN_D\n",
      "Agrupando por mes...\n",
      "**** r:(166263, 8) h:Tue Jun 30 18:37:30 2020 t:1.6819094181060792 ****\n",
      "  CodigoEstacion Etiqueta    Fecha  min  mean  median  max  count\n",
      "0       11017010   Q_MN_D  1991-01  NaN   NaN     NaN  NaN      0\n",
      "1       11017010   Q_MN_D  1991-02  NaN   NaN     NaN  NaN      0\n",
      "2       11017010   Q_MN_D  1991-03  NaN   NaN     NaN  NaN      0\n",
      "3       11017010   Q_MN_D  1991-04  NaN   NaN     NaN  NaN      0\n",
      "4       11017010   Q_MN_D  1991-05  NaN   NaN     NaN  NaN      0\n",
      "Guardando en ..\\data\\variables\\var-mes-Q_MN_D-fill.csv...\n",
      "**** h:Tue Jun 30 18:37:33 2020 t:1.7285226265589395 ****\n",
      "Archivo: ..\\data\\variables\\var-dia-Q_MX_D-fill.zip\n",
      "Leyendo h:Tue Jun 30 18:37:33 2020...\n",
      "**** r:(5060424, 4) h:Tue Jun 30 18:39:09 2020 t:1.6016714652379354 ****\n",
      "Etiqueta leída: Q_MX_D\n",
      "Agrupando por mes...\n",
      "**** r:(166263, 8) h:Tue Jun 30 18:39:13 2020 t:1.6687664667765298 ****\n",
      "  CodigoEstacion Etiqueta    Fecha  min  mean  median  max  count\n",
      "0       11017010   Q_MX_D  1991-01  NaN   NaN     NaN  NaN      0\n",
      "1       11017010   Q_MX_D  1991-02  NaN   NaN     NaN  NaN      0\n",
      "2       11017010   Q_MX_D  1991-03  NaN   NaN     NaN  NaN      0\n",
      "3       11017010   Q_MX_D  1991-04  NaN   NaN     NaN  NaN      0\n",
      "4       11017010   Q_MX_D  1991-05  NaN   NaN     NaN  NaN      0\n",
      "Guardando en ..\\data\\variables\\var-mes-Q_MX_D-fill.csv...\n",
      "**** h:Tue Jun 30 18:39:16 2020 t:1.709433122475942 ****\n",
      "Archivo: ..\\data\\variables\\var-dia-TMN_CON-fill.zip\n",
      "Leyendo h:Tue Jun 30 18:39:16 2020...\n",
      "**** r:(4319088, 4) h:Tue Jun 30 18:40:43 2020 t:1.4579116861025492 ****\n",
      "Etiqueta leída: TMN_CON\n",
      "Agrupando por mes...\n",
      "**** r:(141906, 8) h:Tue Jun 30 18:40:46 2020 t:1.5063116788864135 ****\n",
      "  CodigoEstacion Etiqueta    Fecha   min       mean  median   max  count\n",
      "0       11025010  TMN_CON  1991-01   9.4  12.354839    12.8  14.8     31\n",
      "1       11025010  TMN_CON  1991-02  10.4  12.942857    13.0  14.6     28\n",
      "2       11025010  TMN_CON  1991-03  10.4  12.600000    12.6  14.4     31\n",
      "3       11025010  TMN_CON  1991-04  11.0  12.593333    12.8  14.8     30\n",
      "4       11025010  TMN_CON  1991-05  11.8  13.135484    13.2  15.4     31\n",
      "Guardando en ..\\data\\variables\\var-mes-TMN_CON-fill.csv...\n",
      "**** h:Tue Jun 30 18:40:48 2020 t:1.5419449925422668 ****\n",
      "Archivo: ..\\data\\variables\\var-dia-TMX_CON-fill.zip\n",
      "Leyendo h:Tue Jun 30 18:40:48 2020...\n",
      "**** r:(4319088, 4) h:Tue Jun 30 18:42:17 2020 t:1.4844472606976826 ****\n",
      "Etiqueta leída: TMX_CON\n",
      "Agrupando por mes...\n",
      "**** r:(141906, 8) h:Tue Jun 30 18:42:20 2020 t:1.5274312853813172 ****\n",
      "  CodigoEstacion Etiqueta    Fecha   min       mean  median   max  count\n",
      "0       11025010  TMX_CON  1991-01  18.4  21.341935    21.6  24.4     31\n",
      "1       11025010  TMX_CON  1991-02  18.9  21.696429    21.5  24.8     28\n",
      "2       11025010  TMX_CON  1991-03  16.6  21.222581    21.2  23.6     31\n",
      "3       11025010  TMX_CON  1991-04  17.6  20.873333    21.1  24.0     30\n",
      "4       11025010  TMX_CON  1991-05  16.4  20.916129    21.2  23.6     31\n",
      "Guardando en ..\\data\\variables\\var-mes-TMX_CON-fill.csv...\n",
      "**** h:Tue Jun 30 18:42:22 2020 t:1.5610807140668232 ****\n",
      "Wall time: 15min 14s\n"
     ]
    }
   ],
   "source": [
    "%%time\n",
    "for f in variable_files:\n",
    "    groupVariableByMonth(f)"
   ]
  },
  {
   "cell_type": "code",
   "execution_count": 7,
   "metadata": {},
   "outputs": [],
   "source": [
    "#estacion = '13067020'\n",
    "#year = 2005\n",
    "#print(dfm.loc[(dfm.CodigoEstacion == estacion) & (dfm.Fecha.dt.year == year)].head(2))\n",
    "#print(df[(df.CodigoEstacion == estacion) & (df.Fecha.dt.year == year)].head(2))"
   ]
  },
  {
   "cell_type": "code",
   "execution_count": null,
   "metadata": {},
   "outputs": [],
   "source": []
  }
 ],
 "metadata": {
  "kernelspec": {
   "display_name": "Python 3",
   "language": "python",
   "name": "python3"
  },
  "language_info": {
   "codemirror_mode": {
    "name": "ipython",
    "version": 3
   },
   "file_extension": ".py",
   "mimetype": "text/x-python",
   "name": "python",
   "nbconvert_exporter": "python",
   "pygments_lexer": "ipython3",
   "version": "3.8.3"
  }
 },
 "nbformat": 4,
 "nbformat_minor": 4
}
