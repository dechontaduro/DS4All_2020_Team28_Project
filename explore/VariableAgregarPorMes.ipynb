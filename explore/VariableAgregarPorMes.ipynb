{
 "cells": [
  {
   "cell_type": "code",
   "execution_count": 1,
   "metadata": {},
   "outputs": [],
   "source": [
    "import os\n",
    "import glob\n",
    "import pandas as pd\n",
    "from datetime import datetime\n",
    "import matplotlib.pyplot as plt"
   ]
  },
  {
   "cell_type": "code",
   "execution_count": 2,
   "metadata": {},
   "outputs": [],
   "source": [
    "variable_path_base = r'../data/variables'\n",
    "variable_files_pattern = f'var-dia-*.zip'"
   ]
  },
  {
   "cell_type": "code",
   "execution_count": 3,
   "metadata": {},
   "outputs": [
    {
     "name": "stdout",
     "output_type": "stream",
     "text": [
      "['..\\\\data\\\\variables\\\\var-PTPM_CON.zip', '..\\\\data\\\\variables\\\\var-PT_10_TT_D.zip', '..\\\\data\\\\variables\\\\var-Q_MEDIA_D.zip', '..\\\\data\\\\variables\\\\var-Q_MN_D.zip', '..\\\\data\\\\variables\\\\var-Q_MX_D.zip', '..\\\\data\\\\variables\\\\var-TMN_CON.zip', '..\\\\data\\\\variables\\\\var-TMX_CON.zip']\n"
     ]
    }
   ],
   "source": [
    "variable_path_base = variable_path_base.split('/')\n",
    "variable_files = glob.glob(os.path.join(*variable_path_base, variable_files_pattern))\n",
    "print(variable_files)"
   ]
  },
  {
   "cell_type": "code",
   "execution_count": 4,
   "metadata": {},
   "outputs": [],
   "source": [
    "dtypes = {\n",
    "    'CodigoEstacion':'string','Etiqueta':'category','Fecha': 'string',\n",
    "    #'IdParametro':'category','DescripcionSerie':'category','Frecuencia':'category','Grado':'category','Calificador':'category','NivelAprobacion':'category',\n",
    "}\n",
    "\n",
    "usecols = {\n",
    "    'CodigoEstacion','Etiqueta', 'Fecha','Valor'\n",
    "    #'IdParametro','DescripcionSerie','Frecuencia','Grado','Calificador','NivelAprobacion'\n",
    "}\n",
    "dateparse = lambda x: pd.datetime.strptime(x, '%Y-%m-%d %H:%M')\n"
   ]
  },
  {
   "cell_type": "code",
   "execution_count": 5,
   "metadata": {},
   "outputs": [],
   "source": [
    "def groupVariableByMonth(f):\n",
    "    print(f'Archivo: {f}')\n",
    "    print(f'Leyendo...')\n",
    "    df = pd.read_csv(f, dtype = dtypes, parse_dates = ['Fecha'], date_parser = dateparse)#, index_col = ['Fecha', 'CodigoEstacion'])\n",
    "    \n",
    "    etiqueta = df.iat[0,1]\n",
    "    print(f'Etiqueta leída: {etiqueta}')\n",
    "    \n",
    "    print(df.shape)\n",
    "    #print(df.dtypes)\n",
    "    #print(df.info())\n",
    "    print(df.head())\n",
    "    \n",
    "    print(f'Agrupando por mes...')\n",
    "    #.dt.to_timestamp()\n",
    "    dfm = df.groupby([df.CodigoEstacion,df.Etiqueta,df.Fecha.dt.to_period('M')]).Valor.agg(['min','mean','median','max']).dropna().reset_index()\n",
    "    print(dfm.shape)\n",
    "    #print(dfm.dtypes)\n",
    "    #print(dfm.info())\n",
    "    print(dfm.head())\n",
    "    \n",
    "    p = os.path.join(*variable_path_base, f'var-men-{etiqueta}.csv')\n",
    "    print(f'Guardando en {p}...')\n",
    "    dfm.to_csv(p, index = False)\n",
    "    print(f'*** guardado ***')\n",
    "    \n",
    "    #dfm.boxplot()\n",
    "    #plt.title(f'{etiqueta}')\n",
    "\n",
    "    #p = os.path.join(*variable_path_base, 'images', f'var-men-{etiqueta}.png')\n",
    "    #plt.savefig(p)"
   ]
  },
  {
   "cell_type": "code",
   "execution_count": 6,
   "metadata": {},
   "outputs": [
    {
     "name": "stdout",
     "output_type": "stream",
     "text": [
      "Archivo: ..\\data\\variables\\var-TMX_CON.zip\n",
      "Leyendo...\n"
     ]
    },
    {
     "name": "stderr",
     "output_type": "stream",
     "text": [
      "<ipython-input-4-c136bba1d836>:10: FutureWarning: The pandas.datetime class is deprecated and will be removed from pandas in a future version. Import from datetime module instead.\n",
      "  dateparse = lambda x: pd.datetime.strptime(x, '%Y-%m-%d %H:%M')\n"
     ]
    },
    {
     "name": "stdout",
     "output_type": "stream",
     "text": [
      "Etiqueta leída: TMX_CON\n",
      "(2525321, 4)\n",
      "  CodigoEstacion Etiqueta      Fecha  Valor\n",
      "0       11025010  TMX_CON 1991-01-01   20.0\n",
      "1       11025010  TMX_CON 1991-01-02   20.4\n",
      "2       11025010  TMX_CON 1991-01-03   20.6\n",
      "3       11025010  TMX_CON 1991-01-04   21.8\n",
      "4       11025010  TMX_CON 1991-01-05   21.2\n",
      "Agrupando por mes...\n",
      "(89710, 7)\n",
      "  CodigoEstacion Etiqueta    Fecha   min       mean  median   max\n",
      "0       11025010  TMX_CON  1991-01  18.4  21.341935    21.6  24.4\n",
      "1       11025010  TMX_CON  1991-02  18.9  21.696429    21.5  24.8\n",
      "2       11025010  TMX_CON  1991-03  16.6  21.222581    21.2  23.6\n",
      "3       11025010  TMX_CON  1991-04  17.6  20.873333    21.1  24.0\n",
      "4       11025010  TMX_CON  1991-05  16.4  20.893333    21.2  23.6\n",
      "Guardando en ..\\data\\variables\\var-men-TMX_CON.csv...\n",
      "*** guardado ***\n"
     ]
    },
    {
     "data": {
      "image/png": "[encoded data removed]",
      "text/plain": [
       "<Figure size 432x288 with 1 Axes>"
      ]
     },
     "metadata": {
      "needs_background": "light"
     },
     "output_type": "display_data"
    }
   ],
   "source": [
    "for f in variable_files[-1:]:\n",
    "    groupVariableByMonth(f)\n"
   ]
  },
  {
   "cell_type": "code",
   "execution_count": 7,
   "metadata": {},
   "outputs": [],
   "source": [
    "#estacion = '13067020'\n",
    "#year = 2005\n",
    "#print(dfm.loc[(dfm.CodigoEstacion == estacion) & (dfm.Fecha.dt.year == year)].head(2))\n",
    "#print(df[(df.CodigoEstacion == estacion) & (df.Fecha.dt.year == year)].head(2))"
   ]
  },
  {
   "cell_type": "code",
   "execution_count": null,
   "metadata": {},
   "outputs": [],
   "source": []
  }
 ],
 "metadata": {
  "kernelspec": {
   "display_name": "Python 3",
   "language": "python",
   "name": "python3"
  },
  "language_info": {
   "codemirror_mode": {
    "name": "ipython",
    "version": 3
   },
   "file_extension": ".py",
   "mimetype": "text/x-python",
   "name": "python",
   "nbconvert_exporter": "python",
   "pygments_lexer": "ipython3",
   "version": "3.8.3"
  }
 },
 "nbformat": 4,
 "nbformat_minor": 4
}
