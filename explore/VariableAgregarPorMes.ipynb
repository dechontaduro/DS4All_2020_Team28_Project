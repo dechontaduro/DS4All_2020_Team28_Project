{
 "cells": [
  {
   "cell_type": "code",
   "execution_count": 1,
   "metadata": {},
   "outputs": [],
   "source": [
    "import os\n",
    "import glob\n",
    "import pandas as pd\n",
    "from datetime import datetime\n",
    "import time"
   ]
  },
  {
   "cell_type": "code",
   "execution_count": 2,
   "metadata": {},
   "outputs": [],
   "source": [
    "variable_path_base = r'../data/variables'\n",
    "variable_files_pattern = f'var-dia-*.csv'\n",
    "variable_datetime_format = '%Y-%m-%d %H:%M' #'%Y-%m-%d'\n",
    "variable_column_Valor = 'ValorFilled' \n",
    "variable_file_output = 'var-mes-{etiqueta}.csv'"
   ]
  },
  {
   "cell_type": "code",
   "execution_count": 3,
   "metadata": {},
   "outputs": [
    {
     "name": "stdout",
     "output_type": "stream",
     "text": [
      "['..\\\\data\\\\variables\\\\var-dia-PTPM_CON-fill-median-10.csv', '..\\\\data\\\\variables\\\\var-dia-PT_10_TT_D-fill-median-10.csv', '..\\\\data\\\\variables\\\\var-dia-Q_MEDIA_D-fill-median-10.csv', '..\\\\data\\\\variables\\\\var-dia-Q_MN_D-fill-median-10.csv', '..\\\\data\\\\variables\\\\var-dia-Q_MX_D-fill-median-10.csv', '..\\\\data\\\\variables\\\\var-dia-TMN_CON-fill-median-10.csv', '..\\\\data\\\\variables\\\\var-dia-TMX_CON-fill-median-10.csv']\n"
     ]
    }
   ],
   "source": [
    "variable_path_base = variable_path_base.split('/')\n",
    "variable_files = glob.glob(os.path.join(*variable_path_base, variable_files_pattern))\n",
    "print(variable_files)"
   ]
  },
  {
   "cell_type": "code",
   "execution_count": 4,
   "metadata": {},
   "outputs": [],
   "source": [
    "dtypes = {\n",
    "    'CodigoEstacion':'string','Etiqueta':'category','Fecha': 'string',\n",
    "    #'IdParametro':'category','DescripcionSerie':'category','Frecuencia':'category','Grado':'category','Calificador':'category','NivelAprobacion':'category',\n",
    "}\n",
    "\n",
    "usecols = {\n",
    "    'CodigoEstacion','Etiqueta', 'Fecha', variable_column_Valor\n",
    "    #'IdParametro','DescripcionSerie','Frecuencia','Grado','Calificador','NivelAprobacion'\n",
    "}\n",
    "\n",
    "dateparse = lambda x: datetime.strptime(x, variable_datetime_format)\n"
   ]
  },
  {
   "cell_type": "code",
   "execution_count": 11,
   "metadata": {},
   "outputs": [],
   "source": [
    "def groupVariableByMonth(f):\n",
    "    start_time = time.time()\n",
    "    \n",
    "    print(f'Archivo: {f}')\n",
    "    print(f'Leyendo h:{time.asctime()}...')\n",
    "    df = pd.read_csv(f, dtype = dtypes, parse_dates = ['Fecha'], usecols = usecols, date_parser = dateparse)#, index_col = ['Fecha', 'CodigoEstacion'])\n",
    "    print(f'**** r:{df.shape} h:{time.asctime()} t:{(time.time() - start_time) / 60} ****')\n",
    "    \n",
    "    df.rename(columns = {variable_column_Valor: 'Valor'}, inplace = True)\n",
    "    \n",
    "    etiqueta = df.loc[0,'Etiqueta']\n",
    "    \n",
    "    print(f'Etiqueta leída: {etiqueta}')\n",
    "    \n",
    "    print(f'Agrupando por mes...')\n",
    "    dfm = df.groupby([df.CodigoEstacion,df.Etiqueta,df.Fecha.dt.to_period('M')]).Valor.agg(['min','mean','median','max']).dropna().reset_index()\n",
    "    print(f'**** r:{dfm.shape} h:{time.asctime()} t:{(time.time() - start_time) / 60} ****')\n",
    "    print(dfm.head())\n",
    "    \n",
    "    p = os.path.join(*variable_path_base, variable_file_output.format(etiqueta = etiqueta))\n",
    "    \n",
    "    print(f'Guardando en {p}...')\n",
    "    dfm.to_csv(p, index = False)\n",
    "    print(f'**** h:{time.asctime()} t:{(time.time() - start_time) / 60} ****')"
   ]
  },
  {
   "cell_type": "code",
   "execution_count": 12,
   "metadata": {},
   "outputs": [
    {
     "name": "stdout",
     "output_type": "stream",
     "text": [
      "Archivo: ..\\data\\variables\\var-dia-PTPM_CON-fill-median-10.csv\n",
      "Leyendo h:Mon Jun 15 18:14:47 2020...\n",
      "**** r:(18694560, 4) h:Mon Jun 15 18:23:11 2020 t:8.393712492783864 ****\n",
      "Etiqueta leída: PTPM_CON\n",
      "Agrupando por mes...\n",
      "**** r:(523024, 7) h:Mon Jun 15 18:23:25 2020 t:8.62424388329188 ****\n",
      "  CodigoEstacion  Etiqueta    Fecha  min       mean  median    max\n",
      "0       11010010  PTPM_CON  1991-01  0.0  11.958065    6.10   56.0\n",
      "1       11010010  PTPM_CON  1991-02  0.0  20.017857    2.25  125.4\n",
      "2       11010010  PTPM_CON  1991-03  0.0  21.890323    4.40   95.2\n",
      "3       11010010  PTPM_CON  1991-04  0.0  10.826667    2.05   88.4\n",
      "4       11010010  PTPM_CON  1991-05  0.0  23.612903   15.00   89.7\n",
      "Guardando en ..\\data\\variables\\var-men-PTPM_CON-fill-median-10.csv...\n",
      "**** h:Mon Jun 15 18:23:33 2020 t:8.768150047461193 ****\n",
      "Archivo: ..\\data\\variables\\var-dia-PT_10_TT_D-fill-median-10.csv\n",
      "Leyendo h:Mon Jun 15 18:23:34 2020...\n",
      "**** r:(304020, 4) h:Mon Jun 15 18:23:44 2020 t:0.17018896738688152 ****\n",
      "Etiqueta leída: PT_10_TT_D\n",
      "Agrupando por mes...\n",
      "**** r:(4548, 7) h:Mon Jun 15 18:23:44 2020 t:0.1747796336809794 ****\n",
      "  CodigoEstacion    Etiqueta    Fecha   min      mean  median    max\n",
      "0       13067020  PT_10_TT_D  2015-05  0.08  0.320000    0.31   0.57\n",
      "1       13067020  PT_10_TT_D  2015-06  0.00  1.002667    0.21   8.49\n",
      "2       13067020  PT_10_TT_D  2015-07  0.00  5.721290    0.29  49.58\n",
      "3       13067020  PT_10_TT_D  2015-08  0.00  5.534839    0.75  36.09\n",
      "4       13067020  PT_10_TT_D  2015-09  0.00  2.366000    0.21  20.51\n",
      "Guardando en ..\\data\\variables\\var-men-PT_10_TT_D-fill-median-10.csv...\n",
      "**** h:Mon Jun 15 18:23:44 2020 t:0.17681895097096761 ****\n",
      "Archivo: ..\\data\\variables\\var-dia-Q_MEDIA_D-fill-median-10.csv\n",
      "Leyendo h:Mon Jun 15 18:23:44 2020...\n",
      "**** r:(7886096, 4) h:Mon Jun 15 18:27:21 2020 t:3.6159329771995545 ****\n",
      "Etiqueta leída: Q_MEDIA_D\n",
      "Agrupando por mes...\n",
      "**** r:(218250, 7) h:Mon Jun 15 18:27:27 2020 t:3.716738287607829 ****\n",
      "  CodigoEstacion   Etiqueta    Fecha   min        mean  median    max\n",
      "0       11017010  Q_MEDIA_D  1991-01  87.0  317.741935   305.0  960.0\n",
      "1       11017010  Q_MEDIA_D  1991-02  83.0  284.107143   243.5  656.0\n",
      "2       11017010  Q_MEDIA_D  1991-03  82.0  277.774194   224.0  845.0\n",
      "3       11017010  Q_MEDIA_D  1991-04  76.0  278.900000   218.0  931.0\n",
      "4       11017010  Q_MEDIA_D  1991-05  90.0  335.000000   294.0  957.0\n",
      "Guardando en ..\\data\\variables\\var-men-Q_MEDIA_D-fill-median-10.csv...\n",
      "**** h:Mon Jun 15 18:27:31 2020 t:3.78503493865331 ****\n",
      "Archivo: ..\\data\\variables\\var-dia-Q_MN_D-fill-median-10.csv\n",
      "Leyendo h:Mon Jun 15 18:27:31 2020...\n",
      "**** r:(5060424, 4) h:Mon Jun 15 18:29:56 2020 t:2.4125894784927366 ****\n",
      "Etiqueta leída: Q_MN_D\n",
      "Agrupando por mes...\n",
      "**** r:(98936, 7) h:Mon Jun 15 18:30:00 2020 t:2.4794106324513754 ****\n",
      "  CodigoEstacion Etiqueta    Fecha    min        mean     median        max\n",
      "0       11017010   Q_MN_D  2016-01  63.75  124.714489  118.37500  191.50000\n",
      "1       11017010   Q_MN_D  2016-02  62.50  102.111111   80.00000  259.56250\n",
      "2       11017010   Q_MN_D  2016-03  65.00  106.625000   90.00000  190.84375\n",
      "3       11017010   Q_MN_D  2016-04  78.75  180.654542  182.21875  450.49875\n",
      "4       11017010   Q_MN_D  2016-05  92.50  191.261089  191.50000  275.03125\n",
      "Guardando en ..\\data\\variables\\var-men-Q_MN_D-fill-median-10.csv...\n",
      "**** h:Mon Jun 15 18:30:02 2020 t:2.515442152818044 ****\n",
      "Archivo: ..\\data\\variables\\var-dia-Q_MX_D-fill-median-10.csv\n",
      "Leyendo h:Mon Jun 15 18:30:02 2020...\n",
      "**** r:(5060424, 4) h:Mon Jun 15 18:32:29 2020 t:2.4511014858881635 ****\n",
      "Etiqueta leída: Q_MX_D\n",
      "Agrupando por mes...\n",
      "**** r:(98912, 7) h:Mon Jun 15 18:32:33 2020 t:2.510906676451365 ****\n",
      "  CodigoEstacion Etiqueta    Fecha      min        mean      median      max\n",
      "0       11017010   Q_MX_D  2016-01   84.375  156.032670  150.453125  236.875\n",
      "1       11017010   Q_MX_D  2016-02   78.750  172.111111  136.312500  595.000\n",
      "2       11017010   Q_MX_D  2016-03   68.125  151.931452  139.312500  380.500\n",
      "3       11017010   Q_MX_D  2016-04  102.500  285.221542  212.453125  725.240\n",
      "4       11017010   Q_MX_D  2016-05  135.750  293.048589  247.187500  597.200\n",
      "Guardando en ..\\data\\variables\\var-men-Q_MX_D-fill-median-10.csv...\n",
      "**** h:Mon Jun 15 18:32:35 2020 t:2.5437243302663166 ****\n",
      "Archivo: ..\\data\\variables\\var-dia-TMN_CON-fill-median-10.csv\n",
      "Leyendo h:Mon Jun 15 18:32:35 2020...\n",
      "**** r:(4319088, 4) h:Mon Jun 15 18:34:37 2020 t:2.0317260305086773 ****\n",
      "Etiqueta leída: TMN_CON\n",
      "Agrupando por mes...\n",
      "**** r:(120075, 7) h:Mon Jun 15 18:34:40 2020 t:2.08693550825119 ****\n",
      "  CodigoEstacion Etiqueta    Fecha   min       mean  median   max\n",
      "0       11025010  TMN_CON  1991-01   9.4  12.354839    12.8  14.8\n",
      "1       11025010  TMN_CON  1991-02  10.4  12.942857    13.0  14.6\n",
      "2       11025010  TMN_CON  1991-03  10.4  12.600000    12.6  14.4\n",
      "3       11025010  TMN_CON  1991-04  11.0  12.593333    12.8  14.8\n",
      "4       11025010  TMN_CON  1991-05  11.8  13.135484    13.2  15.4\n",
      "Guardando en ..\\data\\variables\\var-men-TMN_CON-fill-median-10.csv...\n",
      "**** h:Mon Jun 15 18:34:43 2020 t:2.1289644678433737 ****\n",
      "Archivo: ..\\data\\variables\\var-dia-TMX_CON-fill-median-10.csv\n",
      "Leyendo h:Mon Jun 15 18:34:43 2020...\n",
      "**** r:(4319088, 4) h:Mon Jun 15 18:36:53 2020 t:2.1796549479166667 ****\n",
      "Etiqueta leída: TMX_CON\n",
      "Agrupando por mes...\n",
      "**** r:(118995, 7) h:Mon Jun 15 18:36:57 2020 t:2.2415449897448223 ****\n",
      "  CodigoEstacion Etiqueta    Fecha   min       mean  median   max\n",
      "0       11025010  TMX_CON  1991-01  18.4  21.341935    21.6  24.4\n",
      "1       11025010  TMX_CON  1991-02  18.9  21.696429    21.5  24.8\n",
      "2       11025010  TMX_CON  1991-03  16.6  21.222581    21.2  23.6\n",
      "3       11025010  TMX_CON  1991-04  17.6  20.873333    21.1  24.0\n",
      "4       11025010  TMX_CON  1991-05  16.4  20.916129    21.2  23.6\n",
      "Guardando en ..\\data\\variables\\var-men-TMX_CON-fill-median-10.csv...\n",
      "**** h:Mon Jun 15 18:36:59 2020 t:2.2794764161109926 ****\n",
      "Wall time: 22min 12s\n"
     ]
    }
   ],
   "source": [
    "%%time\n",
    "for f in variable_files:\n",
    "    groupVariableByMonth(f)\n"
   ]
  },
  {
   "cell_type": "code",
   "execution_count": 7,
   "metadata": {},
   "outputs": [],
   "source": [
    "#estacion = '13067020'\n",
    "#year = 2005\n",
    "#print(dfm.loc[(dfm.CodigoEstacion == estacion) & (dfm.Fecha.dt.year == year)].head(2))\n",
    "#print(df[(df.CodigoEstacion == estacion) & (df.Fecha.dt.year == year)].head(2))"
   ]
  },
  {
   "cell_type": "code",
   "execution_count": null,
   "metadata": {},
   "outputs": [],
   "source": []
  }
 ],
 "metadata": {
  "kernelspec": {
   "display_name": "Python 3",
   "language": "python",
   "name": "python3"
  },
  "language_info": {
   "codemirror_mode": {
    "name": "ipython",
    "version": 3
   },
   "file_extension": ".py",
   "mimetype": "text/x-python",
   "name": "python",
   "nbconvert_exporter": "python",
   "pygments_lexer": "ipython3",
   "version": "3.8.3"
  }
 },
 "nbformat": 4,
 "nbformat_minor": 4
}
