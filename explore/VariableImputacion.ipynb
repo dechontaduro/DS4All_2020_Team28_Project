{
 "cells": [
  {
   "cell_type": "markdown",
   "metadata": {},
   "source": [
    "# Rellenar días sin registro para la variable\n",
    "Se rellena el valor del día con la mediana de los valores que se tuvieron para el mismo día y mes en todo el rango y sólo si existen mínimo 10 años"
   ]
  },
  {
   "cell_type": "markdown",
   "metadata": {},
   "source": [
    "## Cargar librerias"
   ]
  },
  {
   "cell_type": "code",
   "execution_count": 1,
   "metadata": {},
   "outputs": [],
   "source": [
    "import os\n",
    "import glob\n",
    "import pandas as pd\n",
    "import numpy as np\n",
    "from datetime import datetime\n",
    "import time"
   ]
  },
  {
   "cell_type": "markdown",
   "metadata": {},
   "source": [
    "## Asignar parámetros para el script"
   ]
  },
  {
   "cell_type": "code",
   "execution_count": 10,
   "metadata": {},
   "outputs": [],
   "source": [
    "variable_path_base = r'../data/variables'\n",
    "variable_files_pattern = f'var-dia-TMN_CON-raw.csv'\n",
    "variable_file_output = r'var-dia-{etiqueta}-fill.csv'\n",
    "\n",
    "column_to_fill = 'Valor'\n",
    "column_filled = 'ValorFilled'\n",
    "\n",
    "aggregate_func = 'median'\n",
    "YEARS_MIN_TO_FILL = 10"
   ]
  },
  {
   "cell_type": "markdown",
   "metadata": {},
   "source": [
    "## Determinar archivos a procesar"
   ]
  },
  {
   "cell_type": "code",
   "execution_count": 11,
   "metadata": {},
   "outputs": [
    {
     "name": "stdout",
     "output_type": "stream",
     "text": [
      "Archivos a cargar\n",
      "..\\data\\variables\\var-dia-TMN_CON-raw.csv\n"
     ]
    }
   ],
   "source": [
    "variable_path_base = variable_path_base.split('/')\n",
    "variable_files = glob.glob(os.path.join(*variable_path_base, variable_files_pattern))\n",
    "print('Archivos a cargar', *variable_files, sep = '\\n')"
   ]
  },
  {
   "cell_type": "markdown",
   "metadata": {},
   "source": [
    "## Leer variable"
   ]
  },
  {
   "cell_type": "code",
   "execution_count": 8,
   "metadata": {},
   "outputs": [],
   "source": [
    "def read_variable(f):\n",
    "    dtypes = { 'CodigoEstacion':'category','Etiqueta':'category'}\n",
    "    dateparse = lambda x: datetime.strptime(x, '%Y-%m-%d %H:%M')\n",
    "    \n",
    "    df = pd.read_csv(f, dtype = dtypes, parse_dates = ['Fecha']) #, nrows = 10000\n",
    "    return df"
   ]
  },
  {
   "cell_type": "markdown",
   "metadata": {},
   "source": [
    "## Incluir los días faltantes dejándo Vacío el valor"
   ]
  },
  {
   "cell_type": "code",
   "execution_count": 5,
   "metadata": {},
   "outputs": [],
   "source": [
    "def fill_missing_days(df):\n",
    "    #https://stackoverflow.com/a/44978400/1828356\n",
    "    dates = pd.date_range(start = df.Fecha.min(), end = df.Fecha.max())\n",
    "    stations = df.CodigoEstacion.unique()\n",
    "    idx_names = ['CodigoEstacion', 'Fecha']\n",
    "    idx = pd.MultiIndex.from_product((stations, dates), names = idx_names)\n",
    "    df = df.set_index(idx_names).reindex(idx)\n",
    "    df.Etiqueta = etiqueta\n",
    "    return df"
   ]
  },
  {
   "cell_type": "markdown",
   "metadata": {},
   "source": [
    "## Rellenar el valor\n",
    "### Mejoras\n",
    "* Sólo procesar los días que tuvieron algún vacío\n",
    "* Sólo rellenar los días en el rango 2000 a 2019"
   ]
  },
  {
   "cell_type": "code",
   "execution_count": 6,
   "metadata": {},
   "outputs": [],
   "source": [
    "def fill_missing_values(df):\n",
    "    res = []\n",
    "    for name, group in df.groupby(['CodigoEstacion']):\n",
    "        std = group[column_to_fill].std()\n",
    "        median = group[column_to_fill].median()\n",
    "        \n",
    "        group.loc[:,'DevMedian'] = round(group[column_to_fill].apply(lambda x: (x - median) / std), 1)\n",
    "        \n",
    "        group.loc[:, column_filled] = (group.groupby([group.index.get_level_values('Fecha').strftime('%m-%d')])[column_to_fill]\n",
    "                                          #.transform(lambda x: x.fillna(np.NAN if x.count() >= YEARS_MIN_TO_FILL else x.agg(aggregate_func) ))\n",
    "                                           .apply(lambda x: x.fillna(np.NAN if x.count() < YEARS_MIN_TO_FILL else x.agg(aggregate_func)))\n",
    "                                      )\n",
    "        \n",
    "        res.append(group)\n",
    "\n",
    "    df = pd.concat(res)\n",
    "    return df"
   ]
  },
  {
   "cell_type": "markdown",
   "metadata": {},
   "source": [
    "## Procesar los archivos"
   ]
  },
  {
   "cell_type": "code",
   "execution_count": 12,
   "metadata": {},
   "outputs": [
    {
     "name": "stdout",
     "output_type": "stream",
     "text": [
      "Archivo: ..\\data\\variables\\var-dia-TMN_CON-raw.csv\n",
      "Leyendo h:Thu Jul  2 18:57:23 2020...\n",
      "**** r:(2705149, 4) h:Thu Jul  2 18:57:27 2020 t:0.070058806737264 ****\n",
      "Llenando días faltantes...\n",
      "**** r:(4319088, 2) h:Thu Jul  2 18:58:34 2020 t:1.1907422383626303 ****\n",
      "Llenando valores faltantes...\n",
      "**** r:(4319088, 4) h:Thu Jul  2 19:04:51 2020 t:7.469285571575165 ****\n",
      "Completos:  (2705149, 4)\n",
      "Rellenados:  (891418, 4)\n",
      "Sin poder rellenar (722521, 4)\n",
      "Almacenando en ..\\data\\variables\\var-dia-TMN_CON-fill.csv...\n",
      "**** h:Thu Jul  2 19:05:29 2020 t:8.104868892828623 ****\n",
      "Wall time: 8min 6s\n"
     ]
    }
   ],
   "source": [
    "%%time\n",
    "for f in variable_files:\n",
    "#f = variable_files[1]\n",
    "    \n",
    "    start_time = time.time()\n",
    "\n",
    "    print(f'Archivo: {f}')\n",
    "    print(f'Leyendo h:{time.asctime()}...')\n",
    "\n",
    "    df = read_variable(f)\n",
    "\n",
    "    etiqueta = df.iat[0,1]\n",
    "\n",
    "    print(f'**** r:{df.shape} h:{time.asctime()} t:{(time.time() - start_time) / 60} ****')\n",
    "    #df.head()\n",
    "\n",
    "    print(f'Llenando días faltantes...')\n",
    "    df = fill_missing_days(df)\n",
    "\n",
    "    #idx_names = ['CodigoEstacion', 'Fecha']\n",
    "    #df = df.set_index(idx_names)\n",
    "\n",
    "    print(f'**** r:{df.shape} h:{time.asctime()} t:{(time.time() - start_time) / 60} ****')\n",
    "\n",
    "    print(f'Llenando valores faltantes...')\n",
    "    df = fill_missing_values(df)\n",
    "    print(f'**** r:{df.shape} h:{time.asctime()} t:{(time.time() - start_time) / 60} ****')\n",
    "\n",
    "    print('Completos: ', df[(~df[column_to_fill].isna())].shape)\n",
    "    print('Rellenados: ', df[(df[column_to_fill].isna()) & (~df[column_filled].isna())].shape)\n",
    "    print('Sin poder rellenar', df[(df[column_to_fill].isna()) & (df[column_filled].isna())].shape)\n",
    "    \n",
    "    #df['DevMedian'] = df['DevMedian'].map(lambda x: '%.1f' % x)\n",
    "\n",
    "    p = os.path.join(*variable_path_base, \n",
    "                     variable_file_output.format(etiqueta = etiqueta, aggregate_func = aggregate_func, YEARS_MIN_TO_FILL = YEARS_MIN_TO_FILL))\n",
    "    print(f'Almacenando en {p}...')\n",
    "    df.to_csv(p)\n",
    "    print(f'**** h:{time.asctime()} t:{(time.time() - start_time) / 60} ****')"
   ]
  },
  {
   "cell_type": "raw",
   "metadata": {},
   "source": [
    "station = '14019030'\n",
    "day = '06-01'\n",
    "x = 4.5\n",
    "\n",
    "median = df.loc[(df.index.get_level_values('CodigoEstacion') == station), column_to_fill].median()\n",
    "std = df.loc[(df.index.get_level_values('CodigoEstacion') == station), column_to_fill].std()\n",
    "devstd = (x - median) / std\n",
    "\n",
    "print(median, std, devstd)\n",
    "\n",
    "print(df.loc[(df.index.get_level_values('CodigoEstacion') == station) & \n",
    "             (df.index.get_level_values('Fecha').strftime('%m-%d') == day)][column_to_fill].median())\n",
    "\n",
    "df.loc[(df.index.get_level_values('CodigoEstacion') == station) & (df.index.get_level_values('Fecha').strftime('%m-%d') == day)]#.mean()\n",
    "#df[(df.Valor.isna()) & (df.ValorFilled.isna())]"
   ]
  },
  {
   "cell_type": "code",
   "execution_count": null,
   "metadata": {},
   "outputs": [],
   "source": []
  }
 ],
 "metadata": {
  "kernelspec": {
   "display_name": "Python 3",
   "language": "python",
   "name": "python3"
  },
  "language_info": {
   "codemirror_mode": {
    "name": "ipython",
    "version": 3
   },
   "file_extension": ".py",
   "mimetype": "text/x-python",
   "name": "python",
   "nbconvert_exporter": "python",
   "pygments_lexer": "ipython3",
   "version": "3.8.3"
  }
 },
 "nbformat": 4,
 "nbformat_minor": 4
}
