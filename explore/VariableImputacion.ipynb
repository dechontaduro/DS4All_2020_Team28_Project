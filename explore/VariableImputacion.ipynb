{
 "cells": [
  {
   "cell_type": "markdown",
   "metadata": {},
   "source": [
    "# Rellenar días sin registro para la variable\n",
    "Se rellena el valor del día con la mediana de los valores que se tuvieron para el mismo día y mes en todo el rango y sólo si existen mínimo 10 años"
   ]
  },
  {
   "cell_type": "markdown",
   "metadata": {},
   "source": [
    "## Cargar librerias"
   ]
  },
  {
   "cell_type": "code",
   "execution_count": 1,
   "metadata": {},
   "outputs": [],
   "source": [
    "import os\n",
    "import glob\n",
    "import pandas as pd\n",
    "import numpy as np\n",
    "from datetime import datetime\n",
    "import time"
   ]
  },
  {
   "cell_type": "markdown",
   "metadata": {},
   "source": [
    "## Asignar parámetros para el script"
   ]
  },
  {
   "cell_type": "code",
   "execution_count": 2,
   "metadata": {},
   "outputs": [],
   "source": [
    "variable_path_base = r'../data/variables'\n",
    "variable_files_pattern = f'var-dia-*.zip'\n",
    "aggregate_func = 'median'\n",
    "YEARS_MIN_TO_FILL = 10"
   ]
  },
  {
   "cell_type": "markdown",
   "metadata": {},
   "source": [
    "## Determinar archivos a procesar"
   ]
  },
  {
   "cell_type": "code",
   "execution_count": 3,
   "metadata": {},
   "outputs": [
    {
     "name": "stdout",
     "output_type": "stream",
     "text": [
      "Archivos a cargar\n",
      "..\\data\\variables\\var-dia-PTPM_CON.zip\n",
      "..\\data\\variables\\var-dia-PT_10_TT_D.zip\n",
      "..\\data\\variables\\var-dia-Q_MEDIA_D.zip\n",
      "..\\data\\variables\\var-dia-Q_MN_D.zip\n",
      "..\\data\\variables\\var-dia-Q_MX_D.zip\n",
      "..\\data\\variables\\var-dia-TMN_CON.zip\n",
      "..\\data\\variables\\var-dia-TMX_CON.zip\n"
     ]
    }
   ],
   "source": [
    "variable_path_base = variable_path_base.split('/')\n",
    "variable_files = glob.glob(os.path.join(*variable_path_base, variable_files_pattern))\n",
    "print('Archivos a cargar', *variable_files, sep = '\\n')"
   ]
  },
  {
   "cell_type": "markdown",
   "metadata": {},
   "source": [
    "## Leer variable"
   ]
  },
  {
   "cell_type": "code",
   "execution_count": 4,
   "metadata": {},
   "outputs": [],
   "source": [
    "def read_variable(f):\n",
    "    dtypes = { 'CodigoEstacion':'category','Etiqueta':'category'}\n",
    "    dateparse = lambda x: datetime.strptime(x, '%Y-%m-%d %H:%M')\n",
    "    \n",
    "    df = pd.read_csv(f, dtype = dtypes, parse_dates = ['Fecha'], date_parser = dateparse)\n",
    "    return df"
   ]
  },
  {
   "cell_type": "markdown",
   "metadata": {},
   "source": [
    "## Incluir los días faltantes dejándo Vacío el valor"
   ]
  },
  {
   "cell_type": "code",
   "execution_count": 5,
   "metadata": {},
   "outputs": [],
   "source": [
    "def fill_missing_days(df):\n",
    "    #https://stackoverflow.com/a/44978400/1828356\n",
    "    dates = pd.date_range(start = df.Fecha.min(), end = df.Fecha.max())\n",
    "    stations = df.CodigoEstacion.unique()\n",
    "    idx_names = ['CodigoEstacion', 'Fecha']\n",
    "    idx = pd.MultiIndex.from_product((stations, dates), names = idx_names)\n",
    "    df = df.set_index(idx_names).reindex(idx)\n",
    "    df.Etiqueta = etiqueta\n",
    "    return df"
   ]
  },
  {
   "cell_type": "markdown",
   "metadata": {},
   "source": [
    "## Rellenar el valor\n",
    "### Mejoras\n",
    "* Sólo procesar los días que tuvieron algún vacío\n",
    "* Sólo rellenar los días en el rango 2000 a 2019"
   ]
  },
  {
   "cell_type": "code",
   "execution_count": 6,
   "metadata": {},
   "outputs": [],
   "source": [
    "def fill_missing_values(df):\n",
    "    res = []\n",
    "    for name, group in df.groupby(['CodigoEstacion']):\n",
    "        group.loc[:,'ValorFilled'] = group.groupby([group.index.get_level_values('Fecha').strftime('%m-%d')]).Valor.transform(lambda x: x.fillna(x.agg(aggregate_func) if x.count() >= YEARS_MIN_TO_FILL else np.NAN))\n",
    "        res.append(group)\n",
    "\n",
    "    df = pd.concat(res)\n",
    "    return df"
   ]
  },
  {
   "cell_type": "markdown",
   "metadata": {},
   "source": [
    "## Procesar los archvivos"
   ]
  },
  {
   "cell_type": "code",
   "execution_count": 7,
   "metadata": {},
   "outputs": [
    {
     "name": "stdout",
     "output_type": "stream",
     "text": [
      "Archivo: ..\\data\\variables\\var-dia-PTPM_CON.zip\n",
      "Leyendo...\n",
      "**** r:(13764209, 4) t:242.29812145233154 ****\n",
      "Llenando días faltantes...\n",
      "**** r:(18694560, 2) t:734.8491775989532 ****\n",
      "Llenando valores faltantes...\n"
     ]
    },
    {
     "name": "stderr",
     "output_type": "stream",
     "text": [
      "C:\\ProgramData\\Anaconda3\\envs\\DS4All_E1\\lib\\site-packages\\pandas\\core\\indexing.py:845: SettingWithCopyWarning: \n",
      "A value is trying to be set on a copy of a slice from a DataFrame.\n",
      "Try using .loc[row_indexer,col_indexer] = value instead\n",
      "\n",
      "See the caveats in the documentation: https://pandas.pydata.org/pandas-docs/stable/user_guide/indexing.html#returning-a-view-versus-a-copy\n",
      "  self.obj[key] = _infer_fill_value(value)\n",
      "C:\\ProgramData\\Anaconda3\\envs\\DS4All_E1\\lib\\site-packages\\pandas\\core\\indexing.py:966: SettingWithCopyWarning: \n",
      "A value is trying to be set on a copy of a slice from a DataFrame.\n",
      "Try using .loc[row_indexer,col_indexer] = value instead\n",
      "\n",
      "See the caveats in the documentation: https://pandas.pydata.org/pandas-docs/stable/user_guide/indexing.html#returning-a-view-versus-a-copy\n",
      "  self.obj[item] = s\n"
     ]
    },
    {
     "name": "stdout",
     "output_type": "stream",
     "text": [
      "**** r:(18694560, 3) t:1994.2303085327148 ****\n",
      "Completos:  (13754048, 3)\n",
      "Rellenados:  (2124611, 3)\n",
      "Sin poder rellenar (2815901, 3)\n",
      "Archivo: ..\\data\\variables\\var-dia-PT_10_TT_D.zip\n",
      "Leyendo...\n",
      "**** r:(128414, 4) t:3.099031686782837 ****\n",
      "Llenando días faltantes...\n",
      "**** r:(304020, 2) t:7.426452875137329 ****\n",
      "Llenando valores faltantes...\n",
      "**** r:(304020, 3) t:29.79794478416443 ****\n",
      "Completos:  (128414, 3)\n",
      "Rellenados:  (9313, 3)\n",
      "Sin poder rellenar (166293, 3)\n",
      "Archivo: ..\\data\\variables\\var-dia-Q_MEDIA_D.zip\n",
      "Leyendo...\n",
      "**** r:(5057682, 4) t:93.57513689994812 ****\n",
      "Llenando días faltantes...\n",
      "**** r:(7886096, 2) t:229.07852149009705 ****\n",
      "Llenando valores faltantes...\n",
      "**** r:(7886096, 3) t:621.0673246383667 ****\n",
      "Completos:  (5057682, 3)\n",
      "Rellenados:  (1521699, 3)\n",
      "Sin poder rellenar (1306715, 3)\n",
      "Archivo: ..\\data\\variables\\var-dia-Q_MN_D.zip\n",
      "Leyendo...\n",
      "**** r:(2532511, 4) t:69.42765069007874 ****\n",
      "Llenando días faltantes...\n",
      "**** r:(5060424, 2) t:144.53154158592224 ****\n",
      "Llenando valores faltantes...\n",
      "**** r:(5060424, 3) t:414.71387553215027 ****\n",
      "Completos:  (2532511, 3)\n",
      "Rellenados:  (462877, 3)\n",
      "Sin poder rellenar (2065036, 3)\n",
      "Archivo: ..\\data\\variables\\var-dia-Q_MX_D.zip\n",
      "Leyendo...\n",
      "**** r:(2531784, 4) t:52.037166595458984 ****\n",
      "Llenando días faltantes...\n",
      "**** r:(5060424, 2) t:125.5322265625 ****\n",
      "Llenando valores faltantes...\n",
      "**** r:(5060424, 3) t:350.4134769439697 ****\n",
      "Completos:  (2531784, 3)\n",
      "Rellenados:  (462877, 3)\n",
      "Sin poder rellenar (2065763, 3)\n",
      "Archivo: ..\\data\\variables\\var-dia-TMN_CON.zip\n",
      "Leyendo...\n",
      "**** r:(2705149, 4) t:74.21930289268494 ****\n",
      "Llenando días faltantes...\n",
      "**** r:(4319088, 2) t:160.57531929016113 ****\n",
      "Llenando valores faltantes...\n",
      "**** r:(4319088, 3) t:411.6189115047455 ****\n",
      "Completos:  (2705149, 3)\n",
      "Rellenados:  (891418, 3)\n",
      "Sin poder rellenar (722521, 3)\n",
      "Archivo: ..\\data\\variables\\var-dia-TMX_CON.zip\n",
      "Leyendo...\n",
      "**** r:(2525321, 4) t:63.18428039550781 ****\n",
      "Llenando días faltantes...\n",
      "**** r:(4319088, 2) t:133.5209288597107 ****\n",
      "Llenando valores faltantes...\n",
      "**** r:(4319088, 3) t:400.8628749847412 ****\n",
      "Completos:  (2525321, 3)\n",
      "Rellenados:  (1008733, 3)\n",
      "Sin poder rellenar (785034, 3)\n",
      "Wall time: 1h 15min 42s\n"
     ]
    }
   ],
   "source": [
    "%%time\n",
    "for f in variable_files:\n",
    "    start_time = time.time()\n",
    "    \n",
    "    print(f'Archivo: {f}')\n",
    "    print(f'Leyendo h:{time.time()}...')\n",
    "    \n",
    "    df = read_variable(f)\n",
    "    \n",
    "    etiqueta = df.iat[0,1]\n",
    "    \n",
    "    print(f'**** r:{df.shape} h:{time.time()} t:{(time.time() - start_time) / 60} ****')\n",
    "    #df.head()\n",
    "    \n",
    "    print(f'Llenando días faltantes...')\n",
    "    df = fill_missing_days(df)\n",
    "    print(f'**** r:{df.shape} h:{time.time()} t:{(time.time() - start_time) / 60} ****')\n",
    "    \n",
    "    print(f'Llenando valores faltantes...')\n",
    "    df = fill_missing_values(df)\n",
    "    print(f'**** r:{df.shape} h:{time.time()} t:{(time.time() - start_time) / 60} ****')\n",
    "    \n",
    "    print('Completos: ', df[(~df.Valor.isna())].shape)\n",
    "    print('Rellenados: ', df[(df.Valor.isna()) & (~df.ValorFilled.isna())].shape)\n",
    "    print('Sin poder rellenar', df[(df.Valor.isna()) & (df.ValorFilled.isna())].shape)\n",
    "    \n",
    "    print(f'Almacenando...')\n",
    "    p = os.path.join(*variable_path_base, f'var-dia-{etiqueta}-fill-{aggregate_func}-{YEARS_MIN_TO_FILL}.csv')\n",
    "    df.to_csv(p)\n",
    "    print(f'**** h:{time.time()} t:{(time.time() - start_time) / 60} ****')"
   ]
  },
  {
   "cell_type": "raw",
   "metadata": {},
   "source": [
    "station = '21160260'\n",
    "day = '05-27'\n",
    "df.loc[(df.index.get_level_values('CodigoEstacion') == station) & (df.index.get_level_values('Fecha').strftime('%m-%d') == day)]#.mean()\n",
    "#df[(df.Valor.isna()) & (df.ValorFilled.isna())]"
   ]
  }
 ],
 "metadata": {
  "kernelspec": {
   "display_name": "Python 3",
   "language": "python",
   "name": "python3"
  },
  "language_info": {
   "codemirror_mode": {
    "name": "ipython",
    "version": 3
   },
   "file_extension": ".py",
   "mimetype": "text/x-python",
   "name": "python",
   "nbconvert_exporter": "python",
   "pygments_lexer": "ipython3",
   "version": "3.8.3"
  }
 },
 "nbformat": 4,
 "nbformat_minor": 4
}
