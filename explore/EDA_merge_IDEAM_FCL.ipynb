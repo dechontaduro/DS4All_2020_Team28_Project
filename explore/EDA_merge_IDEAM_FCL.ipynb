{
 "cells": [
  {
   "cell_type": "code",
   "execution_count": 3,
   "metadata": {},
   "outputs": [],
   "source": [
    "import sys  \n",
    "import pandas as pd\n",
    "from datetime import datetime"
   ]
  },
  {
   "cell_type": "code",
   "execution_count": 17,
   "metadata": {},
   "outputs": [],
   "source": [
    "matrix_ideam_path = r'../data/variables/data-ideam-month-fill.zip'\n",
    "matrix_fcl_path = r'../data/variables/FCL316Basins_month_fill.zip'\n",
    "matrix_output = r'../data/variables/data-month-fill.csv'"
   ]
  },
  {
   "cell_type": "code",
   "execution_count": 5,
   "metadata": {},
   "outputs": [],
   "source": [
    "dateparse = lambda x: datetime.strptime(x, '%Y-%m-%d')"
   ]
  },
  {
   "cell_type": "code",
   "execution_count": 6,
   "metadata": {},
   "outputs": [],
   "source": [
    "df_ideam = pd.read_csv(matrix_ideam_path, parse_dates = ['fecha'], date_parser = dateparse)"
   ]
  },
  {
   "cell_type": "code",
   "execution_count": 7,
   "metadata": {},
   "outputs": [],
   "source": [
    "df_fcl = pd.read_csv(matrix_fcl_path)"
   ]
  },
  {
   "cell_type": "code",
   "execution_count": 8,
   "metadata": {},
   "outputs": [
    {
     "name": "stdout",
     "output_type": "stream",
     "text": [
      "(57600, 13)\n",
      "(75840, 18)\n"
     ]
    }
   ],
   "source": [
    "print(df_ideam.shape)\n",
    "print(df_fcl.shape)"
   ]
  },
  {
   "cell_type": "code",
   "execution_count": 9,
   "metadata": {},
   "outputs": [],
   "source": [
    "df = df_ideam.merge(df_fcl, left_on=['cuenca','anio','mes'], right_on=['basin_id','year','month'], how = 'inner' )"
   ]
  },
  {
   "cell_type": "code",
   "execution_count": 10,
   "metadata": {},
   "outputs": [
    {
     "name": "stdout",
     "output_type": "stream",
     "text": [
      "(57600, 31)\n"
     ]
    }
   ],
   "source": [
    "print(df.shape)"
   ]
  },
  {
   "cell_type": "code",
   "execution_count": 11,
   "metadata": {},
   "outputs": [
    {
     "data": {
      "text/plain": [
       "75840"
      ]
     },
     "execution_count": 11,
     "metadata": {},
     "output_type": "execute_result"
    }
   ],
   "source": [
    "316*12*20"
   ]
  },
  {
   "cell_type": "code",
   "execution_count": 12,
   "metadata": {},
   "outputs": [],
   "source": [
    "df.drop(columns = [#'fecha', 'cuenca', \n",
    "            #'PTPM_CON_max', 'PTPM_CON_median', 'PTPM_CON_min','Q_MEDIA_D_median', 'Q_MN_D_min', 'Q_MX_D_max', 'TMN_CON_min', 'TMX_CON_max', \n",
    "           #'elevacion', 'anio', 'mes', \n",
    "            'basin_id', 'cod_ah', 'nom_ah', 'cod_szh', 'nom_szh', 'cod_zh', 'nom_zh', 'ruleid',\n",
    "            'shape_area', \n",
    "            #'shape_leng','basin_area', \n",
    "            'year', 'month', 'type'\n",
    "           #'loss_cover_histo', 'loss_cover_fcl', 'loss_cover_fcl_perc','loss_cover_perc_acum'\n",
    "        ], inplace = True)"
   ]
  },
  {
   "cell_type": "code",
   "execution_count": 13,
   "metadata": {},
   "outputs": [],
   "source": [
    "df.rename(columns = {'shape_leng': 'basin_perimeter'}, inplace = True)"
   ]
  },
  {
   "cell_type": "code",
   "execution_count": 72,
   "metadata": {},
   "outputs": [],
   "source": [
    "df[df.cuenca == 4].describe()"
   ]
  },
  {
   "cell_type": "code",
   "execution_count": 73,
   "metadata": {},
   "outputs": [
    {
     "data": {
      "text/html": [
       "<div>\n",
       "<style scoped>\n",
       "    .dataframe tbody tr th:only-of-type {\n",
       "        vertical-align: middle;\n",
       "    }\n",
       "\n",
       "    .dataframe tbody tr th {\n",
       "        vertical-align: top;\n",
       "    }\n",
       "\n",
       "    .dataframe thead th {\n",
       "        text-align: right;\n",
       "    }\n",
       "</style>\n",
       "<table border=\"1\" class=\"dataframe\">\n",
       "  <thead>\n",
       "    <tr style=\"text-align: right;\">\n",
       "      <th></th>\n",
       "      <th>fecha</th>\n",
       "      <th>cuenca</th>\n",
       "      <th>PTPM_CON_max</th>\n",
       "      <th>PTPM_CON_median</th>\n",
       "      <th>PTPM_CON_min</th>\n",
       "      <th>Q_MEDIA_D_median</th>\n",
       "      <th>Q_MN_D_min</th>\n",
       "      <th>Q_MX_D_max</th>\n",
       "      <th>TMN_CON_min</th>\n",
       "      <th>TMX_CON_max</th>\n",
       "      <th>elevacion</th>\n",
       "      <th>anio</th>\n",
       "      <th>mes</th>\n",
       "      <th>basin_perimeter</th>\n",
       "      <th>basin_area</th>\n",
       "      <th>loss_cover_histo</th>\n",
       "      <th>loss_cover_fcl</th>\n",
       "      <th>loss_cover_fcl_perc</th>\n",
       "      <th>loss_cover_perc_acum</th>\n",
       "    </tr>\n",
       "  </thead>\n",
       "  <tbody>\n",
       "    <tr>\n",
       "      <th>42360</th>\n",
       "      <td>2010-01-01</td>\n",
       "      <td>4</td>\n",
       "      <td>16.0</td>\n",
       "      <td>0.0</td>\n",
       "      <td>0.0</td>\n",
       "      <td>0.641</td>\n",
       "      <td>0.616</td>\n",
       "      <td>0.699</td>\n",
       "      <td>10.3</td>\n",
       "      <td>28.3</td>\n",
       "      <td>2467.0</td>\n",
       "      <td>2010</td>\n",
       "      <td>1</td>\n",
       "      <td>1.709663</td>\n",
       "      <td>93254.343</td>\n",
       "      <td>6554.583333</td>\n",
       "      <td>499.971667</td>\n",
       "      <td>0.535833</td>\n",
       "      <td>3.668167</td>\n",
       "    </tr>\n",
       "  </tbody>\n",
       "</table>\n",
       "</div>"
      ],
      "text/plain": [
       "           fecha  cuenca  PTPM_CON_max  PTPM_CON_median  PTPM_CON_min  \\\n",
       "42360 2010-01-01       4          16.0              0.0           0.0   \n",
       "\n",
       "       Q_MEDIA_D_median  Q_MN_D_min  Q_MX_D_max  TMN_CON_min  TMX_CON_max  \\\n",
       "42360             0.641       0.616       0.699         10.3         28.3   \n",
       "\n",
       "       elevacion  anio  mes  basin_perimeter  basin_area  loss_cover_histo  \\\n",
       "42360     2467.0  2010    1         1.709663   93254.343       6554.583333   \n",
       "\n",
       "       loss_cover_fcl  loss_cover_fcl_perc  loss_cover_perc_acum  \n",
       "42360      499.971667             0.535833              3.668167  "
      ]
     },
     "execution_count": 73,
     "metadata": {},
     "output_type": "execute_result"
    }
   ],
   "source": []
  },
  {
   "cell_type": "code",
   "execution_count": 89,
   "metadata": {},
   "outputs": [],
   "source": [
    "df.to_csv(matrix_output, index = False)"
   ]
  },
  {
   "cell_type": "code",
   "execution_count": 91,
   "metadata": {},
   "outputs": [],
   "source": [
    "#'elevacion', 'basin_perimeter','basin_area','loss_cover_histo','loss_cover_fcl','loss_cover_fcl_perc','loss_cover_perc_acum'\n",
    "dfcol = df.groupby(['fecha','anio', 'mes']).median()\n",
    "dfcol.drop(columns=['cuenca', 'elevacion', 'basin_perimeter', 'basin_area'], inplace = True)"
   ]
  },
  {
   "cell_type": "code",
   "execution_count": 93,
   "metadata": {},
   "outputs": [],
   "source": [
    "dfcol.to_csv(r'../data/variables/data-colombia-month-fill.csv', index = True)"
   ]
  },
  {
   "cell_type": "code",
   "execution_count": 43,
   "metadata": {},
   "outputs": [],
   "source": [
    "df_estcuencas = pd.read_csv(r'../data/stations/EST316C.csv', sep=';', dtype = {'CUENCA': 'string'})"
   ]
  },
  {
   "cell_type": "code",
   "execution_count": 44,
   "metadata": {},
   "outputs": [
    {
     "data": {
      "text/plain": [
       "COD        int64\n",
       "CAT       object\n",
       "ELEV       int64\n",
       "CUENCA    string\n",
       "X         object\n",
       "Y         object\n",
       "dtype: object"
      ]
     },
     "execution_count": 44,
     "metadata": {},
     "output_type": "execute_result"
    }
   ],
   "source": [
    "df_estcuencas.dtypes"
   ]
  },
  {
   "cell_type": "code",
   "execution_count": 61,
   "metadata": {},
   "outputs": [],
   "source": [
    "df_QMN = pd.read_csv(r'../data/variables/var-mes-Q_MN_D-fill.zip', parse_dates = ['Fecha'], date_parser = lambda x: datetime.strptime(x, '%Y-%m'))"
   ]
  },
  {
   "cell_type": "code",
   "execution_count": 47,
   "metadata": {},
   "outputs": [
    {
     "data": {
      "text/plain": [
       "(98936, 7)"
      ]
     },
     "execution_count": 47,
     "metadata": {},
     "output_type": "execute_result"
    }
   ],
   "source": [
    "df_QMN.shape"
   ]
  },
  {
   "cell_type": "code",
   "execution_count": 62,
   "metadata": {},
   "outputs": [],
   "source": [
    "df_QMN = df_QMN.merge(df_estcuencas, left_on='CodigoEstacion', right_on='COD', how = 'inner' )"
   ]
  },
  {
   "cell_type": "code",
   "execution_count": 63,
   "metadata": {},
   "outputs": [
    {
     "data": {
      "text/plain": [
       "(98150, 13)"
      ]
     },
     "execution_count": 63,
     "metadata": {},
     "output_type": "execute_result"
    }
   ],
   "source": [
    "df_QMN.shape"
   ]
  },
  {
   "cell_type": "code",
   "execution_count": 82,
   "metadata": {},
   "outputs": [
    {
     "data": {
      "text/html": [
       "<div>\n",
       "<style scoped>\n",
       "    .dataframe tbody tr th:only-of-type {\n",
       "        vertical-align: middle;\n",
       "    }\n",
       "\n",
       "    .dataframe tbody tr th {\n",
       "        vertical-align: top;\n",
       "    }\n",
       "\n",
       "    .dataframe thead th {\n",
       "        text-align: right;\n",
       "    }\n",
       "</style>\n",
       "<table border=\"1\" class=\"dataframe\">\n",
       "  <thead>\n",
       "    <tr style=\"text-align: right;\">\n",
       "      <th></th>\n",
       "      <th>fecha</th>\n",
       "      <th>cuenca</th>\n",
       "      <th>PTPM_CON_max</th>\n",
       "      <th>PTPM_CON_median</th>\n",
       "      <th>PTPM_CON_min</th>\n",
       "      <th>Q_MEDIA_D_median</th>\n",
       "      <th>Q_MN_D_min</th>\n",
       "      <th>Q_MX_D_max</th>\n",
       "      <th>TMN_CON_min</th>\n",
       "      <th>TMX_CON_max</th>\n",
       "      <th>elevacion</th>\n",
       "      <th>anio</th>\n",
       "      <th>mes</th>\n",
       "      <th>basin_perimeter</th>\n",
       "      <th>basin_area</th>\n",
       "      <th>loss_cover_histo</th>\n",
       "      <th>loss_cover_fcl</th>\n",
       "      <th>loss_cover_fcl_perc</th>\n",
       "      <th>loss_cover_perc_acum</th>\n",
       "    </tr>\n",
       "  </thead>\n",
       "  <tbody>\n",
       "    <tr>\n",
       "      <th>42360</th>\n",
       "      <td>2010-01-01</td>\n",
       "      <td>4</td>\n",
       "      <td>16.0</td>\n",
       "      <td>0.0</td>\n",
       "      <td>0.0</td>\n",
       "      <td>0.641</td>\n",
       "      <td>0.616</td>\n",
       "      <td>0.699</td>\n",
       "      <td>10.3</td>\n",
       "      <td>28.3</td>\n",
       "      <td>2467.0</td>\n",
       "      <td>2010</td>\n",
       "      <td>1</td>\n",
       "      <td>1.709663</td>\n",
       "      <td>93254.343</td>\n",
       "      <td>6554.583333</td>\n",
       "      <td>499.971667</td>\n",
       "      <td>0.535833</td>\n",
       "      <td>3.668167</td>\n",
       "    </tr>\n",
       "  </tbody>\n",
       "</table>\n",
       "</div>"
      ],
      "text/plain": [
       "           fecha  cuenca  PTPM_CON_max  PTPM_CON_median  PTPM_CON_min  \\\n",
       "42360 2010-01-01       4          16.0              0.0           0.0   \n",
       "\n",
       "       Q_MEDIA_D_median  Q_MN_D_min  Q_MX_D_max  TMN_CON_min  TMX_CON_max  \\\n",
       "42360             0.641       0.616       0.699         10.3         28.3   \n",
       "\n",
       "       elevacion  anio  mes  basin_perimeter  basin_area  loss_cover_histo  \\\n",
       "42360     2467.0  2010    1         1.709663   93254.343       6554.583333   \n",
       "\n",
       "       loss_cover_fcl  loss_cover_fcl_perc  loss_cover_perc_acum  \n",
       "42360      499.971667             0.535833              3.668167  "
      ]
     },
     "metadata": {},
     "output_type": "display_data"
    },
    {
     "data": {
      "text/html": [
       "<div>\n",
       "<style scoped>\n",
       "    .dataframe tbody tr th:only-of-type {\n",
       "        vertical-align: middle;\n",
       "    }\n",
       "\n",
       "    .dataframe tbody tr th {\n",
       "        vertical-align: top;\n",
       "    }\n",
       "\n",
       "    .dataframe thead th {\n",
       "        text-align: right;\n",
       "    }\n",
       "</style>\n",
       "<table border=\"1\" class=\"dataframe\">\n",
       "  <thead>\n",
       "    <tr style=\"text-align: right;\">\n",
       "      <th></th>\n",
       "      <th>CodigoEstacion</th>\n",
       "      <th>Etiqueta</th>\n",
       "      <th>Fecha</th>\n",
       "      <th>min</th>\n",
       "      <th>mean</th>\n",
       "      <th>median</th>\n",
       "      <th>max</th>\n",
       "      <th>COD</th>\n",
       "      <th>CAT</th>\n",
       "      <th>ELEV</th>\n",
       "      <th>CUENCA</th>\n",
       "      <th>X</th>\n",
       "      <th>Y</th>\n",
       "    </tr>\n",
       "  </thead>\n",
       "  <tbody>\n",
       "    <tr>\n",
       "      <th>49877</th>\n",
       "      <td>26027080</td>\n",
       "      <td>Q_MN_D</td>\n",
       "      <td>2010-01-01</td>\n",
       "      <td>0.434</td>\n",
       "      <td>0.474210</td>\n",
       "      <td>0.467</td>\n",
       "      <td>0.525</td>\n",
       "      <td>26027080</td>\n",
       "      <td>LM</td>\n",
       "      <td>2551</td>\n",
       "      <td>4</td>\n",
       "      <td>-76,40377778</td>\n",
       "      <td>2,51247222</td>\n",
       "    </tr>\n",
       "    <tr>\n",
       "      <th>50936</th>\n",
       "      <td>26027200</td>\n",
       "      <td>Q_MN_D</td>\n",
       "      <td>2010-01-01</td>\n",
       "      <td>2.230</td>\n",
       "      <td>2.446774</td>\n",
       "      <td>2.440</td>\n",
       "      <td>2.720</td>\n",
       "      <td>26027200</td>\n",
       "      <td>LM</td>\n",
       "      <td>1744</td>\n",
       "      <td>4</td>\n",
       "      <td>-76,55844444</td>\n",
       "      <td>2,53675</td>\n",
       "    </tr>\n",
       "    <tr>\n",
       "      <th>51642</th>\n",
       "      <td>26027240</td>\n",
       "      <td>Q_MN_D</td>\n",
       "      <td>2010-01-01</td>\n",
       "      <td>0.798</td>\n",
       "      <td>0.798000</td>\n",
       "      <td>0.798</td>\n",
       "      <td>0.798</td>\n",
       "      <td>26027240</td>\n",
       "      <td>LG</td>\n",
       "      <td>2976</td>\n",
       "      <td>4</td>\n",
       "      <td>-76,33677778</td>\n",
       "      <td>2,47075</td>\n",
       "    </tr>\n",
       "  </tbody>\n",
       "</table>\n",
       "</div>"
      ],
      "text/plain": [
       "       CodigoEstacion Etiqueta      Fecha    min      mean  median    max  \\\n",
       "49877        26027080   Q_MN_D 2010-01-01  0.434  0.474210   0.467  0.525   \n",
       "50936        26027200   Q_MN_D 2010-01-01  2.230  2.446774   2.440  2.720   \n",
       "51642        26027240   Q_MN_D 2010-01-01  0.798  0.798000   0.798  0.798   \n",
       "\n",
       "            COD CAT  ELEV CUENCA             X           Y  \n",
       "49877  26027080  LM  2551      4  -76,40377778  2,51247222  \n",
       "50936  26027200  LM  1744      4  -76,55844444     2,53675  \n",
       "51642  26027240  LG  2976      4  -76,33677778     2,47075  "
      ]
     },
     "metadata": {},
     "output_type": "display_data"
    },
    {
     "name": "stdout",
     "output_type": "stream",
     "text": [
      "0.7979999999999999\n"
     ]
    }
   ],
   "source": [
    "#df_QMN.loc[df_QMN.CUENCA == '4'].groupby('CodigoEstacion').median.agg(['min', 'max', 'sum'])\n",
    "\n",
    "cuenca = 4\n",
    "anio = 2010\n",
    "mes = 1\n",
    "display(df[(df.cuenca == cuenca) & (df.anio == anio) & (df.mes == mes)])\n",
    "\n",
    "display(df_QMN.loc[(df_QMN.CUENCA == str(cuenca)) & (df_QMN.Fecha.dt.year == anio) & (df_QMN.Fecha.dt.month == mes)])\n",
    "print(df_QMN.loc[(df_QMN.CUENCA == str(cuenca)) & (df_QMN.Fecha.dt.year == anio) & (df_QMN.Fecha.dt.month == mes), 'min'].median())"
   ]
  },
  {
   "cell_type": "code",
   "execution_count": 83,
   "metadata": {},
   "outputs": [],
   "source": [
    "cuencas = [103,140,146,15,154,154,155,166,167,17,179,197,24,243,245,246,252,260,262,27,28,295,299,30,303,36,4,42,44,46,51,65,69,72,75,86,87,89,93,93]"
   ]
  },
  {
   "cell_type": "code",
   "execution_count": 87,
   "metadata": {},
   "outputs": [],
   "source": [
    "df = df[df.cuenca.isin(cuencas)]"
   ]
  },
  {
   "cell_type": "code",
   "execution_count": 88,
   "metadata": {},
   "outputs": [
    {
     "data": {
      "text/html": [
       "<div>\n",
       "<style scoped>\n",
       "    .dataframe tbody tr th:only-of-type {\n",
       "        vertical-align: middle;\n",
       "    }\n",
       "\n",
       "    .dataframe tbody tr th {\n",
       "        vertical-align: top;\n",
       "    }\n",
       "\n",
       "    .dataframe thead th {\n",
       "        text-align: right;\n",
       "    }\n",
       "</style>\n",
       "<table border=\"1\" class=\"dataframe\">\n",
       "  <thead>\n",
       "    <tr style=\"text-align: right;\">\n",
       "      <th></th>\n",
       "      <th>fecha</th>\n",
       "      <th>cuenca</th>\n",
       "      <th>PTPM_CON_max</th>\n",
       "      <th>PTPM_CON_median</th>\n",
       "      <th>PTPM_CON_min</th>\n",
       "      <th>Q_MEDIA_D_median</th>\n",
       "      <th>Q_MN_D_min</th>\n",
       "      <th>Q_MX_D_max</th>\n",
       "      <th>TMN_CON_min</th>\n",
       "      <th>TMX_CON_max</th>\n",
       "      <th>elevacion</th>\n",
       "      <th>anio</th>\n",
       "      <th>mes</th>\n",
       "      <th>basin_perimeter</th>\n",
       "      <th>basin_area</th>\n",
       "      <th>loss_cover_histo</th>\n",
       "      <th>loss_cover_fcl</th>\n",
       "      <th>loss_cover_fcl_perc</th>\n",
       "      <th>loss_cover_perc_acum</th>\n",
       "    </tr>\n",
       "  </thead>\n",
       "  <tbody>\n",
       "    <tr>\n",
       "      <th>1200</th>\n",
       "      <td>2000-01-01</td>\n",
       "      <td>103</td>\n",
       "      <td>40.0</td>\n",
       "      <td>2.0</td>\n",
       "      <td>0.0</td>\n",
       "      <td>14.48</td>\n",
       "      <td>8.76</td>\n",
       "      <td>35.48</td>\n",
       "      <td>NaN</td>\n",
       "      <td>NaN</td>\n",
       "      <td>1834.0</td>\n",
       "      <td>2000</td>\n",
       "      <td>1</td>\n",
       "      <td>1.876566</td>\n",
       "      <td>60038.081</td>\n",
       "      <td>NaN</td>\n",
       "      <td>NaN</td>\n",
       "      <td>NaN</td>\n",
       "      <td>NaN</td>\n",
       "    </tr>\n",
       "    <tr>\n",
       "      <th>1201</th>\n",
       "      <td>2000-02-01</td>\n",
       "      <td>103</td>\n",
       "      <td>50.0</td>\n",
       "      <td>4.0</td>\n",
       "      <td>0.0</td>\n",
       "      <td>10.94</td>\n",
       "      <td>7.08</td>\n",
       "      <td>40.52</td>\n",
       "      <td>NaN</td>\n",
       "      <td>NaN</td>\n",
       "      <td>1834.0</td>\n",
       "      <td>2000</td>\n",
       "      <td>2</td>\n",
       "      <td>1.876566</td>\n",
       "      <td>60038.081</td>\n",
       "      <td>NaN</td>\n",
       "      <td>NaN</td>\n",
       "      <td>NaN</td>\n",
       "      <td>NaN</td>\n",
       "    </tr>\n",
       "    <tr>\n",
       "      <th>1202</th>\n",
       "      <td>2000-03-01</td>\n",
       "      <td>103</td>\n",
       "      <td>38.0</td>\n",
       "      <td>3.0</td>\n",
       "      <td>0.0</td>\n",
       "      <td>10.68</td>\n",
       "      <td>6.60</td>\n",
       "      <td>20.54</td>\n",
       "      <td>NaN</td>\n",
       "      <td>NaN</td>\n",
       "      <td>1834.0</td>\n",
       "      <td>2000</td>\n",
       "      <td>3</td>\n",
       "      <td>1.876566</td>\n",
       "      <td>60038.081</td>\n",
       "      <td>NaN</td>\n",
       "      <td>NaN</td>\n",
       "      <td>NaN</td>\n",
       "      <td>NaN</td>\n",
       "    </tr>\n",
       "    <tr>\n",
       "      <th>1203</th>\n",
       "      <td>2000-04-01</td>\n",
       "      <td>103</td>\n",
       "      <td>25.0</td>\n",
       "      <td>2.0</td>\n",
       "      <td>0.0</td>\n",
       "      <td>9.00</td>\n",
       "      <td>6.60</td>\n",
       "      <td>16.56</td>\n",
       "      <td>NaN</td>\n",
       "      <td>NaN</td>\n",
       "      <td>1834.0</td>\n",
       "      <td>2000</td>\n",
       "      <td>4</td>\n",
       "      <td>1.876566</td>\n",
       "      <td>60038.081</td>\n",
       "      <td>NaN</td>\n",
       "      <td>NaN</td>\n",
       "      <td>NaN</td>\n",
       "      <td>NaN</td>\n",
       "    </tr>\n",
       "    <tr>\n",
       "      <th>1204</th>\n",
       "      <td>2000-05-01</td>\n",
       "      <td>103</td>\n",
       "      <td>23.0</td>\n",
       "      <td>2.0</td>\n",
       "      <td>0.0</td>\n",
       "      <td>10.30</td>\n",
       "      <td>6.60</td>\n",
       "      <td>25.16</td>\n",
       "      <td>NaN</td>\n",
       "      <td>NaN</td>\n",
       "      <td>1834.0</td>\n",
       "      <td>2000</td>\n",
       "      <td>5</td>\n",
       "      <td>1.876566</td>\n",
       "      <td>60038.081</td>\n",
       "      <td>NaN</td>\n",
       "      <td>NaN</td>\n",
       "      <td>NaN</td>\n",
       "      <td>NaN</td>\n",
       "    </tr>\n",
       "  </tbody>\n",
       "</table>\n",
       "</div>"
      ],
      "text/plain": [
       "          fecha  cuenca  PTPM_CON_max  PTPM_CON_median  PTPM_CON_min  \\\n",
       "1200 2000-01-01     103          40.0              2.0           0.0   \n",
       "1201 2000-02-01     103          50.0              4.0           0.0   \n",
       "1202 2000-03-01     103          38.0              3.0           0.0   \n",
       "1203 2000-04-01     103          25.0              2.0           0.0   \n",
       "1204 2000-05-01     103          23.0              2.0           0.0   \n",
       "\n",
       "      Q_MEDIA_D_median  Q_MN_D_min  Q_MX_D_max  TMN_CON_min  TMX_CON_max  \\\n",
       "1200             14.48        8.76       35.48          NaN          NaN   \n",
       "1201             10.94        7.08       40.52          NaN          NaN   \n",
       "1202             10.68        6.60       20.54          NaN          NaN   \n",
       "1203              9.00        6.60       16.56          NaN          NaN   \n",
       "1204             10.30        6.60       25.16          NaN          NaN   \n",
       "\n",
       "      elevacion  anio  mes  basin_perimeter  basin_area  loss_cover_histo  \\\n",
       "1200     1834.0  2000    1         1.876566   60038.081               NaN   \n",
       "1201     1834.0  2000    2         1.876566   60038.081               NaN   \n",
       "1202     1834.0  2000    3         1.876566   60038.081               NaN   \n",
       "1203     1834.0  2000    4         1.876566   60038.081               NaN   \n",
       "1204     1834.0  2000    5         1.876566   60038.081               NaN   \n",
       "\n",
       "      loss_cover_fcl  loss_cover_fcl_perc  loss_cover_perc_acum  \n",
       "1200             NaN                  NaN                   NaN  \n",
       "1201             NaN                  NaN                   NaN  \n",
       "1202             NaN                  NaN                   NaN  \n",
       "1203             NaN                  NaN                   NaN  \n",
       "1204             NaN                  NaN                   NaN  "
      ]
     },
     "execution_count": 88,
     "metadata": {},
     "output_type": "execute_result"
    }
   ],
   "source": [
    "df.head()"
   ]
  },
  {
   "cell_type": "code",
   "execution_count": null,
   "metadata": {},
   "outputs": [],
   "source": []
  }
 ],
 "metadata": {
  "kernelspec": {
   "display_name": "Python 3",
   "language": "python",
   "name": "python3"
  },
  "language_info": {
   "codemirror_mode": {
    "name": "ipython",
    "version": 3
   },
   "file_extension": ".py",
   "mimetype": "text/x-python",
   "name": "python",
   "nbconvert_exporter": "python",
   "pygments_lexer": "ipython3",
   "version": "3.8.3"
  }
 },
 "nbformat": 4,
 "nbformat_minor": 4
}
