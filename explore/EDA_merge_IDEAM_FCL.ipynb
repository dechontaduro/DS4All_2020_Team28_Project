{
 "cells": [
  {
   "cell_type": "code",
   "execution_count": 3,
   "metadata": {},
   "outputs": [],
   "source": [
    "import sys  \n",
    "import pandas as pd\n",
    "from datetime import datetime"
   ]
  },
  {
   "cell_type": "code",
   "execution_count": 17,
   "metadata": {},
   "outputs": [],
   "source": [
    "matrix_ideam_path = r'../data/variables/data-ideam-month-fill.zip'\n",
    "matrix_fcl_path = r'../data/variables/FCL316Basins_month_fill.zip'\n",
    "matrix_output = r'../data/variables/data-month-fill.csv'"
   ]
  },
  {
   "cell_type": "code",
   "execution_count": 5,
   "metadata": {},
   "outputs": [],
   "source": [
    "dateparse = lambda x: datetime.strptime(x, '%Y-%m-%d')"
   ]
  },
  {
   "cell_type": "code",
   "execution_count": 6,
   "metadata": {},
   "outputs": [],
   "source": [
    "df_ideam = pd.read_csv(matrix_ideam_path, parse_dates = ['fecha'], date_parser = dateparse)"
   ]
  },
  {
   "cell_type": "code",
   "execution_count": 7,
   "metadata": {},
   "outputs": [],
   "source": [
    "df_fcl = pd.read_csv(matrix_fcl_path)"
   ]
  },
  {
   "cell_type": "code",
   "execution_count": 8,
   "metadata": {},
   "outputs": [
    {
     "name": "stdout",
     "output_type": "stream",
     "text": [
      "(57600, 13)\n",
      "(75840, 18)\n"
     ]
    }
   ],
   "source": [
    "print(df_ideam.shape)\n",
    "print(df_fcl.shape)"
   ]
  },
  {
   "cell_type": "code",
   "execution_count": 9,
   "metadata": {},
   "outputs": [],
   "source": [
    "df = df_ideam.merge(df_fcl, left_on=['cuenca','anio','mes'], right_on=['basin_id','year','month'], how = 'inner' )"
   ]
  },
  {
   "cell_type": "code",
   "execution_count": 10,
   "metadata": {},
   "outputs": [
    {
     "name": "stdout",
     "output_type": "stream",
     "text": [
      "(57600, 31)\n"
     ]
    }
   ],
   "source": [
    "print(df.shape)"
   ]
  },
  {
   "cell_type": "code",
   "execution_count": 11,
   "metadata": {},
   "outputs": [
    {
     "data": {
      "text/plain": [
       "75840"
      ]
     },
     "execution_count": 11,
     "metadata": {},
     "output_type": "execute_result"
    }
   ],
   "source": [
    "316*12*20"
   ]
  },
  {
   "cell_type": "code",
   "execution_count": 12,
   "metadata": {},
   "outputs": [],
   "source": [
    "df.drop(columns = [#'fecha', 'cuenca', \n",
    "            #'PTPM_CON_max', 'PTPM_CON_median', 'PTPM_CON_min','Q_MEDIA_D_median', 'Q_MN_D_min', 'Q_MX_D_max', 'TMN_CON_min', 'TMX_CON_max', \n",
    "           #'elevacion', 'anio', 'mes', \n",
    "            'basin_id', 'cod_ah', 'nom_ah', 'cod_szh', 'nom_szh', 'cod_zh', 'nom_zh', 'ruleid',\n",
    "            'shape_area', \n",
    "            #'shape_leng','basin_area', \n",
    "            'year', 'month', 'type'\n",
    "           #'loss_cover_histo', 'loss_cover_fcl', 'loss_cover_fcl_perc','loss_cover_perc_acum'\n",
    "        ], inplace = True)"
   ]
  },
  {
   "cell_type": "code",
   "execution_count": 13,
   "metadata": {},
   "outputs": [],
   "source": [
    "df.rename(columns = {'shape_leng': 'basin_perimeter'}, inplace = True)"
   ]
  },
  {
   "cell_type": "code",
   "execution_count": 14,
   "metadata": {},
   "outputs": [
    {
     "data": {
      "text/html": [
       "<div>\n",
       "<style scoped>\n",
       "    .dataframe tbody tr th:only-of-type {\n",
       "        vertical-align: middle;\n",
       "    }\n",
       "\n",
       "    .dataframe tbody tr th {\n",
       "        vertical-align: top;\n",
       "    }\n",
       "\n",
       "    .dataframe thead th {\n",
       "        text-align: right;\n",
       "    }\n",
       "</style>\n",
       "<table border=\"1\" class=\"dataframe\">\n",
       "  <thead>\n",
       "    <tr style=\"text-align: right;\">\n",
       "      <th></th>\n",
       "      <th>fecha</th>\n",
       "      <th>cuenca</th>\n",
       "      <th>PTPM_CON_max</th>\n",
       "      <th>PTPM_CON_median</th>\n",
       "      <th>PTPM_CON_min</th>\n",
       "      <th>Q_MEDIA_D_median</th>\n",
       "      <th>Q_MN_D_min</th>\n",
       "      <th>Q_MX_D_max</th>\n",
       "      <th>TMN_CON_min</th>\n",
       "      <th>TMX_CON_max</th>\n",
       "      <th>elevacion</th>\n",
       "      <th>anio</th>\n",
       "      <th>mes</th>\n",
       "      <th>basin_perimeter</th>\n",
       "      <th>basin_area</th>\n",
       "      <th>loss_cover_histo</th>\n",
       "      <th>loss_cover_fcl</th>\n",
       "      <th>loss_cover_fcl_perc</th>\n",
       "      <th>loss_cover_perc_acum</th>\n",
       "    </tr>\n",
       "  </thead>\n",
       "  <tbody>\n",
       "    <tr>\n",
       "      <th>0</th>\n",
       "      <td>2000-01-01</td>\n",
       "      <td>1</td>\n",
       "      <td>NaN</td>\n",
       "      <td>NaN</td>\n",
       "      <td>NaN</td>\n",
       "      <td>NaN</td>\n",
       "      <td>NaN</td>\n",
       "      <td>NaN</td>\n",
       "      <td>NaN</td>\n",
       "      <td>NaN</td>\n",
       "      <td>NaN</td>\n",
       "      <td>2000</td>\n",
       "      <td>1</td>\n",
       "      <td>0.358011</td>\n",
       "      <td>2683.774</td>\n",
       "      <td>NaN</td>\n",
       "      <td>NaN</td>\n",
       "      <td>NaN</td>\n",
       "      <td>NaN</td>\n",
       "    </tr>\n",
       "    <tr>\n",
       "      <th>1</th>\n",
       "      <td>2000-02-01</td>\n",
       "      <td>1</td>\n",
       "      <td>NaN</td>\n",
       "      <td>NaN</td>\n",
       "      <td>NaN</td>\n",
       "      <td>NaN</td>\n",
       "      <td>NaN</td>\n",
       "      <td>NaN</td>\n",
       "      <td>NaN</td>\n",
       "      <td>NaN</td>\n",
       "      <td>NaN</td>\n",
       "      <td>2000</td>\n",
       "      <td>2</td>\n",
       "      <td>0.358011</td>\n",
       "      <td>2683.774</td>\n",
       "      <td>NaN</td>\n",
       "      <td>NaN</td>\n",
       "      <td>NaN</td>\n",
       "      <td>NaN</td>\n",
       "    </tr>\n",
       "    <tr>\n",
       "      <th>2</th>\n",
       "      <td>2000-03-01</td>\n",
       "      <td>1</td>\n",
       "      <td>NaN</td>\n",
       "      <td>NaN</td>\n",
       "      <td>NaN</td>\n",
       "      <td>NaN</td>\n",
       "      <td>NaN</td>\n",
       "      <td>NaN</td>\n",
       "      <td>NaN</td>\n",
       "      <td>NaN</td>\n",
       "      <td>NaN</td>\n",
       "      <td>2000</td>\n",
       "      <td>3</td>\n",
       "      <td>0.358011</td>\n",
       "      <td>2683.774</td>\n",
       "      <td>NaN</td>\n",
       "      <td>NaN</td>\n",
       "      <td>NaN</td>\n",
       "      <td>NaN</td>\n",
       "    </tr>\n",
       "    <tr>\n",
       "      <th>3</th>\n",
       "      <td>2000-04-01</td>\n",
       "      <td>1</td>\n",
       "      <td>NaN</td>\n",
       "      <td>NaN</td>\n",
       "      <td>NaN</td>\n",
       "      <td>NaN</td>\n",
       "      <td>NaN</td>\n",
       "      <td>NaN</td>\n",
       "      <td>NaN</td>\n",
       "      <td>NaN</td>\n",
       "      <td>NaN</td>\n",
       "      <td>2000</td>\n",
       "      <td>4</td>\n",
       "      <td>0.358011</td>\n",
       "      <td>2683.774</td>\n",
       "      <td>NaN</td>\n",
       "      <td>NaN</td>\n",
       "      <td>NaN</td>\n",
       "      <td>NaN</td>\n",
       "    </tr>\n",
       "    <tr>\n",
       "      <th>4</th>\n",
       "      <td>2000-05-01</td>\n",
       "      <td>1</td>\n",
       "      <td>NaN</td>\n",
       "      <td>NaN</td>\n",
       "      <td>NaN</td>\n",
       "      <td>NaN</td>\n",
       "      <td>NaN</td>\n",
       "      <td>NaN</td>\n",
       "      <td>NaN</td>\n",
       "      <td>NaN</td>\n",
       "      <td>NaN</td>\n",
       "      <td>2000</td>\n",
       "      <td>5</td>\n",
       "      <td>0.358011</td>\n",
       "      <td>2683.774</td>\n",
       "      <td>NaN</td>\n",
       "      <td>NaN</td>\n",
       "      <td>NaN</td>\n",
       "      <td>NaN</td>\n",
       "    </tr>\n",
       "  </tbody>\n",
       "</table>\n",
       "</div>"
      ],
      "text/plain": [
       "       fecha  cuenca  PTPM_CON_max  PTPM_CON_median  PTPM_CON_min  \\\n",
       "0 2000-01-01       1           NaN              NaN           NaN   \n",
       "1 2000-02-01       1           NaN              NaN           NaN   \n",
       "2 2000-03-01       1           NaN              NaN           NaN   \n",
       "3 2000-04-01       1           NaN              NaN           NaN   \n",
       "4 2000-05-01       1           NaN              NaN           NaN   \n",
       "\n",
       "   Q_MEDIA_D_median  Q_MN_D_min  Q_MX_D_max  TMN_CON_min  TMX_CON_max  \\\n",
       "0               NaN         NaN         NaN          NaN          NaN   \n",
       "1               NaN         NaN         NaN          NaN          NaN   \n",
       "2               NaN         NaN         NaN          NaN          NaN   \n",
       "3               NaN         NaN         NaN          NaN          NaN   \n",
       "4               NaN         NaN         NaN          NaN          NaN   \n",
       "\n",
       "   elevacion  anio  mes  basin_perimeter  basin_area  loss_cover_histo  \\\n",
       "0        NaN  2000    1         0.358011    2683.774               NaN   \n",
       "1        NaN  2000    2         0.358011    2683.774               NaN   \n",
       "2        NaN  2000    3         0.358011    2683.774               NaN   \n",
       "3        NaN  2000    4         0.358011    2683.774               NaN   \n",
       "4        NaN  2000    5         0.358011    2683.774               NaN   \n",
       "\n",
       "   loss_cover_fcl  loss_cover_fcl_perc  loss_cover_perc_acum  \n",
       "0             NaN                  NaN                   NaN  \n",
       "1             NaN                  NaN                   NaN  \n",
       "2             NaN                  NaN                   NaN  \n",
       "3             NaN                  NaN                   NaN  \n",
       "4             NaN                  NaN                   NaN  "
      ]
     },
     "execution_count": 14,
     "metadata": {},
     "output_type": "execute_result"
    }
   ],
   "source": [
    "df.head()"
   ]
  },
  {
   "cell_type": "code",
   "execution_count": 18,
   "metadata": {},
   "outputs": [],
   "source": [
    "df.to_csv(matrix_output, index = False)"
   ]
  },
  {
   "cell_type": "code",
   "execution_count": null,
   "metadata": {},
   "outputs": [],
   "source": []
  }
 ],
 "metadata": {
  "kernelspec": {
   "display_name": "Python 3",
   "language": "python",
   "name": "python3"
  },
  "language_info": {
   "codemirror_mode": {
    "name": "ipython",
    "version": 3
   },
   "file_extension": ".py",
   "mimetype": "text/x-python",
   "name": "python",
   "nbconvert_exporter": "python",
   "pygments_lexer": "ipython3",
   "version": "3.8.3"
  }
 },
 "nbformat": 4,
 "nbformat_minor": 4
}
