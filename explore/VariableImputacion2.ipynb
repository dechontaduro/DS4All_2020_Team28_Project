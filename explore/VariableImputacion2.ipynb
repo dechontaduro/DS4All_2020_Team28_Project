{
 "cells": [
  {
   "cell_type": "code",
   "execution_count": 1,
   "metadata": {},
   "outputs": [],
   "source": [
    "import os\n",
    "import glob\n",
    "import pandas as pd\n",
    "import numpy as np\n",
    "from datetime import datetime\n",
    "import time"
   ]
  },
  {
   "cell_type": "code",
   "execution_count": 2,
   "metadata": {},
   "outputs": [],
   "source": [
    "variable_path_base = r'../data/variables'\n",
    "variable_files_pattern = f'var-dia-*.zip'\n",
    "aggregate_func = 'median'\n",
    "YEARS_MIN_TO_FILL = 10"
   ]
  },
  {
   "cell_type": "code",
   "execution_count": 3,
   "metadata": {},
   "outputs": [
    {
     "name": "stdout",
     "output_type": "stream",
     "text": [
      "Archivos a cargar\n",
      "..\\data\\variables\\var-dia-PTPM_CON-fill-median-10.zip\n",
      "..\\data\\variables\\var-dia-PTPM_CON.zip\n",
      "..\\data\\variables\\var-dia-PT_10_TT_D-fill-median-10.zip\n",
      "..\\data\\variables\\var-dia-PT_10_TT_D.zip\n",
      "..\\data\\variables\\var-dia-Q_MEDIA_D-fill-median-10.zip\n",
      "..\\data\\variables\\var-dia-Q_MEDIA_D.zip\n",
      "..\\data\\variables\\var-dia-Q_MN_D-fill-median-10.zip\n",
      "..\\data\\variables\\var-dia-Q_MN_D.zip\n",
      "..\\data\\variables\\var-dia-Q_MX_D-fill-median-10.zip\n",
      "..\\data\\variables\\var-dia-Q_MX_D.zip\n",
      "..\\data\\variables\\var-dia-TMN_CON-fill-median-10.zip\n",
      "..\\data\\variables\\var-dia-TMN_CON.zip\n",
      "..\\data\\variables\\var-dia-TMX_CON.zip\n"
     ]
    }
   ],
   "source": [
    "variable_path_base = variable_path_base.split('/')\n",
    "variable_files = glob.glob(os.path.join(*variable_path_base, variable_files_pattern))\n",
    "print('Archivos a cargar', *variable_files, sep = '\\n')"
   ]
  },
  {
   "cell_type": "code",
   "execution_count": 4,
   "metadata": {},
   "outputs": [],
   "source": [
    "def read_variable(f):\n",
    "    dtypes = { 'CodigoEstacion':'category','Etiqueta':'category'}\n",
    "    dateparse = lambda x: datetime.strptime(x, '%Y-%m-%d %H:%M')\n",
    "    \n",
    "    df = pd.read_csv(f, dtype = dtypes, parse_dates = ['Fecha'], date_parser = dateparse)\n",
    "    return df"
   ]
  },
  {
   "cell_type": "code",
   "execution_count": 5,
   "metadata": {},
   "outputs": [
    {
     "name": "stdout",
     "output_type": "stream",
     "text": [
      "Archivo: ..\\data\\variables\\var-dia-PTPM_CON.zip\n",
      "Leyendo h:Tue Jun 16 23:35:13 2020...\n",
      "Etiqueta:PTPM_CON\n",
      "**** r:(13764209, 3) h:Tue Jun 16 23:41:25 2020 t:6.2084759672482805 ****\n",
      "Wall time: 6min 12s\n"
     ]
    }
   ],
   "source": [
    "%%time\n",
    "f = variable_files[1]\n",
    "#for f in variable_files[3:4]:\n",
    "start_time = time.time()\n",
    "\n",
    "print(f'Archivo: {f}')\n",
    "print(f'Leyendo h:{time.asctime()}...')\n",
    "\n",
    "df = read_variable(f)\n",
    "etiqueta = df.iat[0, df.columns.get_loc('Etiqueta')]\n",
    "print(f'Etiqueta:{etiqueta}')\n",
    "\n",
    "df.drop('Etiqueta', axis = 'columns', inplace = True)\n",
    "\n",
    "print(f'**** r:{df.shape} h:{time.asctime()} t:{(time.time() - start_time) / 60} ****')"
   ]
  },
  {
   "cell_type": "code",
   "execution_count": 6,
   "metadata": {},
   "outputs": [
    {
     "name": "stdout",
     "output_type": "stream",
     "text": [
      "**** r:(18694560, 1) h:Tue Jun 16 23:52:49 2020 t:17.605197183291118 ****\n",
      "Wall time: 11min 23s\n"
     ]
    }
   ],
   "source": [
    "%%time\n",
    "\n",
    "idx_names = ['Fecha', 'CodigoEstacion']\n",
    "estaciones = df.CodigoEstacion.unique()\n",
    "fechas = pd.date_range(start = df.Fecha.min(), end = df.Fecha.max())\n",
    "\n",
    "idx = pd.MultiIndex.from_product((fechas, estaciones), names = idx_names)\n",
    "df = df.set_index(idx_names).reindex(idx)\n",
    "print(f'**** r:{df.shape} h:{time.asctime()} t:{(time.time() - start_time) / 60} ****')"
   ]
  },
  {
   "cell_type": "code",
   "execution_count": 7,
   "metadata": {},
   "outputs": [
    {
     "name": "stdout",
     "output_type": "stream",
     "text": [
      "**** r:(18694560, 1) h:Tue Jun 16 23:56:22 2020 t:21.148309008280435 ****\n",
      "Wall time: 3min 32s\n"
     ]
    }
   ],
   "source": [
    "%%time\n",
    "df['MesDia'] = df.index.get_level_values('Fecha').strftime('%m-%d')\n",
    "df.set_index('MesDia', append = True, inplace = True)\n",
    "df = df.reorder_levels(order=['MesDia', 'Fecha', 'CodigoEstacion'])\n",
    "df.sort_index(inplace = True)\n",
    "print(f'**** r:{df.shape} h:{time.asctime()} t:{(time.time() - start_time) / 60} ****')"
   ]
  },
  {
   "cell_type": "code",
   "execution_count": 8,
   "metadata": {},
   "outputs": [
    {
     "name": "stdout",
     "output_type": "stream",
     "text": [
      "Wall time: 13.9 s\n"
     ]
    }
   ],
   "source": [
    "%%time\n",
    "#df.unstack('CodigoEstacion').unstack('MesDia').fillna(lambda x: np.NAN if x.count() < YEARS_MIN_TO_FILL else x.mean())\n",
    "df2 = df.unstack('CodigoEstacion')\n",
    "df2.sort_index(inplace = True)"
   ]
  },
  {
   "cell_type": "code",
   "execution_count": 9,
   "metadata": {},
   "outputs": [
    {
     "name": "stdout",
     "output_type": "stream",
     "text": [
      "262.031156 149.708209\n"
     ]
    }
   ],
   "source": [
    "print(df.memory_usage(deep=True).sum() / 1E6, df2.memory_usage(deep=True).sum() / 1E6)"
   ]
  },
  {
   "cell_type": "code",
   "execution_count": 10,
   "metadata": {},
   "outputs": [
    {
     "name": "stdout",
     "output_type": "stream",
     "text": [
      "h:Tue Jun 16 23:56:38 2020\n",
      "**** r:(10744, 1740) h:Wed Jun 17 00:05:42 2020 t:30.48522911866506 ****\n",
      "Wall time: 9min 4s\n"
     ]
    }
   ],
   "source": [
    "%%time\n",
    "res = []\n",
    "\n",
    "#start_time = time.time()\n",
    "print(f'h:{time.asctime()}')\n",
    "\n",
    "gb = df2.groupby(['MesDia'])\n",
    "for g, gdf in gb:\n",
    "    #print(f'g:{g} h:{time.asctime()}')\n",
    "    gdf = gdf.transform(lambda x: x.fillna(np.NAN if x.count() < YEARS_MIN_TO_FILL else x.agg(aggregate_func)))\n",
    "    res.append(gdf)\n",
    "    #print(f'**** h:{time.asctime()} t:{(time.time() - start_time)} ****')\n",
    "    \n",
    "df2 = pd.concat(res)\n",
    "print(f'**** r:{df2.shape} h:{time.asctime()} t:{(time.time() - start_time) / 60} ****')"
   ]
  },
  {
   "cell_type": "code",
   "execution_count": 11,
   "metadata": {},
   "outputs": [
    {
     "name": "stdout",
     "output_type": "stream",
     "text": [
      "**** r:(18694560, 1) h:Wed Jun 17 00:05:43 2020 t:30.50816241502762 ****\n"
     ]
    }
   ],
   "source": [
    "df2 = (pd.concat([df2], keys=[etiqueta], names=['Etiqueta'])\n",
    "        .stack('CodigoEstacion', dropna = False))\n",
    "print(f'**** r:{df2.shape} h:{time.asctime()} t:{(time.time() - start_time) / 60} ****')"
   ]
  },
  {
   "cell_type": "code",
   "execution_count": 12,
   "metadata": {},
   "outputs": [
    {
     "name": "stdout",
     "output_type": "stream",
     "text": [
      "**** r:(18694560, 4) h:Wed Jun 17 00:06:19 2020 t:31.094377998510996 ****\n",
      "Wall time: 35.1 s\n"
     ]
    }
   ],
   "source": [
    "%%time\n",
    "df2 = (df2.reorder_levels(order = ['CodigoEstacion', 'Fecha', 'MesDia', 'Etiqueta'])\n",
    "    .sort_index()\n",
    "    .reset_index()\n",
    "    .drop('MesDia', axis = 'columns'))\n",
    "print(f'**** r:{df2.shape} h:{time.asctime()} t:{(time.time() - start_time) / 60} ****')"
   ]
  },
  {
   "cell_type": "code",
   "execution_count": 13,
   "metadata": {},
   "outputs": [
    {
     "name": "stdout",
     "output_type": "stream",
     "text": [
      "..\\data\\variables\\var-dia-PTPM_CON-fill-median-10.csv\n"
     ]
    }
   ],
   "source": [
    "p = os.path.join(*variable_path_base, f'var-dia-{etiqueta}-fill-{aggregate_func}-{YEARS_MIN_TO_FILL}.csv')\n",
    "print(p)\n",
    "df2.to_csv(p, index = False)"
   ]
  },
  {
   "cell_type": "code",
   "execution_count": null,
   "metadata": {},
   "outputs": [],
   "source": []
  }
 ],
 "metadata": {
  "kernelspec": {
   "display_name": "Python 3",
   "language": "python",
   "name": "python3"
  },
  "language_info": {
   "codemirror_mode": {
    "name": "ipython",
    "version": 3
   },
   "file_extension": ".py",
   "mimetype": "text/x-python",
   "name": "python",
   "nbconvert_exporter": "python",
   "pygments_lexer": "ipython3",
   "version": "3.8.3"
  }
 },
 "nbformat": 4,
 "nbformat_minor": 4
}
