{
 "cells": [
  {
   "cell_type": "code",
   "execution_count": 1,
   "metadata": {},
   "outputs": [],
   "source": [
    "import pandas as pd\n",
    "variable_path_base = r'../data/variables'\n",
    "variable_files_pattern = f'var-dia-PT_10_TT_D.zip'\n",
    "df = pd.read_csv(variable_path_base + '/' + variable_files_pattern)"
   ]
  },
  {
   "cell_type": "code",
   "execution_count": 2,
   "metadata": {},
   "outputs": [
    {
     "name": "stdout",
     "output_type": "stream",
     "text": [
      "q_min_val: None\n",
      "q_max_val: None\n"
     ]
    },
    {
     "data": {
      "text/plain": [
       "count    97297.000000\n",
       "mean         0.021006\n",
       "std          0.068932\n",
       "min          0.000000\n",
       "25%          0.000000\n",
       "50%          0.000000\n",
       "75%          0.000000\n",
       "max          0.400000\n",
       "Name: Valor, dtype: float64"
      ]
     },
     "execution_count": 2,
     "metadata": {},
     "output_type": "execute_result"
    }
   ],
   "source": [
    "def quitarOutliers(df, q_min=-1, q_max=-1, val_min=None, val_max=None):\n",
    "    import numpy as np\n",
    "    _df = df.copy()\n",
    "    Q1 = _df['Valor'].quantile(0.25)\n",
    "    Q3 = _df['Valor'].quantile(0.75)\n",
    "    IQR = Q3 - Q1\n",
    "    q_min_val = Q1 - IQR * q_min if q_min >= 0 else None\n",
    "    #q_min_val = _df['Valor'].quantile(q_min) if q_min >= 0 else None\n",
    "    print(\"q_min_val: {}\".format(q_min_val))\n",
    "    q_max_val = Q3 + IQR * q_max if q_max >= 0 else None\n",
    "    #q_max_val = _df['Valor'].quantile(q_max) if q_max >= 0 else None\n",
    "    print(\"q_max_val: {}\".format(q_max_val))\n",
    "    \n",
    "    if q_min_val:\n",
    "        _df.loc[_df['Valor'] < q_min_val, 'Valor'] = -1\n",
    "    if q_max_val:\n",
    "        _df.loc[_df['Valor'] > q_max_val, 'Valor'] = np.nan\n",
    "    if val_min:\n",
    "        _df.loc[_df['Valor'] < val_min, 'Valor'] = np.nan\n",
    "    if val_max:\n",
    "        _df.loc[_df['Valor'] > val_max, 'Valor'] = np.nan\n",
    "    return _df\n",
    "\n",
    "tf = quitarOutliers(df, val_min=-1, val_max=0.4)\n",
    "tf['Valor'].describe()"
   ]
  },
  {
   "cell_type": "code",
   "execution_count": null,
   "metadata": {},
   "outputs": [],
   "source": []
  }
 ],
 "metadata": {
  "kernelspec": {
   "display_name": "Python 3",
   "language": "python",
   "name": "python3"
  },
  "language_info": {
   "codemirror_mode": {
    "name": "ipython",
    "version": 3
   },
   "file_extension": ".py",
   "mimetype": "text/x-python",
   "name": "python",
   "nbconvert_exporter": "python",
   "pygments_lexer": "ipython3",
   "version": "3.7.7"
  }
 },
 "nbformat": 4,
 "nbformat_minor": 4
}
