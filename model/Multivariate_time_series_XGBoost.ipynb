{
 "cells": [
  {
   "attachments": {
    "ds4a_colombia.svg": {
     "image/svg+xml": [
      "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"
     ]
    }
   },
   "cell_type": "markdown",
   "metadata": {},
   "source": [
    "![ds4a_colombia.svg](attachment:ds4a_colombia.svg)"
   ]
  },
  {
   "cell_type": "markdown",
   "metadata": {},
   "source": [
    "# Impacto de la deforestación en el regimen de caudales de los rios en Colombia (TEAM 28)"
   ]
  },
  {
   "cell_type": "markdown",
   "metadata": {},
   "source": [
    "## Multivariate time series forecasting"
   ]
  },
  {
   "cell_type": "markdown",
   "metadata": {},
   "source": [
    "Sources :\n",
    "\n",
    "https://towardsdatascience.com/vector-autoregressions-vector-error-correction-multivariate-model-a69daf6ab618\n",
    "\n",
    "https://towardsdatascience.com/pairs-trading-with-cryptocurrencies-e79b4a00b015"
   ]
  },
  {
   "cell_type": "markdown",
   "metadata": {},
   "source": [
    "### Libraries"
   ]
  },
  {
   "cell_type": "code",
   "execution_count": null,
   "metadata": {},
   "outputs": [],
   "source": [
    "import pandas as pd\n",
    "import numpy as np\n",
    "import statsmodels.api as sm\n",
    "import statsmodels.tsa.vector_ar as var\n",
    "import sklearn.metrics as skm\n",
    "\n",
    "import matplotlib.pyplot as plt\n",
    "from matplotlib.pyplot import figure\n",
    "figure(num = None, figsize = (15, 12), dpi = 80, facecolor = 'w', edgecolor = 'k')\n",
    "plt.rcParams.update({'font.size': 16, 'figure.figsize': (15, 10), \n",
    "                     'figure.max_open_warning': 200})\n",
    "\n",
    "# machine learning: XGB\n",
    "import xgboost as xgb\n",
    "from sklearn.model_selection import train_test_split, GridSearchCV, RandomizedSearchCV\n",
    "from xgboost.sklearn import XGBRegressor # wrapper"
   ]
  },
  {
   "cell_type": "code",
   "execution_count": null,
   "metadata": {},
   "outputs": [],
   "source": [
    "print(plt.rcParams.keys())"
   ]
  },
  {
   "cell_type": "markdown",
   "metadata": {},
   "source": [
    "---------------------------"
   ]
  },
  {
   "cell_type": "markdown",
   "metadata": {},
   "source": [
    "### Read Data"
   ]
  },
  {
   "cell_type": "code",
   "execution_count": null,
   "metadata": {},
   "outputs": [],
   "source": [
    "macrodata = pd.read_csv('../data/matrix/matrix_consol_v2.zip')\n",
    "\n",
    "macrodata.head(10)"
   ]
  },
  {
   "cell_type": "code",
   "execution_count": null,
   "metadata": {},
   "outputs": [],
   "source": [
    "mcs = macrodata['mc'].unique()\n",
    "mcs.sort()\n",
    "\n",
    "print(mcs)"
   ]
  },
  {
   "cell_type": "markdown",
   "metadata": {},
   "source": [
    "### Split data for machine learning algorithms"
   ]
  },
  {
   "cell_type": "code",
   "execution_count": null,
   "metadata": {},
   "outputs": [],
   "source": [
    "temp_df = macrodata.copy()\n",
    "\n",
    "data_train = pd.DataFrame()\n",
    "data_test = pd.DataFrame()\n",
    "\n",
    "for i in mcs:\n",
    "    #train, test = train_test_split(temp_df[temp_df['mc'] == i], test_size = 0.2)\n",
    "    nobs = 24 # 10% de 240\n",
    "    train, test = temp_df[temp_df['mc'] == i].iloc[0:-nobs], temp_df[temp_df['mc'] == i].iloc[-nobs:]\n",
    "    data_train = pd.concat([data_train, train], axis = 0)\n",
    "    data_test = pd.concat([data_test, test], axis = 0)\n",
    "\n",
    "print('Total data')\n",
    "print('----------')\n",
    "print(macrodata.shape)\n",
    "print(macrodata.dtypes)\n",
    "print()\n",
    "print('data_train')\n",
    "print('----------')\n",
    "print(data_train.shape)\n",
    "print(data_train.dtypes)\n",
    "print()\n",
    "print('data_test')\n",
    "print('---------')\n",
    "print(data_test.shape)\n",
    "print(data_test.dtypes)\n",
    "\n",
    "temp_df.head(10)"
   ]
  },
  {
   "cell_type": "code",
   "execution_count": null,
   "metadata": {},
   "outputs": [],
   "source": [
    "data_train.head(10)"
   ]
  },
  {
   "cell_type": "code",
   "execution_count": null,
   "metadata": {
    "scrolled": true
   },
   "outputs": [],
   "source": [
    "data_test.head(10)"
   ]
  },
  {
   "cell_type": "code",
   "execution_count": null,
   "metadata": {},
   "outputs": [],
   "source": [
    "dates = pd.DataFrame(pd.date_range('2018-01-01','2019-12-31' , freq='1M') - \n",
    "             pd.offsets.MonthBegin(1))\n",
    "dates.columns = ['date']\n",
    "\n",
    "dates['year'] = pd.DatetimeIndex(dates['date']).year\n",
    "dates['month'] = pd.DatetimeIndex(dates['date']).month\n",
    "\n",
    "dates.head()"
   ]
  },
  {
   "cell_type": "markdown",
   "metadata": {},
   "source": [
    "## XGBoost"
   ]
  },
  {
   "cell_type": "markdown",
   "metadata": {},
   "source": [
    "[XGBoost](https://github.com/dmlc/xgboost/blob/master/doc/model.md) is an implementation of Gradient Boosted Decision trees designed for speed and performance. Its more suitable name is a as [regularized Gradient Boosting](http://datascience.la/xgboost-workshop-and-meetup-talk-with-tianqi-chen/), as it uses a more regularized model formalization to control over-fitting.\n",
    "\n",
    "Additional advantages of this algorythm are:\n",
    "- Automated missing values handling: XGB uses a \"learned\" default direction for the missing values. \"Learned\" means learned in the tree construction process by choosing the best direction that optimizes the training loss.\n",
    "- Interactive feature analysis (yet implemented only in R): plots the structure of decision trees with splits and leaves.\n",
    "- Feature importance analysis: a sorted barplot of the most significant variables.\n",
    "\n",
    "<div class = \"alert alert-block alert-info\"> As we already saw in the previos section our data is higly seasonal and not random (dependent). Therefore, before fitting any models we need to \"smooth\" target variable Sales. The typical preprocessing step is to log transform the data in question. Once we perform the forecasting we will unwind log transformations in reverse order. </div>"
   ]
  },
  {
   "cell_type": "markdown",
   "metadata": {},
   "source": [
    "### Model Training\n",
    "\n",
    "**Approach**\n",
    "\n",
    "1. Split train data to train and test set to evaluate the model.\n",
    "2. Set eta to a relatively high value (e.g. 0.05 ~ 0.1), num_round to 300 ~ 500\n",
    "3. Use grid search to find the best combination of additional parameters.\n",
    "4. Lower eta until we reach the optimum.\n",
    "5. Use the validation set as watchlist to retrain the model with the best parameters."
   ]
  },
  {
   "cell_type": "code",
   "execution_count": null,
   "metadata": {},
   "outputs": [],
   "source": [
    "# split into training and evaluation sets\n",
    "\n",
    "# v_flow_mean\n",
    "# v_loss_cover\n",
    "# v_rainfall_total\n",
    "# v_temperature_mean\n",
    "# v_flow_mean_log\n",
    "# v_loss_cover_log\n",
    "# v_rainfall_total_log\n",
    "# v_flow_mean_log_diff\n",
    "# v_loss_cover_log_diff\n",
    "# v_rainfall_total_log_diff\n",
    "\n",
    "# predictors = [x for x in train_store.columns if x not in ['Customers', 'Sales', 'SalePerCustomer']]\n",
    "# y = np.log(train_store.Sales) # log transformation of Sales\n",
    "# X = train_store\n",
    "\n",
    "# # split the data into train/test set\n",
    "# X_train, X_test, y_train, y_test = train_test_split(X, y, \n",
    "#                                                     test_size = 0.1, # 30% for the evaluation set\n",
    "#                                                     random_state = 42)"
   ]
  },
  {
   "cell_type": "code",
   "execution_count": null,
   "metadata": {},
   "outputs": [],
   "source": [
    "data_train['v_loss_cover_porc'] = data_train['v_loss_cover'] * 1000\n",
    "\n",
    "data_train.head()"
   ]
  },
  {
   "cell_type": "code",
   "execution_count": null,
   "metadata": {},
   "outputs": [],
   "source": [
    "data_test['v_loss_cover_porc'] = data_test['v_loss_cover'] * 1000\n",
    "\n",
    "data_test.head()"
   ]
  },
  {
   "cell_type": "code",
   "execution_count": null,
   "metadata": {},
   "outputs": [],
   "source": [
    "predictors = ['v_loss_cover_porc', 'v_rainfall_total']\n",
    "# predictors = ['v_loss_cover', 'v_rainfall_total']"
   ]
  },
  {
   "cell_type": "code",
   "execution_count": null,
   "metadata": {},
   "outputs": [],
   "source": [
    "# evaluation metric: rmspe\n",
    "# Root Mean Square Percentage Error\n",
    "# code chunk shared at Kaggle\n",
    "\n",
    "def rmspe(y, yhat):\n",
    "    return np.sqrt(np.mean((yhat / y-1) ** 2))\n",
    "\n",
    "def rmspe_xg(yhat, y):\n",
    "    y = np.expm1(y.get_label())\n",
    "    yhat = np.expm1(yhat)\n",
    "    return \"rmspe\", rmspe(y, yhat)"
   ]
  },
  {
   "cell_type": "markdown",
   "metadata": {},
   "source": [
    "**Tuning Parameters** \n",
    "\n",
    "- eta: Step size used in updating weights. Lower value means slower training but better convergence.\n",
    "- num_round: Total number of iterations.\n",
    "- subsample: The ratio of training data used in each iteration; combat overfitting. Should be configured in the range of 30% to 80% of the training dataset, and compared to a value of 100% for no sampling.\n",
    "- colsample_bytree: The ratio of features used in each iteration, default 1.\n",
    "- max_depth: The maximum depth of each tree. If we do not limit max depth, gradient boosting would eventually overfit.\n",
    "- early_stopping_rounds: If there's no increase in validation score for a given number of iterations, the algorithm will stop early, also combats overfitting."
   ]
  },
  {
   "cell_type": "markdown",
   "metadata": {},
   "source": [
    "### XGB with xgboost library (First simplified version just with train - Version 1)"
   ]
  },
  {
   "cell_type": "code",
   "execution_count": null,
   "metadata": {},
   "outputs": [],
   "source": [
    "# base parameters\n",
    "# params = {\n",
    "#     'booster': 'gbtree', \n",
    "#     'objective': 'reg:squarederror', # regression task\n",
    "#     'subsample': 0.8, # 80% of data to grow trees and prevent overfitting\n",
    "#     'colsample_bytree': 0.85, # % of features used\n",
    "#     'eta': 0.08, \n",
    "#     'max_depth': 10, \n",
    "#     'seed': 42} # for reproducible results\n",
    "\n",
    "params = {\n",
    "    'booster': 'gbtree', \n",
    "    'objective': 'reg:squarederror', # regression task\n",
    "    'subsample': 0.8, # 80% of data to grow trees and prevent overfitting\n",
    "    'colsample_bytree': 1, # % of features used\n",
    "    'eta': 0.08, \n",
    "    'max_depth': 10, \n",
    "    'seed': 42} # for reproducible results"
   ]
  },
  {
   "cell_type": "code",
   "execution_count": null,
   "metadata": {},
   "outputs": [],
   "source": [
    "# XGB with xgboost library (First simplified version just with train - Version 1)\n",
    "\n",
    "forecast_steps = 24\n",
    "\n",
    "XGB_metrics = pd.DataFrame()\n",
    "XGB_prediction = pd.DataFrame()\n",
    "\n",
    "df_forecast = pd.DataFrame()\n",
    "\n",
    "for i in mcs:\n",
    "    X_train = data_train[data_train['mc'] == i].copy()\n",
    "    y_train = np.log(X_train.v_flow_mean[X_train['mc'] == i] + 0.01)\n",
    "    X_test = data_test[data_test['mc'] == i].copy()\n",
    "    y_test = np.log(X_test.v_flow_mean[data_test['mc'] == i] + 0.01)\n",
    "    y_test_org = X_test.v_flow_mean[data_test['mc'] == i] + 0.01\n",
    "    \n",
    "    dtrain = xgb.DMatrix(X_train[predictors], y_train)\n",
    "    dtest = xgb.DMatrix(X_test[predictors], y_test)\n",
    "\n",
    "    watchlist = [(dtrain, 'train'), (dtest, 'test')]\n",
    "\n",
    "    print(\"\\n=====================================\")\n",
    "    print('MC = %s' % i)\n",
    "    print(\"=====================================\\n\")\n",
    "    \n",
    "    xgb_model = xgb.train(params, dtrain, 300, evals = watchlist, \n",
    "                          early_stopping_rounds = 100, feval = rmspe_xg, \n",
    "                          verbose_eval = False)\n",
    "\n",
    "#     Funcional sin tunning *********\n",
    "\n",
    "    yhat = xgb_model.predict(xgb.DMatrix(X_test[predictors]))\n",
    "    error = rmspe(X_test.v_flow_mean.values, np.exp(yhat))\n",
    "\n",
    "    print('First validation yelds RMSPE: {:.6f}'.format(error))\n",
    "    print(yhat)\n",
    "    \n",
    "    xgb.plot_importance(xgb_model)    \n",
    "    \n",
    "    # predictions to unseen data\n",
    "    unseen = xgb.DMatrix(X_test[predictors])\n",
    "    test_p = xgb_model.predict(unseen)\n",
    "    \n",
    "    temp_df = data_test[data_test['mc'] == i].copy()\n",
    "    temp_df = temp_df[['v_flow_mean', 'v_loss_cover', 'v_rainfall_total']]\n",
    "    temp_df.reset_index(drop=True, inplace=True)\n",
    "    \n",
    "    forecast = pd.DataFrame({'v_flow_mean_mean': np.exp(test_p)})\n",
    "    forecast = pd.concat([dates, forecast, temp_df], axis = 1)\n",
    "    forecast['mc'] = i\n",
    "    \n",
    "    print(forecast.head())\n",
    "    \n",
    "    forecast_errors = [temp_df.v_flow_mean.iloc[j] - forecast.v_flow_mean_mean.iloc[j] \n",
    "                       for j in range(forecast_steps)]\n",
    "    bias = sum(forecast_errors) * 1.0 / (forecast_steps)\n",
    "#     print('Bias : %f' % bias)\n",
    "\n",
    "    mae = skm.mean_absolute_error(temp_df.v_flow_mean, forecast.v_flow_mean_mean)\n",
    "#     print('MAE : %f' % mae)\n",
    "\n",
    "    mse = skm.mean_squared_error(temp_df.v_flow_mean, forecast.v_flow_mean_mean)\n",
    "    rmse = np.sqrt(mse)\n",
    "#     print('MSE : %f' % mse)\n",
    "#     print('RMSE : %f' % rmse) \n",
    "    \n",
    "    resultados = [i, bias, mae, mse, rmse]\n",
    "    resultados = pd.DataFrame([resultados], columns = ['mc', 'Bias', 'MAE', 'MSE', 'RMSE'])\n",
    "    \n",
    "    print(resultados.head())\n",
    "    print('===========================================================\\n')\n",
    "\n",
    "    forecast = forecast[['date', 'year', 'month', 'mc', 'v_flow_mean_mean', \n",
    "                         'v_flow_mean', 'v_loss_cover', 'v_rainfall_total']]\n",
    "    \n",
    "    XGB_metrics = pd.concat([XGB_metrics, resultados], axis = 0)\n",
    "    XGB_prediction = pd.concat([XGB_prediction, forecast], axis = 0)\n",
    "    \n",
    "#     print(y_test_org.head())\n",
    "\n",
    "#     ******************************************************************\n",
    "    \n",
    "#     Prueba ******\n",
    "    \n",
    "#     params_sk = {'max_depth': 10, \n",
    "#             'n_estimators': 100, # the same as num_rounds in xgboost\n",
    "#             'objective': 'reg:squarederror', \n",
    "#             'subsample': 0.8, \n",
    "#             'colsample_bytree': 0.85, \n",
    "#             'learning_rate': 0.025, \n",
    "#             'seed': 42}     \n",
    "\n",
    "#     skrg = XGBRegressor(**params_sk)\n",
    "\n",
    "#     skrg.fit(X_train[predictors], y_train, \n",
    "#              eval_set = [(X_train[predictors], y_train), (X_test[predictors], y_test)])\n",
    "\n",
    "#     results = skrg.evals_result()\n",
    "#     epochs = len(results['validation_0']['rmse'])\n",
    "#     x_axis = range(0, epochs)\n",
    "#     # plot AUC\n",
    "#     fig, ax = plt.subplots()\n",
    "#     ax.plot(x_axis, results['validation_0']['rmse'], label='Train')\n",
    "#     ax.plot(x_axis, results['validation_1']['rmse'], label='Test')\n",
    "#     ax.legend()\n",
    "#     plt.ylabel('RMSE')\n",
    "#     plt.title('XGBoost RMSE')\n",
    "#     plt.show()\n",
    "        \n",
    "    \n",
    "#     ******************************************************************\n",
    "    \n",
    "\n",
    "# Guardar en archivos\n",
    "\n",
    "XGB_metrics.to_csv('../model/XGB_results_v1.csv', index = False)\n",
    "XGB_metrics.head()\n",
    "\n",
    "XGB_prediction['v_flow_mean_mean'] = XGB_prediction['v_flow_mean_mean'].apply(lambda x: \n",
    "                                                                              0.01 if x <= 0 \n",
    "                                                                              else x)\n",
    "XGB_prediction.to_csv('../model/XGB_predictions_v1.csv', index = False)\n",
    "\n",
    "XGB_prediction.head()\n",
    " "
   ]
  },
  {
   "cell_type": "markdown",
   "metadata": {},
   "source": [
    "-------------------------------"
   ]
  },
  {
   "cell_type": "markdown",
   "metadata": {},
   "source": [
    "### XGB with xgboost library (First simplified version just with train - Version 1) - Prediction 2020 - 2021"
   ]
  },
  {
   "cell_type": "code",
   "execution_count": null,
   "metadata": {},
   "outputs": [],
   "source": [
    "scenarios = pd.read_excel('../data/matrix/Esc_Predicciones_longitudinal.xlsx')\n",
    "\n",
    "scenarios['v_flow_mean'] = 0\n",
    "\n",
    "scenarios = scenarios[['date', 'mc', 'v_flow_mean', 'v_loss_cover', 'v_rainfall_total', \n",
    "                       'scenario']]\n",
    "\n",
    "scenarios.head(10)"
   ]
  },
  {
   "cell_type": "code",
   "execution_count": null,
   "metadata": {},
   "outputs": [],
   "source": [
    "dates = pd.DataFrame(pd.date_range('2020-01-01','2021-12-31' , freq='1M') - \n",
    "             pd.offsets.MonthBegin(1))\n",
    "dates.columns = ['date']\n",
    "\n",
    "dates['year'] = pd.DatetimeIndex(dates['date']).year\n",
    "dates['month'] = pd.DatetimeIndex(dates['date']).month\n",
    "\n",
    "dates.head()"
   ]
  },
  {
   "cell_type": "code",
   "execution_count": null,
   "metadata": {},
   "outputs": [],
   "source": [
    "# evaluation metric: rmspe\n",
    "# Root Mean Square Percentage Error\n",
    "# code chunk shared at Kaggle\n",
    "\n",
    "def rmspe(y, yhat):\n",
    "    return np.sqrt(np.mean((yhat / y-1) ** 2))\n",
    "\n",
    "def rmspe_xg(yhat, y):\n",
    "    y = np.expm1(y.get_label())\n",
    "    yhat = np.expm1(yhat)\n",
    "    return \"rmspe\", rmspe(y, yhat)"
   ]
  },
  {
   "cell_type": "code",
   "execution_count": null,
   "metadata": {},
   "outputs": [],
   "source": [
    "# base parameters\n",
    "# params = {\n",
    "#     'booster': 'gbtree', \n",
    "#     'objective': 'reg:squarederror', # regression task\n",
    "#     'subsample': 0.8, # 80% of data to grow trees and prevent overfitting\n",
    "#     'colsample_bytree': 0.85, # % of features used\n",
    "#     'eta': 0.08, \n",
    "#     'max_depth': 10, \n",
    "#     'seed': 42} # for reproducible results\n",
    "\n",
    "params = {\n",
    "    'booster': 'gbtree', \n",
    "    'objective': 'reg:squarederror', # regression task\n",
    "    'subsample': 0.8, # 80% of data to grow trees and prevent overfitting\n",
    "    'colsample_bytree': 1, # % of features used\n",
    "    'eta': 0.08, \n",
    "    'max_depth': 10, \n",
    "    'seed': 42} # for reproducible results\n",
    "\n",
    "forecast_steps = 24\n",
    "predictors = ['v_loss_cover_porc', 'v_rainfall_total']\n",
    "escen = scenarios['scenario'].unique()\n",
    "\n",
    "XGB_prediction = pd.DataFrame()\n",
    "\n",
    "data_train_predict = macrodata.copy()\n",
    "data_train_predict['v_loss_cover_porc'] = data_train_predict['v_loss_cover'] * 100\n",
    "\n",
    "for j in escen:\n",
    "    \n",
    "    data_test_predict = scenarios[scenarios['scenario'] == j].copy()\n",
    "    data_test_predict['v_loss_cover_porc'] = data_test_predict['v_loss_cover'] * 100\n",
    "    \n",
    "    print('\\n==================================')\n",
    "    print('Escenario :', j)\n",
    "    print('==================================\\n')\n",
    "\n",
    "    for i in mcs:\n",
    "        X_train = data_train_predict[data_train_predict['mc'] == i].copy()\n",
    "        y_train = np.log(X_train.v_flow_mean[X_train['mc'] == i] + 0.01)\n",
    "        X_test = data_test_predict[data_test_predict['mc'] == i].copy()\n",
    "        y_test = np.log(X_test.v_flow_mean[data_test_predict['mc'] == i] + 0.01)\n",
    "        y_test_org = X_test.v_flow_mean[data_test_predict['mc'] == i] + 0.01\n",
    "\n",
    "        dtrain = xgb.DMatrix(X_train[predictors], y_train)\n",
    "        dtest = xgb.DMatrix(X_test[predictors], y_test)\n",
    "\n",
    "        watchlist = [(dtrain, 'train'), (dtest, 'test')]\n",
    "\n",
    "        xgb_model = xgb.train(params, dtrain, 300, evals = watchlist, \n",
    "                              early_stopping_rounds = 100, feval = rmspe_xg, \n",
    "                              verbose_eval = False)\n",
    "\n",
    "    #     Funcional sin tunning *********\n",
    "\n",
    "        yhat = xgb_model.predict(xgb.DMatrix(X_test[predictors]))\n",
    "#         error = rmspe(X_test.v_flow_mean.values, np.exp(yhat))\n",
    "\n",
    "#         print('First validation yelds RMSPE: {:.6f}'.format(error))\n",
    "#         print(yhat)\n",
    "\n",
    "#         xgb.plot_importance(xgb_model)    \n",
    "\n",
    "        # predictions to unseen data\n",
    "        unseen = xgb.DMatrix(X_test[predictors])\n",
    "        test_p = xgb_model.predict(unseen)\n",
    "\n",
    "        temp_df = data_test_predict[data_test_predict['mc'] == i].copy()\n",
    "        temp_df = temp_df[['v_flow_mean', 'v_loss_cover', 'v_rainfall_total']]\n",
    "        temp_df.reset_index(drop=True, inplace=True)\n",
    "\n",
    "        forecast = pd.DataFrame({'v_flow_mean_forecast': np.exp(test_p)})\n",
    "        forecast = pd.concat([dates, forecast, temp_df], axis = 1)\n",
    "        forecast['mc'] = i\n",
    "\n",
    "        print('\\n ===================================================== \\n')\n",
    "        \n",
    "        print(forecast.head())\n",
    "\n",
    "        forecast = forecast[['date', 'year', 'month', 'mc', 'v_flow_mean_forecast', \n",
    "                             'v_flow_mean', 'v_loss_cover', 'v_rainfall_total']]\n",
    "        \n",
    "        forecast['scenario'] = j\n",
    "        \n",
    "        print(j, i, forecast.shape, forecast.v_flow_mean_forecast.mean(), \n",
    "              np.exp(y_train).mean(), \n",
    "              forecast.v_loss_cover.mean(), forecast.v_rainfall_total.mean())\n",
    "\n",
    "        XGB_prediction = pd.concat([XGB_prediction, forecast], axis = 0)\n",
    "\n",
    "    XGB_prediction.head()\n"
   ]
  },
  {
   "cell_type": "code",
   "execution_count": null,
   "metadata": {},
   "outputs": [],
   "source": [
    "# XGB_prediction['v_flow_mean_forecast'] = XGB_prediction['v_flow_mean_forecast'].apply(lambda x: \n",
    "#                                                                               0.01 if x <= 0 \n",
    "#                                                                               else x)\n",
    "XGB_prediction.to_csv('../model/XGB_forecast_2020_2021.csv', index = False)"
   ]
  },
  {
   "cell_type": "markdown",
   "metadata": {},
   "source": [
    "------------------------"
   ]
  }
 ],
 "metadata": {
  "kernelspec": {
   "display_name": "Python 3.8.2 64-bit ('ds4a': conda)",
   "language": "python",
   "name": "python38264bitds4acondafc01702769ab4524a15cea8dad87138e"
  },
  "language_info": {
   "codemirror_mode": {
    "name": "ipython",
    "version": 3
   },
   "file_extension": ".py",
   "mimetype": "text/x-python",
   "name": "python",
   "nbconvert_exporter": "python",
   "pygments_lexer": "ipython3",
   "version": "3.8.2"
  }
 },
 "nbformat": 4,
 "nbformat_minor": 4
}
