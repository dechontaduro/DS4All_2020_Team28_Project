{
 "cells": [
  {
   "attachments": {
    "ds4a_colombia.svg": {
     "image/svg+xml": [
      "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"
     ]
    }
   },
   "cell_type": "markdown",
   "metadata": {},
   "source": [
    "![ds4a_colombia.svg](attachment:ds4a_colombia.svg)"
   ]
  },
  {
   "cell_type": "markdown",
   "metadata": {},
   "source": [
    "# Impacto de la deforestación en el regimen de caudales de los rios en Colombia (TEAM 28)"
   ]
  },
  {
   "cell_type": "markdown",
   "metadata": {},
   "source": [
    "## Multivariate time series forecasting"
   ]
  },
  {
   "cell_type": "markdown",
   "metadata": {},
   "source": [
    "Sources :\n",
    "\n",
    "https://towardsdatascience.com/vector-autoregressions-vector-error-correction-multivariate-model-a69daf6ab618\n",
    "\n",
    "https://towardsdatascience.com/pairs-trading-with-cryptocurrencies-e79b4a00b015"
   ]
  },
  {
   "cell_type": "markdown",
   "metadata": {},
   "source": [
    "### Libraries"
   ]
  },
  {
   "cell_type": "code",
   "execution_count": null,
   "metadata": {},
   "outputs": [],
   "source": [
    "import pandas as pd\n",
    "import numpy as np\n",
    "import statsmodels.api as sm\n",
    "import statsmodels.tsa.vector_ar as var\n",
    "import sklearn.metrics as skm\n",
    "\n",
    "from statsmodels.tsa.stattools import grangercausalitytests # Granger's Causality Test\n",
    "\n",
    "from statsmodels.graphics.tsaplots import plot_acf # Autocorrelation plot\n",
    "from statsmodels.graphics.tsaplots import plot_pacf # PartialAutocorrelation plot\n",
    "\n",
    "from sklearn.model_selection import train_test_split # Split data for machine learning\n",
    "\n",
    "from statsmodels.tsa.stattools import adfuller # Augmented Dickey-Fuller Test (ADF Test)/unit root test\n",
    "from statsmodels.tsa.stattools import coint  # Johansen Test for Cointegration (Just two data series)\n",
    "\n",
    "from coint_johansen import coint_johansen  # Johansen Test for Cointegration more two data series\n",
    "from scipy.stats import zscore # Calculates the z score of each value in the sample, relative to the sample mean and standard deviation.\n",
    "\n",
    "from sklearn.utils import check_array # Para calculo de MAPE\n",
    "\n",
    "from sklearn.ensemble import RandomForestRegressor\n",
    "from lightgbm import LGBMRegressor\n",
    "\n",
    "import matplotlib.pyplot as plt\n",
    "from matplotlib.pyplot import figure\n",
    "figure(num = None, figsize = (15, 12), dpi = 80, facecolor = 'w', edgecolor = 'k')\n",
    "plt.rcParams.update({'font.size': 16, 'figure.figsize': (15, 10), \n",
    "                     'figure.max_open_warning': 200})\n",
    "\n",
    "# machine learning: XGB\n",
    "import xgboost as xgb\n",
    "from sklearn.model_selection import train_test_split, GridSearchCV, RandomizedSearchCV\n",
    "from xgboost.sklearn import XGBRegressor # wrapper"
   ]
  },
  {
   "cell_type": "code",
   "execution_count": null,
   "metadata": {},
   "outputs": [],
   "source": [
    "print(plt.rcParams.keys())"
   ]
  },
  {
   "cell_type": "markdown",
   "metadata": {},
   "source": [
    "### Read Data"
   ]
  },
  {
   "cell_type": "code",
   "execution_count": null,
   "metadata": {},
   "outputs": [],
   "source": [
    "macrodata = pd.read_csv('../data/matrix/matrix_consol_v2.zip')\n",
    "\n",
    "macrodata.head(10)"
   ]
  },
  {
   "cell_type": "code",
   "execution_count": null,
   "metadata": {},
   "outputs": [],
   "source": [
    "mcs = macrodata['mc'].unique()\n",
    "mcs.sort()\n",
    "\n",
    "print(mcs)"
   ]
  },
  {
   "cell_type": "markdown",
   "metadata": {},
   "source": [
    "### Split data for machine learning algorithms"
   ]
  },
  {
   "cell_type": "code",
   "execution_count": null,
   "metadata": {},
   "outputs": [],
   "source": [
    "temp_df = macrodata.copy()\n",
    "\n",
    "data_train = pd.DataFrame()\n",
    "data_test = pd.DataFrame()\n",
    "\n",
    "for i in mcs:\n",
    "    #train, test = train_test_split(temp_df[temp_df['mc'] == i], test_size = 0.2)\n",
    "    nobs = 12 # 5% de 240\n",
    "    train, test = temp_df[temp_df['mc'] == i].iloc[0:-nobs], temp_df[temp_df['mc'] == i].iloc[-nobs:]\n",
    "    data_train = pd.concat([data_train, train], axis = 0)\n",
    "    data_test = pd.concat([data_test, test], axis = 0)\n",
    "\n",
    "print('Total data')\n",
    "print('----------')\n",
    "print(macrodata.shape)\n",
    "print(macrodata.dtypes)\n",
    "print()\n",
    "print('data_train')\n",
    "print('----------')\n",
    "print(data_train.shape)\n",
    "print(data_train.dtypes)\n",
    "print()\n",
    "print('data_test')\n",
    "print('---------')\n",
    "print(data_test.shape)\n",
    "print(data_test.dtypes)\n",
    "\n",
    "temp_df.head(10)"
   ]
  },
  {
   "cell_type": "code",
   "execution_count": null,
   "metadata": {},
   "outputs": [],
   "source": [
    "data_train.head(10)"
   ]
  },
  {
   "cell_type": "code",
   "execution_count": null,
   "metadata": {
    "scrolled": true
   },
   "outputs": [],
   "source": [
    "data_test.head(10)"
   ]
  },
  {
   "cell_type": "code",
   "execution_count": null,
   "metadata": {},
   "outputs": [],
   "source": [
    "dates = pd.DataFrame(pd.date_range('2018-01-01','2019-12-31' , freq='1M') - \n",
    "             pd.offsets.MonthBegin(1))\n",
    "dates.columns = ['date']\n",
    "\n",
    "dates['year'] = pd.DatetimeIndex(dates['date']).year\n",
    "dates['month'] = pd.DatetimeIndex(dates['date']).month\n",
    "\n",
    "dates.head()"
   ]
  },
  {
   "cell_type": "markdown",
   "metadata": {},
   "source": [
    "## Random Forest"
   ]
  },
  {
   "cell_type": "code",
   "execution_count": null,
   "metadata": {},
   "outputs": [],
   "source": []
  },
  {
   "cell_type": "code",
   "execution_count": null,
   "metadata": {},
   "outputs": [],
   "source": []
  },
  {
   "cell_type": "code",
   "execution_count": null,
   "metadata": {},
   "outputs": [],
   "source": []
  },
  {
   "cell_type": "code",
   "execution_count": null,
   "metadata": {},
   "outputs": [],
   "source": []
  }
 ],
 "metadata": {
  "kernelspec": {
   "display_name": "Python 3.8.2 64-bit ('ds4a': conda)",
   "language": "python",
   "name": "python38264bitds4acondafc01702769ab4524a15cea8dad87138e"
  },
  "language_info": {
   "codemirror_mode": {
    "name": "ipython",
    "version": 3
   },
   "file_extension": ".py",
   "mimetype": "text/x-python",
   "name": "python",
   "nbconvert_exporter": "python",
   "pygments_lexer": "ipython3",
   "version": "3.8.2"
  }
 },
 "nbformat": 4,
 "nbformat_minor": 4
}
