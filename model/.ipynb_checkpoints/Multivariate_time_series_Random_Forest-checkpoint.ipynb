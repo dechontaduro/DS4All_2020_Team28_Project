{
 "cells": [
  {
   "attachments": {
    "ds4a_colombia.svg": {
     "image/svg+xml": [
      "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"
     ]
    }
   },
   "cell_type": "markdown",
   "metadata": {},
   "source": [
    "![ds4a_colombia.svg](attachment:ds4a_colombia.svg)"
   ]
  },
  {
   "cell_type": "markdown",
   "metadata": {},
   "source": [
    "# Impacto de la deforestación en el regimen de caudales de los rios en Colombia (TEAM 28)"
   ]
  },
  {
   "cell_type": "markdown",
   "metadata": {},
   "source": [
    "## Multivariate time series forecasting"
   ]
  },
  {
   "cell_type": "markdown",
   "metadata": {},
   "source": [
    "Sources :\n",
    "\n",
    "https://towardsdatascience.com/vector-autoregressions-vector-error-correction-multivariate-model-a69daf6ab618\n",
    "\n",
    "https://towardsdatascience.com/pairs-trading-with-cryptocurrencies-e79b4a00b015"
   ]
  },
  {
   "cell_type": "markdown",
   "metadata": {},
   "source": [
    "### Libraries"
   ]
  },
  {
   "cell_type": "code",
   "execution_count": null,
   "metadata": {},
   "outputs": [],
   "source": [
    "import seaborn as sns\n",
    "from sklearn.preprocessing import StandardScaler,MinMaxScaler\n",
    "from sklearn.ensemble import RandomForestRegressor\n",
    "\n",
    "import numpy as np\n",
    "import pandas as pd\n",
    "import sklearn.metrics as skm\n",
    "\n",
    "import matplotlib.pyplot as plt\n",
    "from matplotlib.pyplot import figure\n",
    "figure(num = None, figsize = (15, 12), dpi = 80, facecolor = 'w', edgecolor = 'k')\n",
    "plt.rcParams.update({'font.size': 16, 'figure.figsize': (15, 10), \n",
    "                     'figure.max_open_warning': 200})"
   ]
  },
  {
   "cell_type": "code",
   "execution_count": null,
   "metadata": {},
   "outputs": [],
   "source": [
    "def table2lags(table, max_lag, min_lag=0, separator='_'):\n",
    "    \"\"\" Given a dataframe, return a dataframe with different lags of all its columns \"\"\"\n",
    "    values=[]\n",
    "    for i in range(min_lag, max_lag + 1):\n",
    "        values.append(table.shift(i).copy())\n",
    "        values[-1].columns = [c + separator + str(i) for c in table.columns]\n",
    "    return pd.concat(values, axis=1)"
   ]
  },
  {
   "cell_type": "code",
   "execution_count": null,
   "metadata": {},
   "outputs": [],
   "source": [
    "print(plt.rcParams.keys())"
   ]
  },
  {
   "cell_type": "markdown",
   "metadata": {},
   "source": [
    "### Read Data"
   ]
  },
  {
   "cell_type": "code",
   "execution_count": null,
   "metadata": {},
   "outputs": [],
   "source": [
    "macrodata = pd.read_csv('../data/matrix/matrix_consol_v2.zip')\n",
    "\n",
    "macrodata.head(10)"
   ]
  },
  {
   "cell_type": "code",
   "execution_count": null,
   "metadata": {},
   "outputs": [],
   "source": [
    "is_stationary = pd.read_csv('../model/mc_stationary.csv')\n",
    "\n",
    "is_stationary.fillna(value = 0, inplace = True)\n",
    "\n",
    "is_stationary = is_stationary.astype('int')\n",
    "\n",
    "is_stationary.head(10)"
   ]
  },
  {
   "cell_type": "code",
   "execution_count": null,
   "metadata": {},
   "outputs": [],
   "source": [
    "mcs = macrodata['mc'].unique()\n",
    "mcs.sort()\n",
    "\n",
    "print(mcs)"
   ]
  },
  {
   "cell_type": "code",
   "execution_count": null,
   "metadata": {},
   "outputs": [],
   "source": [
    "dates = pd.DataFrame(pd.date_range('2018-01-01','2019-12-31' , freq='1M') - \n",
    "             pd.offsets.MonthBegin(1))\n",
    "dates.columns = ['date']\n",
    "\n",
    "dates['year'] = pd.DatetimeIndex(dates['date']).year\n",
    "dates['month'] = pd.DatetimeIndex(dates['date']).month\n",
    "\n",
    "dates.head()"
   ]
  },
  {
   "cell_type": "markdown",
   "metadata": {},
   "source": [
    "### Process for all Macro basins (Version 1 : Without hyperparameter tuning)"
   ]
  },
  {
   "cell_type": "code",
   "execution_count": null,
   "metadata": {},
   "outputs": [],
   "source": [
    "nobs = 24 # 24 meses para test\n",
    "\n",
    "RFR_metrics = pd.DataFrame()\n",
    "RFR_prediction = pd.DataFrame()\n",
    "\n",
    "for i in mcs:\n",
    "    \n",
    "    print('\\n==================================================================')\n",
    "    print('MC = %s' % i)\n",
    "    print('====================================================================\\n')\n",
    "    \n",
    "    temp_df = macrodata[macrodata['mc'] == i].copy().reset_index(drop = True)\n",
    "    temp_df['v_loss_cover_10k'] = temp_df['v_loss_cover'] * 10000\n",
    "    X = table2lags(temp_df[['v_loss_cover_10k', 'v_rainfall_total']], 2)\n",
    "    X.fillna(0.00, inplace=True)\n",
    "\n",
    "    X_train = X.iloc[0:-nobs].reset_index(drop = True)\n",
    "    y_train = temp_df[0:-nobs]['v_flow_mean'].reset_index(drop = True)\n",
    "\n",
    "    X_test = X.iloc[-nobs:].reset_index(drop = True)\n",
    "    X_test_org = temp_df.iloc[-nobs:].reset_index(drop = True)\n",
    "    y_test = temp_df[-nobs:]['v_flow_mean'].reset_index(drop = True)\n",
    "\n",
    "#     print('\\n== X train ==========================================================')\n",
    "#     print(X_train.head())\n",
    "#     print('\\n== y train ==========================================================')\n",
    "#     print(y_train.head())\n",
    "#     print('\\n== X test ==========================================================')\n",
    "#     print(X_test.head())\n",
    "#     print('\\n== y test ==========================================================')\n",
    "#     print(y_test.head())\n",
    "#     print('=====================================================================\\n')\n",
    "    \n",
    "    rfR = RandomForestRegressor(n_estimators = 200, max_depth = 100, criterion = 'mse', \n",
    "                                random_state = 42, verbose = 0, \n",
    "                                n_jobs = 5).fit(X_train, y_train)\n",
    "    \n",
    "#     print(rfR)\n",
    "    \n",
    "    rfR.score(X_test,y_test)\n",
    "\n",
    "    df_forecast = pd.DataFrame({'v_flow_mean_mean': rfR.predict(X_test)})\n",
    "    df_forecast.reset_index(drop = True, inplace = True)\n",
    "\n",
    "    df_forecast = pd.concat([y_test, df_forecast], axis = 1)\n",
    "    df_forecast.reset_index(drop = True, inplace = True)\n",
    "    \n",
    "    forecast_errors = [df_forecast.v_flow_mean.iloc[j] - df_forecast.v_flow_mean_mean.iloc[j] \n",
    "                       for j in range(nobs)]\n",
    "    bias = sum(forecast_errors) * 1.0 / (nobs)\n",
    "#     print('Bias : %f' % bias)\n",
    "\n",
    "    mae = skm.mean_absolute_error(df_forecast.v_flow_mean, df_forecast.v_flow_mean_mean)\n",
    "#     print('MAE : %f' % mae)\n",
    "\n",
    "    mse = skm.mean_squared_error(df_forecast.v_flow_mean, df_forecast.v_flow_mean_mean)\n",
    "    rmse = np.sqrt(mse)\n",
    "#     print('MSE : %f' % mse)\n",
    "#     print('RMSE : %f' % rmse) \n",
    "    \n",
    "    X_test_org.drop(columns = ['v_flow_mean'], inplace = True)\n",
    "    \n",
    "    df_forecast = pd.concat([X_test_org, df_forecast], axis = 1)\n",
    "    df_forecast.drop(columns = ['v_temperature_mean', 'v_loss_cover_10k'], inplace = True)\n",
    "    df_forecast.reset_index(drop = True, inplace = True)\n",
    "\n",
    "    df_forecast = df_forecast[['date', 'year', 'month', 'mc', 'v_flow_mean_mean', \n",
    "                               'v_flow_mean', 'v_loss_cover', 'v_rainfall_total']]\n",
    "\n",
    "    print('\\n== y predict =======================================================')\n",
    "    print(df_forecast.head())\n",
    "    print('=====================================================================\\n')\n",
    "    \n",
    "    metrics = [i, bias, mae, mse, rmse]\n",
    "    metrics = pd.DataFrame([metrics], columns = ['mc', 'Bias', 'MAE', 'MSE', 'RMSE'])\n",
    "    \n",
    "    print('\\n== Metrics =======================================================')\n",
    "    print(metrics.head())\n",
    "    print('==================================================================\\n')\n",
    "    \n",
    "    RFR_metrics = pd.concat([RFR_metrics, metrics], axis = 0)\n",
    "    RFR_prediction = pd.concat([RFR_prediction, df_forecast], axis = 0)  "
   ]
  },
  {
   "cell_type": "code",
   "execution_count": null,
   "metadata": {},
   "outputs": [],
   "source": [
    "RFR_metrics.to_csv('../model/RFR_results_v1.csv', index = False)\n",
    "RFR_metrics.head()"
   ]
  },
  {
   "cell_type": "code",
   "execution_count": null,
   "metadata": {},
   "outputs": [],
   "source": [
    "RFR_prediction['v_flow_mean_mean'] = RFR_prediction['v_flow_mean_mean'].apply(lambda x: \n",
    "                                                                              0.01 if x <= 0 \n",
    "                                                                              else x)\n",
    "RFR_prediction.to_csv('../model/RFR_predictions_v1.csv', index = False)\n",
    "\n",
    "RFR_prediction.head()"
   ]
  },
  {
   "cell_type": "markdown",
   "metadata": {},
   "source": [
    "---------------------------"
   ]
  },
  {
   "cell_type": "markdown",
   "metadata": {},
   "source": [
    "### Process for all Macro basins (Version 1 : Without hyperparameter tuning - Prediction 2020 2021 )"
   ]
  },
  {
   "cell_type": "markdown",
   "metadata": {},
   "source": [
    "#### Read scenarios for independent variables"
   ]
  },
  {
   "cell_type": "code",
   "execution_count": null,
   "metadata": {},
   "outputs": [],
   "source": [
    "scenarios = pd.read_excel('../data/matrix/Esc_Predicciones_longitudinal.xlsx')\n",
    "\n",
    "scenarios['v_flow_mean'] = 0\n",
    "\n",
    "scenarios = scenarios[['date', 'mc', 'v_flow_mean', 'v_loss_cover', 'v_rainfall_total', \n",
    "                       'scenario']]\n",
    "\n",
    "scenarios.head(10)"
   ]
  },
  {
   "cell_type": "code",
   "execution_count": null,
   "metadata": {},
   "outputs": [],
   "source": [
    "dates = pd.DataFrame(pd.date_range('2020-01-01','2021-12-31' , freq='1M') - \n",
    "             pd.offsets.MonthBegin(1))\n",
    "dates.columns = ['date']\n",
    "\n",
    "dates['year'] = pd.DatetimeIndex(dates['date']).year\n",
    "dates['month'] = pd.DatetimeIndex(dates['date']).month\n",
    "\n",
    "dates.head()"
   ]
  },
  {
   "cell_type": "code",
   "execution_count": null,
   "metadata": {},
   "outputs": [],
   "source": [
    "escen = scenarios['scenario'].unique()\n",
    "\n",
    "nobs = 24 # 24 meses para test\n",
    "\n",
    "RFR_prediction = pd.DataFrame()\n",
    "\n",
    "for j in escen:\n",
    "   \n",
    "    print('Escenario :', j, '\\n')\n",
    "    \n",
    "    data_test_predict = scenarios[scenarios['scenario'] == j]\n",
    "\n",
    "    for i in mcs:\n",
    "    \n",
    "        print('\\n==================================================================')\n",
    "        print('MC = %s' % i)\n",
    "        print('====================================================================\\n')\n",
    "\n",
    "        temp_df = macrodata[macrodata['mc'] == i].copy().reset_index(drop = True)\n",
    "        temp_df['v_loss_cover_10k'] = temp_df['v_loss_cover'] * 10000\n",
    "       \n",
    "        X = table2lags(temp_df[['v_loss_cover_10k', 'v_rainfall_total']], 2)\n",
    "        X.fillna(0.00, inplace=True)\n",
    "\n",
    "        X_train = X.reset_index(drop = True)\n",
    "        y_train = temp_df['v_flow_mean'].reset_index(drop = True)\n",
    "\n",
    "        X_test = data_test_predict[data_test_predict['mc'] == i].reset_index(drop = True)\n",
    "        X_test['v_loss_cover_10k'] = X_test['v_loss_cover'] * 10000\n",
    "        y_test = X_test['v_flow_mean'].reset_index(drop = True)\n",
    "        \n",
    "        # =======================================================================\n",
    "        # Generamos la variable v_rainfall_total de manera aleatoria para pruebas\n",
    "        # =======================================================================\n",
    "#         X_test['v_rainfall_total'] = np.around(\n",
    "#             np.random.uniform(X_test['v_rainfall_total'].min(), \n",
    "#                               X_test['v_rainfall_total'].max(), size = nobs),4)\n",
    "#         print(X_test['v_rainfall_total'].min(), X_test['v_rainfall_total'].max())\n",
    "        # =======================================================================\n",
    "        \n",
    "        X_test_org = X_test\n",
    "                \n",
    "        X_test = table2lags(X_test[['v_loss_cover_10k', 'v_rainfall_total']], 2)\n",
    "        X_test.fillna(0.00, inplace=True)\n",
    "\n",
    "        rfR = RandomForestRegressor(n_estimators = 200, max_depth = 100, criterion = 'mse', \n",
    "                                    random_state = 42, verbose = 0, \n",
    "                                    n_jobs = 5).fit(X_train, y_train)\n",
    "\n",
    "        rfR.score(X_test,y_test)\n",
    "        \n",
    "        df_forecast = pd.DataFrame({'v_flow_mean_forecast': rfR.predict(X_test)})\n",
    "        df_forecast.reset_index(drop = True, inplace = True)\n",
    "        \n",
    "        df_forecast = pd.concat([X_test_org, df_forecast], axis = 1)\n",
    "        df_forecast.drop(columns = ['v_flow_mean', 'v_loss_cover_10k'], inplace = True)\n",
    "        \n",
    "        RFR_prediction = pd.concat([RFR_prediction, df_forecast], axis = 0)\n",
    "        \n",
    "RFR_prediction.head()"
   ]
  },
  {
   "cell_type": "code",
   "execution_count": null,
   "metadata": {},
   "outputs": [],
   "source": [
    "# Temporal con valores aleatorios en v_rainfall_total\n",
    "\n",
    "# RFR_prediction['v_flow_mean_forecast'] = RFR_prediction['v_flow_mean_forecast'].apply(lambda x: \n",
    "#                                                                               0.01 if x <= 0 \n",
    "#                                                                               else x)\n",
    "# RFR_prediction.to_csv('../model/RFR_forecast_2020_2021_temp.csv', index = False)"
   ]
  },
  {
   "cell_type": "code",
   "execution_count": null,
   "metadata": {},
   "outputs": [],
   "source": [
    "# RFR_prediction['v_flow_mean_forecast'] = RFR_prediction['v_flow_mean_forecast'].apply(lambda x: \n",
    "#                                                                               0.01 if x <= 0 \n",
    "#                                                                               else x)\n",
    "RFR_prediction.to_csv('../model/RFR_forecast_2020_2021.csv', index = False)"
   ]
  },
  {
   "cell_type": "markdown",
   "metadata": {},
   "source": [
    "---------------------------"
   ]
  },
  {
   "cell_type": "markdown",
   "metadata": {},
   "source": [
    "### Process for all Macro basins (Version 2 : Without hyperparameter tuning - with stationary treatement)"
   ]
  },
  {
   "cell_type": "code",
   "execution_count": null,
   "metadata": {},
   "outputs": [],
   "source": [
    "nobs = 24 # 24 meses para test\n",
    "\n",
    "RFR_metrics = pd.DataFrame()\n",
    "RFR_prediction = pd.DataFrame()\n",
    "\n",
    "for i in mcs:\n",
    "    \n",
    "    print('\\n==================================================================')\n",
    "    print('MC = %s' % i)\n",
    "    print('====================================================================\\n')\n",
    "    \n",
    "    temp_df = macrodata[macrodata['mc'] == i].copy().reset_index(drop = True)\n",
    "    temp_df['v_loss_cover_10k'] = temp_df['v_loss_cover'] * 10000\n",
    "    X = table2lags(temp_df[['v_loss_cover_10k', 'v_rainfall_total']], 2)\n",
    "    X.fillna(0.00, inplace=True)\n",
    "\n",
    "    X_train = X.iloc[0:-nobs].reset_index(drop = True)\n",
    "    y_train = temp_df[0:-nobs]['v_flow_mean'].reset_index(drop = True)\n",
    "    y_train = np.log(y_train + 0.001)\n",
    "\n",
    "    X_test = X.iloc[-nobs:].reset_index(drop = True)\n",
    "    X_test_org = temp_df.iloc[-nobs:].reset_index(drop = True)\n",
    "    y_test = temp_df[-nobs:]['v_flow_mean'].reset_index(drop = True)\n",
    "    y_test = np.log(y_test + 0.001)\n",
    "\n",
    "#     print('\\n== X train ==========================================================')\n",
    "#     print(X_train.head())\n",
    "#     print('\\n== y train ==========================================================')\n",
    "#     print(y_train.head())\n",
    "#     print('\\n== X test ==========================================================')\n",
    "#     print(X_test.head())\n",
    "#     print('\\n== y test ==========================================================')\n",
    "#     print(y_test.head())\n",
    "#     print('=====================================================================\\n')\n",
    "    \n",
    "    rfR = RandomForestRegressor(n_estimators = 200, max_depth = 100, criterion = 'mse', \n",
    "                                random_state = 42, verbose = 0, \n",
    "                                n_jobs = 5).fit(X_train, y_train)\n",
    "    \n",
    "#     print(rfR)\n",
    "    \n",
    "    rfR.score(X_test,y_test)\n",
    "\n",
    "    df_forecast = pd.DataFrame({'v_flow_mean_mean': rfR.predict(X_test)})\n",
    "    df_forecast.reset_index(drop = True, inplace = True)\n",
    "    df_forecast['v_flow_mean_mean'] = np.exp(df_forecast['v_flow_mean_mean'])\n",
    "\n",
    "    df_forecast = pd.concat([y_test, df_forecast], axis = 1)\n",
    "    df_forecast['v_flow_mean'] = np.exp(df_forecast['v_flow_mean'])\n",
    "    df_forecast.reset_index(drop = True, inplace = True)\n",
    "    \n",
    "#     print(df_forecast.head())\n",
    "    \n",
    "    forecast_errors = [df_forecast.v_flow_mean.iloc[j] - df_forecast.v_flow_mean_mean.iloc[j] \n",
    "                       for j in range(nobs)]\n",
    "    bias = sum(forecast_errors) * 1.0 / (nobs)\n",
    "#     print('Bias : %f' % bias)\n",
    "\n",
    "    mae = skm.mean_absolute_error(df_forecast.v_flow_mean, df_forecast.v_flow_mean_mean)\n",
    "#     print('MAE : %f' % mae)\n",
    "\n",
    "    mse = skm.mean_squared_error(df_forecast.v_flow_mean, df_forecast.v_flow_mean_mean)\n",
    "    rmse = np.sqrt(mse)\n",
    "#     print('MSE : %f' % mse)\n",
    "#     print('RMSE : %f' % rmse) \n",
    "    \n",
    "    X_test_org.drop(columns = ['v_flow_mean'], inplace = True)\n",
    "    \n",
    "    df_forecast = pd.concat([X_test_org, df_forecast], axis = 1)\n",
    "    df_forecast.drop(columns = ['v_temperature_mean', 'v_loss_cover_10k'], inplace = True)\n",
    "    df_forecast.reset_index(drop = True, inplace = True)\n",
    "#     df_forecast.drop(columns = ['v_flow_mean'], inplace = True)\n",
    "\n",
    "    df_forecast = df_forecast[['date', 'year', 'month', 'mc', 'v_flow_mean_mean', \n",
    "                               'v_flow_mean', 'v_loss_cover', 'v_rainfall_total']]\n",
    "\n",
    "    print('\\n== y predict =======================================================')\n",
    "    print(df_forecast.head())\n",
    "    print('=====================================================================\\n')\n",
    "    \n",
    "    metrics = [i, bias, mae, mse, rmse]\n",
    "    metrics = pd.DataFrame([metrics], columns = ['mc', 'Bias', 'MAE', 'MSE', 'RMSE'])\n",
    "    \n",
    "    print('\\n== Metrics =======================================================')\n",
    "    print(metrics.head())\n",
    "    print('==================================================================\\n')\n",
    "    \n",
    "    RFR_metrics = pd.concat([RFR_metrics, metrics], axis = 0)\n",
    "    RFR_prediction = pd.concat([RFR_prediction, df_forecast], axis = 0)  "
   ]
  },
  {
   "cell_type": "code",
   "execution_count": null,
   "metadata": {},
   "outputs": [],
   "source": [
    "RFR_metrics.to_csv('../model/RFR_results_v2.csv', index = False)\n",
    "RFR_metrics.head()"
   ]
  },
  {
   "cell_type": "code",
   "execution_count": null,
   "metadata": {},
   "outputs": [],
   "source": [
    "RFR_prediction['v_flow_mean_mean'] = RFR_prediction['v_flow_mean_mean'].apply(lambda x: \n",
    "                                                                              0.01 if x <= 0 \n",
    "                                                                              else x)\n",
    "RFR_prediction.to_csv('../model/RFR_predictions_v2.csv', index = False)\n",
    "\n",
    "RFR_prediction.head()"
   ]
  },
  {
   "cell_type": "markdown",
   "metadata": {},
   "source": [
    "---------------------------"
   ]
  }
 ],
 "metadata": {
  "kernelspec": {
   "display_name": "Python 3.8.2 64-bit ('ds4a': conda)",
   "language": "python",
   "name": "python38264bitds4acondafc01702769ab4524a15cea8dad87138e"
  },
  "language_info": {
   "codemirror_mode": {
    "name": "ipython",
    "version": 3
   },
   "file_extension": ".py",
   "mimetype": "text/x-python",
   "name": "python",
   "nbconvert_exporter": "python",
   "pygments_lexer": "ipython3",
   "version": "3.8.2"
  }
 },
 "nbformat": 4,
 "nbformat_minor": 4
}
