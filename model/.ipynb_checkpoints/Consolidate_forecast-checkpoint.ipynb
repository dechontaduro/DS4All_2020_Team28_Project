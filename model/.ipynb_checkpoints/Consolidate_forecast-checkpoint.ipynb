{
 "cells": [
  {
   "attachments": {
    "ds4a_colombia.svg": {
     "image/svg+xml": [
      "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"
     ]
    }
   },
   "cell_type": "markdown",
   "metadata": {},
   "source": [
    "![ds4a_colombia.svg](attachment:ds4a_colombia.svg)"
   ]
  },
  {
   "cell_type": "markdown",
   "metadata": {},
   "source": [
    "# Impacto de la deforestación en el regimen de caudales de los rios en Colombia (TEAM 28)"
   ]
  },
  {
   "cell_type": "markdown",
   "metadata": {},
   "source": [
    "## Read individual files"
   ]
  },
  {
   "cell_type": "code",
   "execution_count": null,
   "metadata": {},
   "outputs": [],
   "source": [
    "import numpy as np\n",
    "import pandas as pd\n",
    "\n",
    "import matplotlib.pyplot as plt\n",
    "from matplotlib.pyplot import figure\n",
    "figure(num = None, figsize = (15, 12), dpi = 80, facecolor = 'w', edgecolor = 'k')\n",
    "plt.rcParams.update({'font.size': 16, 'figure.figsize': (15, 3), \n",
    "                     'figure.max_open_warning': 2000})"
   ]
  },
  {
   "cell_type": "markdown",
   "metadata": {},
   "source": [
    "## Scenarios"
   ]
  },
  {
   "cell_type": "code",
   "execution_count": null,
   "metadata": {},
   "outputs": [],
   "source": [
    "scenarios = pd.read_excel('../data/matrix/Esc_Predicciones_longitudinal.xlsx')\n",
    "\n",
    "scenarios['v_flow_mean'] = 0\n",
    "\n",
    "scenarios = scenarios[['date', 'mc', 'v_flow_mean', 'v_loss_cover', 'v_rainfall_total', \n",
    "                       'scenario']]\n",
    "\n",
    "scenarios.head(10)"
   ]
  },
  {
   "cell_type": "code",
   "execution_count": null,
   "metadata": {},
   "outputs": [],
   "source": [
    "temp_df = scenarios.copy()\n",
    "\n",
    "mcs = temp_df['mc'].unique()\n",
    "escen = temp_df['scenario'].unique()\n",
    "\n",
    "for i in mcs:\n",
    "    for j in escen:\n",
    "        \n",
    "        df_v_loss_cover = temp_df[(temp_df['mc'] == i) & \n",
    "                                  (temp_df['scenario'] == j)][['date', 'v_loss_cover']]\n",
    "        df_v_loss_cover.reset_index(drop = True)\n",
    "        df_v_loss_cover.set_index(keys = 'date', drop = True)\n",
    "        \n",
    "        df_v_rainfall_total = temp_df[(temp_df['mc'] == i) & \n",
    "                                  (temp_df['scenario'] == j)][['date', 'v_rainfall_total']]\n",
    "        df_v_rainfall_total.reset_index(drop = True)\n",
    "        df_v_rainfall_total.set_index(keys = 'date', drop = True)        \n",
    "        \n",
    "        df_v_rainfall_total.plot(title = 'Esc : ' + str(j) + ' - MC : ' + str(i))"
   ]
  },
  {
   "cell_type": "markdown",
   "metadata": {},
   "source": [
    "## Model results"
   ]
  },
  {
   "cell_type": "code",
   "execution_count": null,
   "metadata": {},
   "outputs": [],
   "source": [
    "VAR = pd.read_csv('VAR_forecast_2020_2021.csv')\n",
    "\n",
    "VAR[['year','month']] = VAR.month_year.str.split(\"-\",expand=True)\n",
    "VAR = VAR.astype({'year': float, 'month': int})\n",
    "\n",
    "VAR['date'] = pd.to_datetime(dict(year = VAR.year, month = VAR.month, day = 1))\n",
    "\n",
    "VAR = VAR[['date', 'year', 'month', 'basin', 'v_flow_mean_forecast', \n",
    "           'v_loss_cover', 'v_rainfall_total', 'scenario']]\n",
    "\n",
    "VAR.rename(columns={'basin':'mc', 'v_loss_cover':'v_loss_cover_assum', \n",
    "                    'v_rainfall_total': 'v_rainfall_total_assum',\n",
    "                    'v_flow_mean_forecast': 'v_flow_mean_pred'}, inplace=True)\n",
    "\n",
    "VAR['model_type'] = 'VAR'\n",
    "\n",
    "VAR[['tmp1', 'loss_cover_scenario', \n",
    "     'tmp2', 'climate_change_scenario',]] = VAR.scenario.str.split(\"_\",expand=True)\n",
    "\n",
    "VAR.drop(columns = ['tmp1', 'tmp2'], inplace = True)\n",
    "\n",
    "VAR.head()"
   ]
  },
  {
   "cell_type": "code",
   "execution_count": null,
   "metadata": {},
   "outputs": [],
   "source": [
    "LSTM = pd.read_csv('LSTM_forecast_2020_2021.csv')\n",
    "\n",
    "LSTM[['year','month']] = LSTM.month_year.str.split(\"-\",expand=True)\n",
    "LSTM = LSTM.astype({'year': float, 'month': int})\n",
    "\n",
    "LSTM['date'] = pd.to_datetime(dict(year = LSTM.year, month = LSTM.month, day = 1))\n",
    "\n",
    "LSTM = LSTM[['date', 'year', 'month', 'basin', 'v_flow_mean_forecast', \n",
    "           'v_loss_cover', 'v_rainfall_total', 'scenario']]\n",
    "\n",
    "LSTM.rename(columns={'basin':'mc', 'v_loss_cover':'v_loss_cover_assum', \n",
    "                    'v_rainfall_total': 'v_rainfall_total_assum',\n",
    "                    'v_flow_mean_forecast': 'v_flow_mean_pred'}, inplace=True)\n",
    "\n",
    "LSTM['model_type'] = 'LSTM'\n",
    "\n",
    "LSTM[['tmp1', 'loss_cover_scenario', \n",
    "     'tmp2', 'climate_change_scenario',]] = LSTM.scenario.str.split(\"_\",expand=True)\n",
    "\n",
    "LSTM.drop(columns = ['tmp1', 'tmp2'], inplace = True)\n",
    "\n",
    "LSTM.head()"
   ]
  },
  {
   "cell_type": "code",
   "execution_count": null,
   "metadata": {},
   "outputs": [],
   "source": [
    "RFR = pd.read_csv('RFR_forecast_2020_2021.csv')\n",
    "\n",
    "RFR['model_type'] = 'RandomForest'\n",
    "\n",
    "RFR[['tmp1', 'loss_cover_scenario', 'tmp2', \n",
    "     'climate_change_scenario',]] = RFR.scenario.str.split(\"_\",expand=True)\n",
    "\n",
    "RFR['year'] = pd.DatetimeIndex(RFR['date']).year\n",
    "RFR['month'] = pd.DatetimeIndex(RFR['date']).month\n",
    "\n",
    "RFR.rename(columns = {'v_loss_cover':'v_loss_cover_assum', \n",
    "                      'v_rainfall_total': 'v_rainfall_total_assum',\n",
    "                      'v_flow_mean_forecast': 'v_flow_mean_pred'}, inplace=True)\n",
    "\n",
    "RFR.drop(columns = ['tmp1', 'tmp2'], inplace = True)\n",
    "\n",
    "RFR = RFR[['date', 'year', 'month', 'mc', 'v_flow_mean_pred', 'v_loss_cover_assum', \n",
    "           'v_rainfall_total_assum', 'scenario', 'model_type', 'loss_cover_scenario', \n",
    "           'climate_change_scenario']]\n",
    "\n",
    "RFR.head()"
   ]
  },
  {
   "cell_type": "code",
   "execution_count": null,
   "metadata": {},
   "outputs": [],
   "source": [
    "VECM = pd.read_csv('VECM_forecast_2020_2021.csv')\n",
    "\n",
    "VECM['model_type'] = 'VECM'\n",
    "\n",
    "VECM[['tmp1', 'loss_cover_scenario', \n",
    "      'tmp2', 'climate_change_scenario',]] = VECM.scenario.str.split(\"_\",expand=True)\n",
    "\n",
    "VECM.rename(columns = {'v_loss_cover':'v_loss_cover_assum', \n",
    "                       'v_rainfall_total': 'v_rainfall_total_assum',\n",
    "                       'v_flow_mean_forecast': 'v_flow_mean_pred'}, inplace=True)\n",
    "\n",
    "VECM.drop(columns = ['tmp1', 'tmp2'], inplace = True)\n",
    "\n",
    "VECM.head()"
   ]
  },
  {
   "cell_type": "code",
   "execution_count": null,
   "metadata": {},
   "outputs": [],
   "source": [
    "XGB = pd.read_csv('XGB_forecast_2020_2021.csv')\n",
    "\n",
    "XGB['model_type'] = 'XGBoost'\n",
    "\n",
    "XGB[['tmp1', 'loss_cover_scenario', \n",
    "      'tmp2', 'climate_change_scenario',]] = XGB.scenario.str.split(\"_\",expand=True)\n",
    "\n",
    "XGB.rename(columns = {'v_loss_cover':'v_loss_cover_assum', \n",
    "                       'v_rainfall_total': 'v_rainfall_total_assum',\n",
    "                       'v_flow_mean_forecast': 'v_flow_mean_pred'}, inplace=True)\n",
    "\n",
    "XGB.drop(columns = ['tmp1', 'tmp2'], inplace = True)\n",
    "\n",
    "XGB.head()"
   ]
  },
  {
   "cell_type": "markdown",
   "metadata": {},
   "source": [
    "## Consolidate forecast"
   ]
  },
  {
   "cell_type": "code",
   "execution_count": null,
   "metadata": {},
   "outputs": [],
   "source": [
    "forecast = pd.concat([VAR, VECM, RFR, XGB, LSTM], axis = 0)\n",
    "\n",
    "forecast['model_optimum'] = 1\n",
    "\n",
    "forecast = forecast[['mc', 'date', 'year', 'month', 'model_type', 'climate_change_scenario', \n",
    "                     'loss_cover_scenario', 'model_optimum', 'v_flow_mean_pred',\n",
    "                     'v_loss_cover_assum', 'v_rainfall_total_assum']]\n",
    "\n",
    "forecast.head()"
   ]
  },
  {
   "cell_type": "code",
   "execution_count": null,
   "metadata": {},
   "outputs": [],
   "source": [
    "forecast.to_csv('../model/forecast_2020_2021.csv', index = False)"
   ]
  },
  {
   "cell_type": "code",
   "execution_count": null,
   "metadata": {},
   "outputs": [],
   "source": []
  }
 ],
 "metadata": {
  "kernelspec": {
   "display_name": "Python 3.8.2 64-bit ('ds4a': conda)",
   "language": "python",
   "name": "python38264bitds4acondafc01702769ab4524a15cea8dad87138e"
  },
  "language_info": {
   "codemirror_mode": {
    "name": "ipython",
    "version": 3
   },
   "file_extension": ".py",
   "mimetype": "text/x-python",
   "name": "python",
   "nbconvert_exporter": "python",
   "pygments_lexer": "ipython3",
   "version": "3.8.2"
  }
 },
 "nbformat": 4,
 "nbformat_minor": 4
}
